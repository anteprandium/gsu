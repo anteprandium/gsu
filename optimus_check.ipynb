{
 "cells": [
  {
   "cell_type": "markdown",
   "metadata": {},
   "source": [
    "# Algunas comprobaciones de GSU (de UWZ)\n",
    "\n",
    "\n"
   ]
  },
  {
   "cell_type": "code",
   "execution_count": 2,
   "metadata": {
    "collapsed": false
   },
   "outputs": [],
   "source": [
    "%load_ext sage"
   ]
  },
  {
   "cell_type": "code",
   "execution_count": 13,
   "metadata": {
    "collapsed": false
   },
   "outputs": [],
   "source": [
    "%run ipproblem"
   ]
  },
  {
   "cell_type": "code",
   "execution_count": null,
   "metadata": {
    "collapsed": false
   },
   "outputs": [],
   "source": []
  },
  {
   "cell_type": "markdown",
   "metadata": {},
   "source": [
    "Problemas de Ucha"
   ]
  },
  {
   "cell_type": "code",
   "execution_count": null,
   "metadata": {
    "collapsed": false
   },
   "outputs": [],
   "source": []
  },
  {
   "cell_type": "code",
   "execution_count": 28,
   "metadata": {
    "collapsed": false
   },
   "outputs": [],
   "source": [
    "P1=IPProblem(c=[3, 4, 3, 6, 3],\n",
    "            A=[[3, 2, 1, 5, 7]], \n",
    "            b=[4], u=[1,1,1,1,1] )"
   ]
  },
  {
   "cell_type": "code",
   "execution_count": 29,
   "metadata": {
    "collapsed": false
   },
   "outputs": [
    {
     "name": "stdout",
     "output_type": "stream",
     "text": [
      "Integer programming problem\n",
      "    max\\{c.x : A x <= b,  0<=x<=u\\}\n",
      "with\n",
      "c=(3, 4, 3, 6, 3),\n",
      "A=\n",
      "[3 2 1 5 7],\n",
      "b=(4),\n",
      "u=(1, 1, 1, 1, 1).\n"
     ]
    }
   ],
   "source": [
    "print P1"
   ]
  },
  {
   "cell_type": "code",
   "execution_count": 30,
   "metadata": {
    "collapsed": false
   },
   "outputs": [
    {
     "data": {
      "text/plain": [
       "[(1, 0, 0, 0, 0),\n",
       " (0, 1, 0, 0, 0),\n",
       " (0, 0, 1, 0, 0),\n",
       " (-1, 1, 0, 0, 0),\n",
       " (1, 0, -1, 0, 0),\n",
       " (0, 1, -1, 0, 0)]"
      ]
     },
     "execution_count": 30,
     "metadata": {},
     "output_type": "execute_result"
    }
   ],
   "source": [
    "P1.minimal_test_set()"
   ]
  },
  {
   "cell_type": "code",
   "execution_count": 31,
   "metadata": {
    "collapsed": false
   },
   "outputs": [],
   "source": [
    "#P.test_set_non_reducibles()"
   ]
  },
  {
   "cell_type": "code",
   "execution_count": 32,
   "metadata": {
    "collapsed": false
   },
   "outputs": [],
   "source": [
    "#%timeit -n100 P.groebner_simple()"
   ]
  },
  {
   "cell_type": "code",
   "execution_count": 33,
   "metadata": {
    "collapsed": false
   },
   "outputs": [],
   "source": [
    "#%timeit -n100 P.groebner_with_reduction()"
   ]
  },
  {
   "cell_type": "code",
   "execution_count": 34,
   "metadata": {
    "collapsed": false
   },
   "outputs": [],
   "source": [
    "#%timeit -n100 P.groebner_reduced()"
   ]
  },
  {
   "cell_type": "code",
   "execution_count": 35,
   "metadata": {
    "collapsed": false
   },
   "outputs": [],
   "source": [
    "#%timeit -n100 P.groebner_non_reducibles()"
   ]
  },
  {
   "cell_type": "code",
   "execution_count": 36,
   "metadata": {
    "collapsed": false
   },
   "outputs": [
    {
     "data": {
      "text/plain": [
       "[(0, 0, 0, 0, 0), (0, 1, 0, 0, 0), (0, 1, 1, 0, 0)]"
      ]
     },
     "execution_count": 36,
     "metadata": {},
     "output_type": "execute_result"
    }
   ],
   "source": [
    "P1.walk_to_best([0,0,0,0,0], path=True)"
   ]
  },
  {
   "cell_type": "code",
   "execution_count": 37,
   "metadata": {
    "collapsed": false
   },
   "outputs": [],
   "source": [
    "P2=IPProblem( c=[ 3, 4, 3, 6, 3], A=[[3,2,1,5,7]],b=[4])"
   ]
  },
  {
   "cell_type": "code",
   "execution_count": 38,
   "metadata": {
    "collapsed": false
   },
   "outputs": [
    {
     "data": {
      "text/plain": [
       "[(1, 0, 0, 0, 0),\n",
       " (0, 1, 0, 0, 0),\n",
       " (0, 0, 1, 0, 0),\n",
       " (-1, 1, 0, 0, 0),\n",
       " (1, 0, -1, 0, 0),\n",
       " (0, 1, -1, 0, 0),\n",
       " (-1, 0, 2, 0, 0),\n",
       " (0, -1, 2, 0, 0)]"
      ]
     },
     "execution_count": 38,
     "metadata": {},
     "output_type": "execute_result"
    }
   ],
   "source": [
    "P2.minimal_test_set()"
   ]
  },
  {
   "cell_type": "code",
   "execution_count": 39,
   "metadata": {
    "collapsed": false
   },
   "outputs": [
    {
     "data": {
      "text/plain": [
       "(0, 0, 4, 0, 0)"
      ]
     },
     "execution_count": 39,
     "metadata": {},
     "output_type": "execute_result"
    }
   ],
   "source": [
    "P2.walk_to_best(P2.get_feasible())"
   ]
  },
  {
   "cell_type": "markdown",
   "metadata": {
    "collapsed": false
   },
   "source": [
    "Generador de problemas."
   ]
  },
  {
   "cell_type": "code",
   "execution_count": 15,
   "metadata": {
    "collapsed": true
   },
   "outputs": [],
   "source": [
    "set_verbose(0)"
   ]
  },
  {
   "cell_type": "code",
   "execution_count": 16,
   "metadata": {
    "collapsed": false
   },
   "outputs": [
    {
     "name": "stdout",
     "output_type": "stream",
     "text": [
      "The sage extension is already loaded. To reload it, use:\n",
      "  %reload_ext sage\n"
     ]
    }
   ],
   "source": [
    "%load_ext sage"
   ]
  },
  {
   "cell_type": "code",
   "execution_count": 38,
   "metadata": {
    "collapsed": false
   },
   "outputs": [],
   "source": [
    "%run ipproblem.py"
   ]
  },
  {
   "cell_type": "code",
   "execution_count": null,
   "metadata": {
    "collapsed": true
   },
   "outputs": [],
   "source": []
  },
  {
   "cell_type": "code",
   "execution_count": 39,
   "metadata": {
    "collapsed": false
   },
   "outputs": [
    {
     "name": "stdout",
     "output_type": "stream",
     "text": [
      "Integer programming problem\n",
      "    max\\{c.x : A x <= b,  0<=x<=u\\}\n",
      "with\n",
      "c=(20, 63, 90, 47, 45, 28, 55, 68, 44, 64),\n",
      "A=\n",
      "[19 19 29 18 19 20 14 25 24 14],\n",
      "b=(65),\n",
      "u=(1, 1, 1, 1, 1, 1, 1, 1, 1, 1).\n"
     ]
    }
   ],
   "source": [
    "d=10\n",
    "c=random_vector(ZZ,d,x=10,y=100)\n",
    "A=random_matrix(ZZ, 1, d, x=10, y=30)\n",
    "b=[floor(mean(c)*1.25)]\n",
    "u=d*[1]\n",
    "P=IPProblem(c, A, b, u)\n",
    "print P"
   ]
  },
  {
   "cell_type": "code",
   "execution_count": 40,
   "metadata": {
    "collapsed": false
   },
   "outputs": [],
   "source": [
    "#%%prun \n",
    "#%%time\n",
    "\n",
    "P=IPProblem(c=(80, 39, 29, 61, 66, 74, 52, 29, 40, 62), \n",
    "            A=[[14, 20, 27, 10, 19, 14, 23, 18, 23, 20]], \n",
    "            b=[66],\n",
    "            u=(1, 1, 1, 1, 1, 1, 1, 1, 1, 1))\n",
    "\n",
    "L=P.minimal_test_set()\n"
   ]
  },
  {
   "cell_type": "code",
   "execution_count": 41,
   "metadata": {
    "collapsed": false
   },
   "outputs": [
    {
     "data": {
      "text/plain": [
       "((1, 0, 0, 1, 1, 1, 0, 0, 0, 0), 281)"
      ]
     },
     "execution_count": 41,
     "metadata": {},
     "output_type": "execute_result"
    }
   ],
   "source": [
    "x=P.walk_to_best(P.get_feasible())\n",
    "x, P.cost(x)"
   ]
  },
  {
   "cell_type": "code",
   "execution_count": 49,
   "metadata": {
    "collapsed": false
   },
   "outputs": [
    {
     "name": "stdout",
     "output_type": "stream",
     "text": [
      "verbose 2 (399: ipproblem.py, walkback) |S|=0\n",
      "verbose 2 (399: ipproblem.py, walkback) appending (1, 0, 0, 1, 0, 1, 0, 0, 0, 1)\n",
      "verbose 2 (399: ipproblem.py, walkback) appending (1, 0, 0, 1, 1, 0, 0, 0, 0, 1)\n",
      "verbose 2 (399: ipproblem.py, walkback) appending (1, 0, 0, 1, 0, 1, 1, 0, 0, 0)\n",
      "verbose 2 (399: ipproblem.py, walkback) appending (0, 0, 0, 1, 1, 1, 0, 0, 0, 1)\n",
      "verbose 2 (399: ipproblem.py, walkback) appending (1, 0, 0, 1, 1, 0, 1, 0, 0, 0)\n",
      "verbose 2 (399: ipproblem.py, walkback) appending (1, 0, 0, 1, 0, 1, 0, 0, 1, 0)\n",
      "verbose 2 (399: ipproblem.py, walkback) appending (1, 1, 0, 1, 0, 1, 0, 0, 0, 0)\n",
      "verbose 2 (399: ipproblem.py, walkback) appending (0, 0, 0, 1, 1, 1, 1, 0, 0, 0)\n",
      "verbose 2 (399: ipproblem.py, walkback) appending (1, 0, 0, 0, 1, 1, 0, 1, 0, 0)\n",
      "verbose 2 (399: ipproblem.py, walkback) appending (1, 0, 0, 1, 1, 0, 0, 0, 1, 0)\n",
      "verbose 2 (399: ipproblem.py, walkback) appending (1, 1, 0, 1, 1, 0, 0, 0, 0, 0)\n",
      "verbose 2 (399: ipproblem.py, walkback) appending (1, 0, 1, 1, 0, 1, 0, 0, 0, 0)\n",
      "verbose 2 (399: ipproblem.py, walkback) appending (1, 0, 0, 1, 0, 1, 0, 1, 0, 0)\n",
      "verbose 2 (399: ipproblem.py, walkback) appending (0, 0, 0, 1, 1, 1, 0, 0, 1, 0)\n",
      "verbose 2 (399: ipproblem.py, walkback) appending (0, 1, 0, 1, 1, 1, 0, 0, 0, 0)\n",
      "verbose 2 (399: ipproblem.py, walkback) appending (1, 0, 0, 1, 1, 0, 0, 1, 0, 0)\n",
      "verbose 2 (399: ipproblem.py, walkback) appending (0, 0, 0, 1, 1, 1, 0, 1, 0, 0)\n",
      "verbose 2 (399: ipproblem.py, walkback) appending (1, 0, 0, 0, 1, 1, 0, 0, 0, 0)\n",
      "verbose 2 (399: ipproblem.py, walkback) appending (1, 0, 0, 1, 0, 1, 0, 0, 0, 0)\n",
      "verbose 2 (399: ipproblem.py, walkback) appending (1, 0, 0, 1, 1, 0, 0, 0, 0, 0)\n",
      "verbose 2 (399: ipproblem.py, walkback) appending (0, 0, 0, 1, 1, 1, 0, 0, 0, 0)\n",
      "verbose 2 (399: ipproblem.py, walkback) |S|=20\n",
      "verbose 2 (399: ipproblem.py, walkback) appending (1, 0, 0, 0, 0, 1, 0, 1, 0, 1)\n",
      "verbose 2 (399: ipproblem.py, walkback) appending (1, 1, 0, 1, 0, 0, 0, 0, 0, 1)\n",
      "verbose 2 (399: ipproblem.py, walkback) appending (0, 1, 0, 1, 0, 1, 0, 0, 0, 1)\n",
      "verbose 2 (399: ipproblem.py, walkback) appending (1, 0, 0, 1, 0, 0, 0, 1, 0, 1)\n",
      "verbose 2 (399: ipproblem.py, walkback) appending (0, 0, 0, 1, 0, 1, 0, 1, 0, 1)\n",
      "verbose 2 (399: ipproblem.py, walkback) appending (1, 0, 0, 0, 0, 1, 0, 0, 0, 1)\n",
      "verbose 2 (399: ipproblem.py, walkback) appending (1, 0, 0, 1, 0, 0, 0, 0, 0, 1)\n",
      "verbose 2 (399: ipproblem.py, walkback) appending (0, 0, 0, 1, 0, 1, 0, 0, 0, 1)\n",
      "verbose 2 (399: ipproblem.py, walkback) |S|=27\n",
      "verbose 2 (399: ipproblem.py, walkback) appending (1, 0, 0, 0, 1, 0, 0, 0, 0, 1)\n",
      "verbose 2 (399: ipproblem.py, walkback) appending (0, 0, 0, 1, 1, 0, 0, 0, 0, 1)\n",
      "verbose 2 (399: ipproblem.py, walkback) |S|=28\n",
      "verbose 2 (399: ipproblem.py, walkback) appending (1, 0, 0, 1, 0, 0, 1, 1, 0, 0)\n",
      "verbose 2 (399: ipproblem.py, walkback) appending (0, 0, 0, 1, 0, 1, 1, 1, 0, 0)\n",
      "verbose 2 (399: ipproblem.py, walkback) appending (1, 0, 0, 0, 0, 1, 1, 0, 0, 0)\n",
      "verbose 2 (399: ipproblem.py, walkback) appending (1, 0, 0, 1, 0, 0, 1, 0, 0, 0)\n",
      "verbose 2 (399: ipproblem.py, walkback) appending (0, 0, 0, 1, 0, 1, 1, 0, 0, 0)\n",
      "verbose 2 (399: ipproblem.py, walkback) |S|=32\n",
      "verbose 2 (399: ipproblem.py, walkback) appending (0, 0, 0, 0, 1, 1, 0, 0, 0, 1)\n",
      "verbose 2 (399: ipproblem.py, walkback) |S|=32\n",
      "verbose 2 (399: ipproblem.py, walkback) appending (1, 0, 0, 0, 1, 0, 1, 0, 0, 0)\n",
      "verbose 2 (399: ipproblem.py, walkback) appending (0, 0, 0, 1, 1, 0, 1, 0, 0, 0)\n",
      "verbose 2 (399: ipproblem.py, walkback) |S|=33\n",
      "verbose 2 (399: ipproblem.py, walkback) appending (1, 0, 0, 1, 0, 0, 0, 1, 1, 0)\n",
      "verbose 2 (399: ipproblem.py, walkback) appending (0, 0, 0, 1, 0, 1, 0, 1, 1, 0)\n",
      "verbose 2 (399: ipproblem.py, walkback) appending (1, 0, 0, 0, 0, 1, 0, 0, 1, 0)\n",
      "verbose 2 (399: ipproblem.py, walkback) appending (1, 0, 0, 1, 0, 0, 0, 0, 1, 0)\n",
      "verbose 2 (399: ipproblem.py, walkback) appending (0, 0, 0, 1, 0, 1, 0, 0, 1, 0)\n",
      "verbose 2 (399: ipproblem.py, walkback) |S|=37\n",
      "verbose 2 (399: ipproblem.py, walkback) appending (1, 1, 0, 0, 0, 1, 0, 1, 0, 0)\n",
      "verbose 2 (399: ipproblem.py, walkback) appending (1, 1, 0, 1, 0, 0, 0, 1, 0, 0)\n",
      "verbose 2 (399: ipproblem.py, walkback) appending (0, 1, 0, 1, 0, 1, 0, 1, 0, 0)\n",
      "verbose 2 (399: ipproblem.py, walkback) appending (1, 1, 0, 0, 0, 1, 0, 0, 0, 0)\n",
      "verbose 2 (399: ipproblem.py, walkback) appending (1, 1, 0, 1, 0, 0, 0, 0, 0, 0)\n",
      "verbose 2 (399: ipproblem.py, walkback) appending (0, 1, 0, 1, 0, 1, 0, 0, 0, 0)\n",
      "verbose 2 (399: ipproblem.py, walkback) |S|=42\n",
      "verbose 2 (399: ipproblem.py, walkback) appending (0, 0, 0, 0, 1, 1, 1, 0, 0, 0)\n",
      "verbose 2 (399: ipproblem.py, walkback) |S|=42\n",
      "verbose 2 (399: ipproblem.py, walkback) appending (1, 0, 0, 0, 0, 1, 0, 1, 0, 0)\n",
      "verbose 2 (399: ipproblem.py, walkback) appending (1, 0, 0, 0, 1, 0, 0, 1, 0, 0)\n",
      "verbose 2 (399: ipproblem.py, walkback) appending (0, 0, 0, 0, 1, 1, 0, 1, 0, 0)\n",
      "verbose 2 (399: ipproblem.py, walkback) |S|=44\n",
      "verbose 2 (399: ipproblem.py, walkback) appending (1, 0, 0, 0, 1, 0, 0, 0, 1, 0)\n",
      "verbose 2 (399: ipproblem.py, walkback) appending (0, 0, 0, 1, 1, 0, 0, 0, 1, 0)\n",
      "verbose 2 (399: ipproblem.py, walkback) |S|=45\n",
      "verbose 2 (399: ipproblem.py, walkback) appending (1, 1, 0, 0, 1, 0, 0, 0, 0, 0)\n",
      "verbose 2 (399: ipproblem.py, walkback) appending (0, 1, 0, 1, 1, 0, 0, 0, 0, 0)\n",
      "verbose 2 (399: ipproblem.py, walkback) |S|=46\n",
      "verbose 2 (399: ipproblem.py, walkback) appending (1, 0, 1, 0, 0, 1, 0, 0, 0, 0)\n",
      "verbose 2 (399: ipproblem.py, walkback) appending (1, 0, 1, 1, 0, 0, 0, 0, 0, 0)\n",
      "verbose 2 (399: ipproblem.py, walkback) appending (0, 0, 1, 1, 0, 1, 0, 0, 0, 0)\n",
      "verbose 2 (399: ipproblem.py, walkback) |S|=48\n",
      "verbose 2 (399: ipproblem.py, walkback) appending (1, 0, 0, 1, 0, 0, 0, 1, 0, 0)\n",
      "verbose 2 (399: ipproblem.py, walkback) appending (0, 0, 0, 1, 0, 1, 0, 1, 0, 0)\n",
      "verbose 2 (399: ipproblem.py, walkback) |S|=49\n",
      "verbose 2 (399: ipproblem.py, walkback) appending (0, 0, 0, 0, 1, 1, 0, 0, 1, 0)\n",
      "verbose 2 (399: ipproblem.py, walkback) |S|=49\n",
      "verbose 2 (399: ipproblem.py, walkback) appending (0, 1, 0, 0, 1, 1, 0, 0, 0, 0)\n",
      "verbose 2 (399: ipproblem.py, walkback) |S|=49\n",
      "verbose 2 (399: ipproblem.py, walkback) appending (0, 0, 0, 1, 1, 0, 0, 1, 0, 0)\n",
      "verbose 2 (399: ipproblem.py, walkback) |S|=49\n",
      "verbose 2 (399: ipproblem.py, walkback) |S|=48\n",
      "verbose 2 (399: ipproblem.py, walkback) appending (1, 0, 1, 0, 1, 0, 0, 0, 0, 0)\n",
      "verbose 2 (399: ipproblem.py, walkback) appending (0, 0, 1, 0, 1, 1, 0, 0, 0, 0)\n",
      "verbose 2 (399: ipproblem.py, walkback) appending (1, 0, 0, 0, 0, 1, 0, 0, 0, 0)\n",
      "verbose 2 (399: ipproblem.py, walkback) appending (1, 0, 0, 0, 1, 0, 0, 0, 0, 0)\n",
      "verbose 2 (399: ipproblem.py, walkback) appending (0, 0, 0, 0, 1, 1, 0, 0, 0, 0)\n",
      "verbose 2 (399: ipproblem.py, walkback) |S|=52\n",
      "verbose 2 (399: ipproblem.py, walkback) appending (1, 0, 0, 1, 0, 0, 0, 0, 0, 0)\n",
      "verbose 2 (399: ipproblem.py, walkback) appending (0, 0, 0, 1, 0, 1, 0, 0, 0, 0)\n",
      "verbose 2 (399: ipproblem.py, walkback) |S|=53\n",
      "verbose 2 (399: ipproblem.py, walkback) appending (0, 0, 1, 1, 1, 0, 0, 0, 0, 0)\n",
      "verbose 2 (399: ipproblem.py, walkback) appending (0, 0, 0, 1, 1, 0, 0, 0, 0, 0)\n",
      "verbose 2 (399: ipproblem.py, walkback) |S|=54\n",
      "verbose 2 (399: ipproblem.py, walkback) |S|=53\n",
      "verbose 2 (399: ipproblem.py, walkback) appending (1, 0, 0, 0, 0, 0, 0, 1, 0, 1)\n",
      "verbose 2 (399: ipproblem.py, walkback) appending (0, 0, 0, 0, 0, 1, 0, 1, 0, 1)\n",
      "verbose 2 (399: ipproblem.py, walkback) |S|=54\n",
      "verbose 2 (399: ipproblem.py, walkback) appending (1, 1, 0, 0, 0, 0, 0, 0, 0, 1)\n",
      "verbose 2 (399: ipproblem.py, walkback) appending (0, 1, 0, 1, 0, 0, 0, 0, 0, 1)\n",
      "verbose 2 (399: ipproblem.py, walkback) |S|=55\n",
      "verbose 2 (399: ipproblem.py, walkback) appending (0, 1, 0, 0, 0, 1, 0, 0, 0, 1)\n",
      "verbose 2 (399: ipproblem.py, walkback) |S|=55\n",
      "verbose 2 (399: ipproblem.py, walkback) appending (0, 0, 0, 1, 0, 0, 0, 1, 0, 1)\n",
      "verbose 2 (399: ipproblem.py, walkback) |S|=55\n",
      "verbose 2 (399: ipproblem.py, walkback) |S|=54\n",
      "verbose 2 (399: ipproblem.py, walkback) appending (1, 0, 0, 0, 0, 0, 1, 0, 0, 1)\n",
      "verbose 2 (399: ipproblem.py, walkback) appending (0, 0, 0, 0, 0, 1, 1, 0, 0, 1)\n",
      "verbose 2 (399: ipproblem.py, walkback) appending (1, 0, 0, 0, 0, 0, 0, 0, 1, 1)\n",
      "verbose 2 (399: ipproblem.py, walkback) appending (0, 0, 0, 0, 0, 1, 0, 0, 1, 1)\n",
      "verbose 2 (399: ipproblem.py, walkback) appending (1, 0, 1, 0, 0, 0, 0, 0, 0, 1)\n",
      "verbose 2 (399: ipproblem.py, walkback) appending (0, 0, 1, 0, 0, 1, 0, 0, 0, 1)\n",
      "verbose 2 (399: ipproblem.py, walkback) appending (1, 0, 0, 0, 0, 0, 0, 0, 0, 1)\n",
      "verbose 2 (399: ipproblem.py, walkback) appending (0, 0, 0, 0, 0, 1, 0, 0, 0, 1)\n",
      "verbose 2 (399: ipproblem.py, walkback) |S|=61\n",
      "verbose 2 (399: ipproblem.py, walkback) appending (0, 0, 0, 1, 0, 0, 1, 0, 0, 1)\n",
      "verbose 2 (399: ipproblem.py, walkback) appending (0, 0, 0, 1, 0, 0, 0, 0, 1, 1)\n",
      "verbose 2 (399: ipproblem.py, walkback) appending (0, 0, 1, 1, 0, 0, 0, 0, 0, 1)\n",
      "verbose 2 (399: ipproblem.py, walkback) appending (0, 0, 0, 1, 0, 0, 0, 0, 0, 1)\n",
      "verbose 2 (399: ipproblem.py, walkback) |S|=64\n",
      "verbose 2 (399: ipproblem.py, walkback) |S|=63\n",
      "verbose 2 (399: ipproblem.py, walkback) appending (0, 0, 0, 0, 1, 0, 1, 0, 0, 1)\n",
      "verbose 2 (399: ipproblem.py, walkback) appending (0, 0, 0, 0, 1, 0, 0, 0, 1, 1)\n",
      "verbose 2 (399: ipproblem.py, walkback) appending (0, 1, 0, 0, 1, 0, 0, 0, 0, 1)\n",
      "verbose 2 (399: ipproblem.py, walkback) appending (0, 0, 1, 0, 1, 0, 0, 0, 0, 1)\n",
      "verbose 2 (399: ipproblem.py, walkback) appending (0, 0, 0, 0, 1, 0, 0, 1, 0, 1)\n",
      "verbose 2 (399: ipproblem.py, walkback) appending (0, 0, 0, 0, 1, 0, 0, 0, 0, 1)\n",
      "verbose 2 (399: ipproblem.py, walkback) |S|=68\n",
      "verbose 2 (399: ipproblem.py, walkback) |S|=67\n",
      "verbose 2 (399: ipproblem.py, walkback) appending (1, 0, 0, 0, 0, 0, 1, 1, 0, 0)\n",
      "verbose 2 (399: ipproblem.py, walkback) appending (0, 0, 0, 1, 0, 0, 1, 1, 0, 0)\n",
      "verbose 2 (399: ipproblem.py, walkback) |S|=68\n",
      "verbose 2 (399: ipproblem.py, walkback) appending (0, 0, 0, 0, 0, 1, 1, 1, 0, 0)\n",
      "verbose 2 (399: ipproblem.py, walkback) |S|=68\n",
      "verbose 2 (399: ipproblem.py, walkback) appending (1, 0, 0, 0, 0, 0, 1, 0, 1, 0)\n",
      "verbose 2 (399: ipproblem.py, walkback) appending (1, 1, 0, 0, 0, 0, 1, 0, 0, 0)\n",
      "verbose 2 (399: ipproblem.py, walkback) appending (0, 0, 0, 0, 0, 1, 1, 0, 1, 0)\n",
      "verbose 2 (399: ipproblem.py, walkback) appending (0, 1, 0, 0, 0, 1, 1, 0, 0, 0)\n",
      "verbose 2 (399: ipproblem.py, walkback) appending (1, 0, 1, 0, 0, 0, 1, 0, 0, 0)\n",
      "verbose 2 (399: ipproblem.py, walkback) appending (0, 0, 1, 0, 0, 1, 1, 0, 0, 0)\n",
      "verbose 2 (399: ipproblem.py, walkback) appending (1, 0, 0, 0, 0, 0, 1, 0, 0, 0)\n",
      "verbose 2 (399: ipproblem.py, walkback) appending (0, 0, 0, 0, 0, 1, 1, 0, 0, 0)\n",
      "verbose 2 (399: ipproblem.py, walkback) |S|=75\n",
      "verbose 2 (399: ipproblem.py, walkback) appending (0, 0, 0, 1, 0, 0, 1, 0, 1, 0)\n",
      "verbose 2 (399: ipproblem.py, walkback) appending (0, 1, 0, 1, 0, 0, 1, 0, 0, 0)\n",
      "verbose 2 (399: ipproblem.py, walkback) appending (0, 0, 1, 1, 0, 0, 1, 0, 0, 0)\n",
      "verbose 2 (399: ipproblem.py, walkback) appending (0, 0, 0, 1, 0, 0, 1, 0, 0, 0)\n",
      "verbose 2 (399: ipproblem.py, walkback) |S|=78\n",
      "verbose 2 (399: ipproblem.py, walkback) |S|=77\n",
      "verbose 2 (399: ipproblem.py, walkback) |S|=76\n",
      "verbose 2 (399: ipproblem.py, walkback) appending (0, 0, 0, 0, 1, 0, 1, 0, 1, 0)\n",
      "verbose 2 (399: ipproblem.py, walkback) appending (0, 1, 0, 0, 1, 0, 1, 0, 0, 0)\n",
      "verbose 2 (399: ipproblem.py, walkback) appending (0, 0, 0, 0, 1, 0, 1, 1, 0, 0)\n",
      "verbose 2 (399: ipproblem.py, walkback) appending (0, 0, 0, 0, 1, 0, 1, 0, 0, 0)\n",
      "verbose 2 (399: ipproblem.py, walkback) |S|=79\n",
      "verbose 2 (399: ipproblem.py, walkback) |S|=78\n",
      "verbose 2 (399: ipproblem.py, walkback) appending (1, 0, 0, 0, 0, 0, 0, 1, 1, 0)\n",
      "verbose 2 (399: ipproblem.py, walkback) appending (0, 0, 0, 1, 0, 0, 0, 1, 1, 0)\n",
      "verbose 2 (399: ipproblem.py, walkback) |S|=79\n",
      "verbose 2 (399: ipproblem.py, walkback) appending (0, 0, 0, 0, 0, 1, 0, 1, 1, 0)\n",
      "verbose 2 (399: ipproblem.py, walkback) |S|=79\n",
      "verbose 2 (399: ipproblem.py, walkback) appending (1, 1, 0, 0, 0, 0, 0, 0, 1, 0)\n",
      "verbose 2 (399: ipproblem.py, walkback) appending (0, 1, 0, 0, 0, 1, 0, 0, 1, 0)\n",
      "verbose 2 (399: ipproblem.py, walkback) appending (1, 0, 1, 0, 0, 0, 0, 0, 1, 0)\n",
      "verbose 2 (399: ipproblem.py, walkback) appending (0, 0, 1, 0, 0, 1, 0, 0, 1, 0)\n",
      "verbose 2 (399: ipproblem.py, walkback) appending (1, 0, 0, 0, 0, 0, 0, 0, 1, 0)\n",
      "verbose 2 (399: ipproblem.py, walkback) appending (0, 0, 0, 0, 0, 1, 0, 0, 1, 0)\n",
      "verbose 2 (399: ipproblem.py, walkback) |S|=84\n",
      "verbose 2 (399: ipproblem.py, walkback) appending (0, 1, 0, 1, 0, 0, 0, 0, 1, 0)\n",
      "verbose 2 (399: ipproblem.py, walkback) appending (0, 0, 1, 1, 0, 0, 0, 0, 1, 0)\n",
      "verbose 2 (399: ipproblem.py, walkback) appending (0, 0, 0, 1, 0, 0, 0, 0, 1, 0)\n",
      "verbose 2 (399: ipproblem.py, walkback) |S|=86\n",
      "verbose 2 (399: ipproblem.py, walkback) |S|=85\n",
      "verbose 2 (399: ipproblem.py, walkback) appending (1, 1, 0, 0, 0, 0, 0, 1, 0, 0)\n",
      "verbose 2 (399: ipproblem.py, walkback) appending (0, 1, 0, 0, 0, 1, 0, 1, 0, 0)\n",
      "verbose 2 (399: ipproblem.py, walkback) |S|=86\n",
      "verbose 2 (399: ipproblem.py, walkback) appending (0, 1, 0, 1, 0, 0, 0, 1, 0, 0)\n",
      "verbose 2 (399: ipproblem.py, walkback) |S|=86\n",
      "verbose 2 (399: ipproblem.py, walkback) |S|=85\n",
      "verbose 2 (399: ipproblem.py, walkback) appending (1, 1, 1, 0, 0, 0, 0, 0, 0, 0)\n",
      "verbose 2 (399: ipproblem.py, walkback) appending (0, 1, 1, 0, 0, 1, 0, 0, 0, 0)\n",
      "verbose 2 (399: ipproblem.py, walkback) appending (1, 1, 0, 0, 0, 0, 0, 0, 0, 0)\n",
      "verbose 2 (399: ipproblem.py, walkback) appending (0, 1, 0, 0, 0, 1, 0, 0, 0, 0)\n",
      "verbose 2 (399: ipproblem.py, walkback) |S|=88\n",
      "verbose 2 (399: ipproblem.py, walkback) appending (0, 1, 1, 1, 0, 0, 0, 0, 0, 0)\n",
      "verbose 2 (399: ipproblem.py, walkback) appending (0, 1, 0, 1, 0, 0, 0, 0, 0, 0)\n",
      "verbose 2 (399: ipproblem.py, walkback) |S|=89\n",
      "verbose 2 (399: ipproblem.py, walkback) |S|=88\n",
      "verbose 2 (399: ipproblem.py, walkback) |S|=87\n",
      "verbose 2 (399: ipproblem.py, walkback) appending (1, 0, 1, 0, 0, 0, 0, 1, 0, 0)\n",
      "verbose 2 (399: ipproblem.py, walkback) appending (0, 0, 1, 0, 0, 1, 0, 1, 0, 0)\n",
      "verbose 2 (399: ipproblem.py, walkback) appending (1, 0, 0, 0, 0, 0, 0, 1, 0, 0)\n",
      "verbose 2 (399: ipproblem.py, walkback) appending (0, 0, 0, 0, 0, 1, 0, 1, 0, 0)\n",
      "verbose 2 (399: ipproblem.py, walkback) |S|=90\n",
      "verbose 2 (399: ipproblem.py, walkback) appending (0, 0, 0, 0, 1, 0, 0, 1, 1, 0)\n",
      "verbose 2 (399: ipproblem.py, walkback) appending (0, 1, 0, 0, 1, 0, 0, 1, 0, 0)\n",
      "verbose 2 (399: ipproblem.py, walkback) appending (0, 0, 1, 0, 1, 0, 0, 1, 0, 0)\n",
      "verbose 2 (399: ipproblem.py, walkback) appending (0, 0, 0, 0, 1, 0, 0, 1, 0, 0)\n",
      "verbose 2 (399: ipproblem.py, walkback) |S|=93\n",
      "verbose 2 (399: ipproblem.py, walkback) |S|=92\n",
      "verbose 2 (399: ipproblem.py, walkback) appending (0, 1, 0, 0, 1, 0, 0, 0, 1, 0)\n",
      "verbose 2 (399: ipproblem.py, walkback) appending (0, 0, 0, 0, 1, 0, 0, 0, 1, 0)\n",
      "verbose 2 (399: ipproblem.py, walkback) |S|=93\n",
      "verbose 2 (399: ipproblem.py, walkback) |S|=92\n",
      "verbose 2 (399: ipproblem.py, walkback) appending (0, 1, 1, 0, 1, 0, 0, 0, 0, 0)\n",
      "verbose 2 (399: ipproblem.py, walkback) appending (0, 1, 0, 0, 1, 0, 0, 0, 0, 0)\n",
      "verbose 2 (399: ipproblem.py, walkback) |S|=93\n",
      "verbose 2 (399: ipproblem.py, walkback) |S|=92\n",
      "verbose 2 (399: ipproblem.py, walkback) appending (1, 0, 1, 0, 0, 0, 0, 0, 0, 0)\n",
      "verbose 2 (399: ipproblem.py, walkback) appending (0, 0, 1, 0, 0, 1, 0, 0, 0, 0)\n",
      "verbose 2 (399: ipproblem.py, walkback) |S|=93\n",
      "verbose 2 (399: ipproblem.py, walkback) appending (0, 0, 1, 1, 0, 0, 0, 1, 0, 0)\n",
      "verbose 2 (399: ipproblem.py, walkback) appending (0, 0, 1, 1, 0, 0, 0, 0, 0, 0)\n",
      "verbose 2 (399: ipproblem.py, walkback) |S|=94\n",
      "verbose 2 (399: ipproblem.py, walkback) |S|=93\n",
      "verbose 2 (399: ipproblem.py, walkback) appending (0, 0, 0, 1, 0, 0, 0, 1, 0, 0)\n",
      "verbose 2 (399: ipproblem.py, walkback) |S|=93\n",
      "verbose 2 (399: ipproblem.py, walkback) |S|=92\n",
      "verbose 2 (399: ipproblem.py, walkback) |S|=91\n",
      "verbose 2 (399: ipproblem.py, walkback) |S|=90\n",
      "verbose 2 (399: ipproblem.py, walkback) |S|=89\n",
      "verbose 2 (399: ipproblem.py, walkback) appending (0, 0, 1, 0, 1, 0, 0, 0, 0, 0)\n",
      "verbose 2 (399: ipproblem.py, walkback) |S|=89\n",
      "verbose 2 (399: ipproblem.py, walkback) |S|=88\n",
      "verbose 2 (399: ipproblem.py, walkback) appending (1, 0, 0, 0, 0, 0, 0, 0, 0, 0)\n",
      "verbose 2 (399: ipproblem.py, walkback) appending (0, 0, 0, 0, 0, 1, 0, 0, 0, 0)\n",
      "verbose 2 (399: ipproblem.py, walkback) |S|=89\n",
      "verbose 2 (399: ipproblem.py, walkback) appending (0, 0, 0, 0, 1, 0, 0, 0, 0, 0)\n",
      "verbose 2 (399: ipproblem.py, walkback) |S|=89\n",
      "verbose 2 (399: ipproblem.py, walkback) |S|=88\n",
      "verbose 2 (399: ipproblem.py, walkback) appending (0, 0, 0, 1, 0, 0, 0, 0, 0, 0)\n",
      "verbose 2 (399: ipproblem.py, walkback) |S|=88\n",
      "verbose 2 (399: ipproblem.py, walkback) |S|=87\n",
      "verbose 2 (399: ipproblem.py, walkback) |S|=86\n",
      "verbose 2 (399: ipproblem.py, walkback) |S|=85\n",
      "verbose 2 (399: ipproblem.py, walkback) appending (0, 0, 0, 0, 0, 0, 1, 1, 0, 1)\n",
      "verbose 2 (399: ipproblem.py, walkback) appending (0, 0, 0, 0, 0, 0, 0, 1, 1, 1)\n",
      "verbose 2 (399: ipproblem.py, walkback) appending (0, 1, 0, 0, 0, 0, 0, 1, 0, 1)\n",
      "verbose 2 (399: ipproblem.py, walkback) appending (0, 0, 1, 0, 0, 0, 0, 1, 0, 1)\n",
      "verbose 2 (399: ipproblem.py, walkback) appending (0, 0, 0, 0, 0, 0, 0, 1, 0, 1)\n",
      "verbose 2 (399: ipproblem.py, walkback) |S|=89\n",
      "verbose 2 (399: ipproblem.py, walkback) |S|=88\n",
      "verbose 2 (399: ipproblem.py, walkback) appending (0, 1, 0, 0, 0, 0, 1, 0, 0, 1)\n",
      "verbose 2 (399: ipproblem.py, walkback) appending (0, 1, 0, 0, 0, 0, 0, 0, 1, 1)\n",
      "verbose 2 (399: ipproblem.py, walkback) appending (0, 1, 0, 0, 0, 0, 0, 0, 0, 1)\n",
      "verbose 2 (399: ipproblem.py, walkback) |S|=90\n",
      "verbose 2 (399: ipproblem.py, walkback) |S|=89\n",
      "verbose 2 (399: ipproblem.py, walkback) |S|=88\n",
      "verbose 2 (399: ipproblem.py, walkback) |S|=87\n",
      "verbose 2 (399: ipproblem.py, walkback) appending (0, 0, 0, 0, 0, 0, 1, 0, 1, 1)\n",
      "verbose 2 (399: ipproblem.py, walkback) appending (0, 0, 0, 0, 0, 0, 1, 0, 0, 1)\n",
      "verbose 2 (399: ipproblem.py, walkback) |S|=88\n",
      "verbose 2 (399: ipproblem.py, walkback) |S|=87\n",
      "verbose 2 (399: ipproblem.py, walkback) appending (0, 0, 0, 0, 0, 0, 0, 0, 1, 1)\n",
      "verbose 2 (399: ipproblem.py, walkback) |S|=87\n",
      "verbose 2 (399: ipproblem.py, walkback) |S|=86\n",
      "verbose 2 (399: ipproblem.py, walkback) appending (0, 0, 1, 0, 0, 0, 0, 0, 0, 1)\n",
      "verbose 2 (399: ipproblem.py, walkback) |S|=86\n",
      "verbose 2 (399: ipproblem.py, walkback) |S|=85\n",
      "verbose 2 (399: ipproblem.py, walkback) appending (0, 0, 0, 0, 0, 0, 0, 0, 0, 1)\n",
      "verbose 2 (399: ipproblem.py, walkback) |S|=85\n",
      "verbose 2 (399: ipproblem.py, walkback) |S|=84\n",
      "verbose 2 (399: ipproblem.py, walkback) |S|=83\n",
      "verbose 2 (399: ipproblem.py, walkback) |S|=82\n",
      "verbose 2 (399: ipproblem.py, walkback) |S|=81\n",
      "verbose 2 (399: ipproblem.py, walkback) |S|=80\n",
      "verbose 2 (399: ipproblem.py, walkback) |S|=79\n",
      "verbose 2 (399: ipproblem.py, walkback) |S|=78\n",
      "verbose 2 (399: ipproblem.py, walkback) |S|=77\n",
      "verbose 2 (399: ipproblem.py, walkback) |S|=76\n",
      "verbose 2 (399: ipproblem.py, walkback) |S|=75\n",
      "verbose 2 (399: ipproblem.py, walkback) |S|=74\n",
      "verbose 2 (399: ipproblem.py, walkback) appending (0, 0, 0, 0, 0, 0, 1, 1, 1, 0)\n",
      "verbose 2 (399: ipproblem.py, walkback) appending (0, 1, 0, 0, 0, 0, 1, 1, 0, 0)\n",
      "verbose 2 (399: ipproblem.py, walkback) appending (0, 0, 0, 0, 0, 0, 1, 1, 0, 0)\n",
      "verbose 2 (399: ipproblem.py, walkback) |S|=76\n",
      "verbose 2 (399: ipproblem.py, walkback) |S|=75\n",
      "verbose 2 (399: ipproblem.py, walkback) |S|=74\n",
      "verbose 2 (399: ipproblem.py, walkback) appending (0, 1, 0, 0, 0, 0, 1, 0, 1, 0)\n",
      "verbose 2 (399: ipproblem.py, walkback) appending (0, 0, 0, 0, 0, 0, 1, 0, 1, 0)\n",
      "verbose 2 (399: ipproblem.py, walkback) |S|=75\n",
      "verbose 2 (399: ipproblem.py, walkback) appending (0, 1, 0, 0, 0, 0, 1, 0, 0, 0)\n",
      "verbose 2 (399: ipproblem.py, walkback) |S|=75\n",
      "verbose 2 (399: ipproblem.py, walkback) |S|=74\n",
      "verbose 2 (399: ipproblem.py, walkback) |S|=73\n",
      "verbose 2 (399: ipproblem.py, walkback) appending (0, 0, 1, 0, 0, 0, 1, 0, 0, 0)\n",
      "verbose 2 (399: ipproblem.py, walkback) |S|=73\n",
      "verbose 2 (399: ipproblem.py, walkback) |S|=72\n",
      "verbose 2 (399: ipproblem.py, walkback) appending (0, 0, 0, 0, 0, 0, 1, 0, 0, 0)\n",
      "verbose 2 (399: ipproblem.py, walkback) |S|=72\n",
      "verbose 2 (399: ipproblem.py, walkback) |S|=71\n",
      "verbose 2 (399: ipproblem.py, walkback) |S|=70\n",
      "verbose 2 (399: ipproblem.py, walkback) |S|=69\n",
      "verbose 2 (399: ipproblem.py, walkback) |S|=68\n",
      "verbose 2 (399: ipproblem.py, walkback) |S|=67\n",
      "verbose 2 (399: ipproblem.py, walkback) |S|=66\n",
      "verbose 2 (399: ipproblem.py, walkback) |S|=65\n",
      "verbose 2 (399: ipproblem.py, walkback) |S|=64\n",
      "verbose 2 (399: ipproblem.py, walkback) |S|=63\n",
      "verbose 2 (399: ipproblem.py, walkback) appending (0, 1, 0, 0, 0, 0, 0, 1, 1, 0)\n",
      "verbose 2 (399: ipproblem.py, walkback) appending (0, 0, 0, 0, 0, 0, 0, 1, 1, 0)\n",
      "verbose 2 (399: ipproblem.py, walkback) |S|=64\n",
      "verbose 2 (399: ipproblem.py, walkback) |S|=63\n",
      "verbose 2 (399: ipproblem.py, walkback) |S|=62\n",
      "verbose 2 (399: ipproblem.py, walkback) appending (0, 1, 0, 0, 0, 0, 0, 0, 1, 0)\n",
      "verbose 2 (399: ipproblem.py, walkback) |S|=62\n",
      "verbose 2 (399: ipproblem.py, walkback) |S|=61\n",
      "verbose 2 (399: ipproblem.py, walkback) appending (0, 0, 1, 0, 0, 0, 0, 0, 1, 0)\n",
      "verbose 2 (399: ipproblem.py, walkback) |S|=61\n",
      "verbose 2 (399: ipproblem.py, walkback) |S|=60\n",
      "verbose 2 (399: ipproblem.py, walkback) appending (0, 0, 0, 0, 0, 0, 0, 0, 1, 0)\n",
      "verbose 2 (399: ipproblem.py, walkback) |S|=60\n",
      "verbose 2 (399: ipproblem.py, walkback) |S|=59\n",
      "verbose 2 (399: ipproblem.py, walkback) |S|=58\n",
      "verbose 2 (399: ipproblem.py, walkback) |S|=57\n",
      "verbose 2 (399: ipproblem.py, walkback) |S|=56\n",
      "verbose 2 (399: ipproblem.py, walkback) appending (0, 1, 1, 0, 0, 0, 0, 1, 0, 0)\n",
      "verbose 2 (399: ipproblem.py, walkback) appending (0, 1, 0, 0, 0, 0, 0, 1, 0, 0)\n",
      "verbose 2 (399: ipproblem.py, walkback) |S|=57\n",
      "verbose 2 (399: ipproblem.py, walkback) |S|=56\n",
      "verbose 2 (399: ipproblem.py, walkback) |S|=55\n",
      "verbose 2 (399: ipproblem.py, walkback) appending (0, 1, 1, 0, 0, 0, 0, 0, 0, 0)\n",
      "verbose 2 (399: ipproblem.py, walkback) |S|=55\n",
      "verbose 2 (399: ipproblem.py, walkback) |S|=54\n",
      "verbose 2 (399: ipproblem.py, walkback) appending (0, 1, 0, 0, 0, 0, 0, 0, 0, 0)\n",
      "verbose 2 (399: ipproblem.py, walkback) |S|=54\n",
      "verbose 2 (399: ipproblem.py, walkback) |S|=53\n",
      "verbose 2 (399: ipproblem.py, walkback) |S|=52\n",
      "verbose 2 (399: ipproblem.py, walkback) |S|=51\n",
      "verbose 2 (399: ipproblem.py, walkback) appending (0, 0, 1, 0, 0, 0, 0, 1, 0, 0)\n",
      "verbose 2 (399: ipproblem.py, walkback) |S|=51\n",
      "verbose 2 (399: ipproblem.py, walkback) |S|=50\n",
      "verbose 2 (399: ipproblem.py, walkback) appending (0, 0, 0, 0, 0, 0, 0, 1, 0, 0)\n",
      "verbose 2 (399: ipproblem.py, walkback) |S|=50\n",
      "verbose 2 (399: ipproblem.py, walkback) |S|=49\n",
      "verbose 2 (399: ipproblem.py, walkback) |S|=48\n",
      "verbose 2 (399: ipproblem.py, walkback) |S|=47\n",
      "verbose 2 (399: ipproblem.py, walkback) |S|=46\n",
      "verbose 2 (399: ipproblem.py, walkback) |S|=45\n",
      "verbose 2 (399: ipproblem.py, walkback) |S|=44\n",
      "verbose 2 (399: ipproblem.py, walkback) |S|=43\n",
      "verbose 2 (399: ipproblem.py, walkback) |S|=42\n",
      "verbose 2 (399: ipproblem.py, walkback) |S|=41\n",
      "verbose 2 (399: ipproblem.py, walkback) appending (0, 0, 1, 0, 0, 0, 0, 0, 0, 0)\n",
      "verbose 2 (399: ipproblem.py, walkback) |S|=41\n",
      "verbose 2 (399: ipproblem.py, walkback) |S|=40\n",
      "verbose 2 (399: ipproblem.py, walkback) |S|=39\n",
      "verbose 2 (399: ipproblem.py, walkback) |S|=38\n",
      "verbose 2 (399: ipproblem.py, walkback) |S|=37\n",
      "verbose 2 (399: ipproblem.py, walkback) |S|=36\n",
      "verbose 1 (399: ipproblem.py, walkback) current best=(1, 0, 0, 0, 0, 0, 0, 0, 0, 0), current_cost=80\n",
      "verbose 2 (399: ipproblem.py, walkback) |S|=35\n",
      "verbose 2 (399: ipproblem.py, walkback) |S|=34\n",
      "verbose 2 (399: ipproblem.py, walkback) |S|=33\n",
      "verbose 2 (399: ipproblem.py, walkback) |S|=32\n",
      "verbose 2 (399: ipproblem.py, walkback) |S|=31\n",
      "verbose 2 (399: ipproblem.py, walkback) |S|=30\n",
      "verbose 2 (399: ipproblem.py, walkback) |S|=29\n",
      "verbose 2 (399: ipproblem.py, walkback) |S|=28\n",
      "verbose 2 (399: ipproblem.py, walkback) |S|=27\n",
      "verbose 2 (399: ipproblem.py, walkback) |S|=26\n",
      "verbose 2 (399: ipproblem.py, walkback) |S|=25\n",
      "verbose 2 (399: ipproblem.py, walkback) |S|=24\n",
      "verbose 2 (399: ipproblem.py, walkback) |S|=23\n",
      "verbose 2 (399: ipproblem.py, walkback) |S|=22\n",
      "verbose 2 (399: ipproblem.py, walkback) |S|=21\n",
      "verbose 2 (399: ipproblem.py, walkback) |S|=20\n",
      "verbose 2 (399: ipproblem.py, walkback) |S|=19\n",
      "verbose 2 (399: ipproblem.py, walkback) |S|=18\n",
      "verbose 2 (399: ipproblem.py, walkback) |S|=17\n",
      "verbose 2 (399: ipproblem.py, walkback) |S|=16\n",
      "verbose 2 (399: ipproblem.py, walkback) |S|=15\n",
      "verbose 2 (399: ipproblem.py, walkback) |S|=14\n",
      "verbose 2 (399: ipproblem.py, walkback) |S|=13\n",
      "verbose 2 (399: ipproblem.py, walkback) |S|=12\n",
      "verbose 2 (399: ipproblem.py, walkback) |S|=11\n",
      "verbose 2 (399: ipproblem.py, walkback) |S|=10\n",
      "verbose 2 (399: ipproblem.py, walkback) |S|=9\n",
      "verbose 2 (399: ipproblem.py, walkback) |S|=8\n",
      "verbose 2 (399: ipproblem.py, walkback) |S|=7\n",
      "verbose 2 (399: ipproblem.py, walkback) |S|=6\n",
      "verbose 2 (399: ipproblem.py, walkback) |S|=5\n",
      "verbose 2 (399: ipproblem.py, walkback) |S|=4\n",
      "verbose 2 (399: ipproblem.py, walkback) |S|=3\n",
      "verbose 2 (399: ipproblem.py, walkback) |S|=2\n",
      "verbose 2 (399: ipproblem.py, walkback) |S|=1\n",
      "verbose 2 (399: ipproblem.py, walkback) |S|=0\n",
      "((1, 0, 0, 0, 0, 0, 0, 0, 0, 0), 80)\n"
     ]
    }
   ],
   "source": [
    "set_verbose(2)\n",
    "f=P.walkback(region=lambda v: add([v[i]**2 for i in range(len(v))])<2)\n",
    "print f\n",
    "set_verbose(0)"
   ]
  },
  {
   "cell_type": "code",
   "execution_count": 23,
   "metadata": {
    "collapsed": true
   },
   "outputs": [],
   "source": [
    "L=range(10)"
   ]
  },
  {
   "cell_type": "code",
   "execution_count": 24,
   "metadata": {
    "collapsed": false
   },
   "outputs": [
    {
     "name": "stdout",
     "output_type": "stream",
     "text": [
      "[1, 2, 3, 4, 5, 6, 7, 8, 9]\n",
      "[2, 3, 4, 5, 6, 7, 8, 9]\n",
      "[3, 4, 5, 6, 7, 8, 9]\n",
      "[4, 5, 6, 7, 8, 9]\n",
      "[5, 6, 7, 8, 9]\n",
      "[6, 7, 8, 9]\n",
      "[7, 8, 9]\n",
      "[8, 9]\n",
      "[9]\n",
      "[]\n"
     ]
    }
   ],
   "source": [
    "while L:\n",
    "    L.pop(0)\n",
    "    print L"
   ]
  },
  {
   "cell_type": "code",
   "execution_count": null,
   "metadata": {
    "collapsed": true
   },
   "outputs": [],
   "source": []
  }
 ],
 "metadata": {
  "kernelspec": {
   "display_name": "Python 2",
   "language": "python",
   "name": "python2"
  },
  "language_info": {
   "codemirror_mode": {
    "name": "ipython",
    "version": 2
   },
   "file_extension": ".py",
   "mimetype": "text/x-python",
   "name": "python",
   "nbconvert_exporter": "python",
   "pygments_lexer": "ipython2",
   "version": "2.7.9"
  }
 },
 "nbformat": 4,
 "nbformat_minor": 0
}

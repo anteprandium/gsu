{
 "cells": [
  {
   "cell_type": "markdown",
   "metadata": {},
   "source": [
    "# Algunas comprobaciones de GSU (de UWZ)\n",
    "\n",
    "\n"
   ]
  },
  {
   "cell_type": "code",
   "execution_count": 18,
   "metadata": {
    "collapsed": false
   },
   "outputs": [],
   "source": [
    "#%load_ext sage"
   ]
  },
  {
   "cell_type": "code",
   "execution_count": 27,
   "metadata": {
    "collapsed": false
   },
   "outputs": [],
   "source": [
    "%run ipproblem"
   ]
  },
  {
   "cell_type": "code",
   "execution_count": null,
   "metadata": {
    "collapsed": false
   },
   "outputs": [],
   "source": []
  },
  {
   "cell_type": "markdown",
   "metadata": {},
   "source": [
    "Problemas de Ucha"
   ]
  },
  {
   "cell_type": "code",
   "execution_count": null,
   "metadata": {
    "collapsed": false
   },
   "outputs": [],
   "source": []
  },
  {
   "cell_type": "code",
   "execution_count": 28,
   "metadata": {
    "collapsed": false
   },
   "outputs": [],
   "source": [
    "P1=IPProblem(c=[3, 4, 3, 6, 3],\n",
    "            A=[[3, 2, 1, 5, 7]], \n",
    "            b=[4], u=[1,1,1,1,1] )"
   ]
  },
  {
   "cell_type": "code",
   "execution_count": 29,
   "metadata": {
    "collapsed": false
   },
   "outputs": [
    {
     "name": "stdout",
     "output_type": "stream",
     "text": [
      "Integer programming problem\n",
      "    max\\{c.x : A x <= b,  0<=x<=u\\}\n",
      "with\n",
      "c=(3, 4, 3, 6, 3),\n",
      "A=\n",
      "[3 2 1 5 7],\n",
      "b=(4),\n",
      "u=(1, 1, 1, 1, 1).\n"
     ]
    }
   ],
   "source": [
    "print P1"
   ]
  },
  {
   "cell_type": "code",
   "execution_count": 30,
   "metadata": {
    "collapsed": false
   },
   "outputs": [
    {
     "data": {
      "text/plain": [
       "[(1, 0, 0, 0, 0),\n",
       " (0, 1, 0, 0, 0),\n",
       " (0, 0, 1, 0, 0),\n",
       " (-1, 1, 0, 0, 0),\n",
       " (1, 0, -1, 0, 0),\n",
       " (0, 1, -1, 0, 0)]"
      ]
     },
     "execution_count": 30,
     "metadata": {},
     "output_type": "execute_result"
    }
   ],
   "source": [
    "P1.minimal_test_set()"
   ]
  },
  {
   "cell_type": "code",
   "execution_count": 31,
   "metadata": {
    "collapsed": false
   },
   "outputs": [],
   "source": [
    "#P.test_set_non_reducibles()"
   ]
  },
  {
   "cell_type": "code",
   "execution_count": 32,
   "metadata": {
    "collapsed": false
   },
   "outputs": [],
   "source": [
    "#%timeit -n100 P.groebner_simple()"
   ]
  },
  {
   "cell_type": "code",
   "execution_count": 33,
   "metadata": {
    "collapsed": false
   },
   "outputs": [],
   "source": [
    "#%timeit -n100 P.groebner_with_reduction()"
   ]
  },
  {
   "cell_type": "code",
   "execution_count": 34,
   "metadata": {
    "collapsed": false
   },
   "outputs": [],
   "source": [
    "#%timeit -n100 P.groebner_reduced()"
   ]
  },
  {
   "cell_type": "code",
   "execution_count": 35,
   "metadata": {
    "collapsed": false
   },
   "outputs": [],
   "source": [
    "#%timeit -n100 P.groebner_non_reducibles()"
   ]
  },
  {
   "cell_type": "code",
   "execution_count": 36,
   "metadata": {
    "collapsed": false
   },
   "outputs": [
    {
     "data": {
      "text/plain": [
       "[(0, 0, 0, 0, 0), (0, 1, 0, 0, 0), (0, 1, 1, 0, 0)]"
      ]
     },
     "execution_count": 36,
     "metadata": {},
     "output_type": "execute_result"
    }
   ],
   "source": [
    "P1.walk_to_best([0,0,0,0,0], path=True)"
   ]
  },
  {
   "cell_type": "code",
   "execution_count": 37,
   "metadata": {
    "collapsed": false
   },
   "outputs": [],
   "source": [
    "P2=IPProblem( c=[ 3, 4, 3, 6, 3], A=[[3,2,1,5,7]],b=[4])"
   ]
  },
  {
   "cell_type": "code",
   "execution_count": 38,
   "metadata": {
    "collapsed": false
   },
   "outputs": [
    {
     "data": {
      "text/plain": [
       "[(1, 0, 0, 0, 0),\n",
       " (0, 1, 0, 0, 0),\n",
       " (0, 0, 1, 0, 0),\n",
       " (-1, 1, 0, 0, 0),\n",
       " (1, 0, -1, 0, 0),\n",
       " (0, 1, -1, 0, 0),\n",
       " (-1, 0, 2, 0, 0),\n",
       " (0, -1, 2, 0, 0)]"
      ]
     },
     "execution_count": 38,
     "metadata": {},
     "output_type": "execute_result"
    }
   ],
   "source": [
    "P2.minimal_test_set()"
   ]
  },
  {
   "cell_type": "code",
   "execution_count": 39,
   "metadata": {
    "collapsed": false
   },
   "outputs": [
    {
     "data": {
      "text/plain": [
       "(0, 0, 4, 0, 0)"
      ]
     },
     "execution_count": 39,
     "metadata": {},
     "output_type": "execute_result"
    }
   ],
   "source": [
    "P2.walk_to_best(P2.get_feasible())"
   ]
  },
  {
   "cell_type": "markdown",
   "metadata": {
    "collapsed": false
   },
   "source": [
    "Generador de problemas."
   ]
  },
  {
   "cell_type": "code",
   "execution_count": 40,
   "metadata": {
    "collapsed": false
   },
   "outputs": [
    {
     "name": "stdout",
     "output_type": "stream",
     "text": [
      "Integer programming problem\n",
      "    max\\{c.x : A x <= b,  0<=x<=u\\}\n",
      "with\n",
      "c=(78, 64, 58, 75, 63, 51, 79, 66, 85, 36),\n",
      "A=\n",
      "[24 20 21 13 10 28 26 12 14 29],\n",
      "b=(81),\n",
      "u=(1, 1, 1, 1, 1, 1, 1, 1, 1, 1).\n"
     ]
    }
   ],
   "source": [
    "d=10\n",
    "c=random_vector(ZZ,d,x=10,y=100)\n",
    "A=random_matrix(ZZ, 1, d, x=10, y=30)\n",
    "b=[floor(mean(c)*1.25)]\n",
    "u=d*[1]\n",
    "P=IPProblem(c, A, b, u)\n",
    "print P"
   ]
  },
  {
   "cell_type": "code",
   "execution_count": 41,
   "metadata": {
    "collapsed": false
   },
   "outputs": [
    {
     "name": "stdout",
     "output_type": "stream",
     "text": [
      " "
     ]
    }
   ],
   "source": [
    "%%prun \n",
    "#%%time\n",
    "\n",
    "L=P.minimal_test_set()\n"
   ]
  },
  {
   "cell_type": "code",
   "execution_count": 42,
   "metadata": {
    "collapsed": false
   },
   "outputs": [
    {
     "data": {
      "text/plain": [
       "97"
      ]
     },
     "execution_count": 42,
     "metadata": {},
     "output_type": "execute_result"
    }
   ],
   "source": [
    "len(L)"
   ]
  },
  {
   "cell_type": "code",
   "execution_count": null,
   "metadata": {
    "collapsed": false
   },
   "outputs": [],
   "source": []
  },
  {
   "cell_type": "code",
   "execution_count": null,
   "metadata": {
    "collapsed": true
   },
   "outputs": [],
   "source": []
  }
 ],
 "metadata": {
  "kernelspec": {
   "display_name": "Sage 6.6",
   "language": "",
   "name": "sage_6_6"
  },
  "language_info": {
   "codemirror_mode": {
    "name": "ipython",
    "version": 2
   },
   "file_extension": ".py",
   "mimetype": "text/x-python",
   "name": "python",
   "nbconvert_exporter": "python",
   "pygments_lexer": "ipython2",
   "version": "2.7.8"
  }
 },
 "nbformat": 4,
 "nbformat_minor": 0
}

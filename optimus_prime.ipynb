{
 "cells": [
  {
   "cell_type": "markdown",
   "metadata": {},
   "source": [
    "# Algoritmos de U-W-Z para G-S-U.\n",
    "\n",
    "Esta hoja contiene los resultados de la implementación de los algoritmos del artículo (Urbaniak, Weismantel, Ziegler 1997). De momento no podéis ejecutarla, pero sí podéis leerla, para ver el tipo de cosas que ya podemos calcular. \n",
    "\n",
    "El núcleo de lo que he hecho es un programa en SAGE de unas 200 líneas. Cuando nos veamos después de pascua, os diré cómo tenéis que llamarlo desde SAGE.\n",
    "\n",
    "\n"
   ]
  },
  {
   "cell_type": "code",
   "execution_count": 3,
   "metadata": {
    "collapsed": false
   },
   "outputs": [],
   "source": [
    "#%load_ext sage"
   ]
  },
  {
   "cell_type": "code",
   "execution_count": 4,
   "metadata": {
    "collapsed": false
   },
   "outputs": [],
   "source": [
    "%run ipproblem"
   ]
  },
  {
   "cell_type": "code",
   "execution_count": 4,
   "metadata": {
    "collapsed": false
   },
   "outputs": [],
   "source": []
  },
  {
   "cell_type": "markdown",
   "metadata": {},
   "source": [
    "Un problema de IP se declara de la siguiente forma:"
   ]
  },
  {
   "cell_type": "code",
   "execution_count": 4,
   "metadata": {
    "collapsed": false
   },
   "outputs": [],
   "source": []
  },
  {
   "cell_type": "code",
   "execution_count": 5,
   "metadata": {
    "collapsed": false
   },
   "outputs": [],
   "source": [
    "P1=IPProblem(c=[1,2,1],\n",
    "            A=[[1,0,0],[0,0,1]], \n",
    "            b=[10,10] )"
   ]
  },
  {
   "cell_type": "markdown",
   "metadata": {},
   "source": [
    "O bien, simplemente como"
   ]
  },
  {
   "cell_type": "code",
   "execution_count": 6,
   "metadata": {
    "collapsed": false
   },
   "outputs": [],
   "source": [
    "P1=IPProblem([1,2,1],\n",
    "            [[1,0,0],[0,0,1]], \n",
    "            [10,10] )"
   ]
  },
  {
   "cell_type": "markdown",
   "metadata": {},
   "source": [
    "Para comprobar los datos que hemos metido, podemos \"imprimir\" el problema"
   ]
  },
  {
   "cell_type": "code",
   "execution_count": 7,
   "metadata": {
    "collapsed": false
   },
   "outputs": [
    {
     "name": "stdout",
     "output_type": "stream",
     "text": [
      "Integer programming problem\n",
      "    max\\{c.x : A x <= b,  0<=x<=u\\}\n",
      "with\n",
      "c=(1, 2, 1),\n",
      "A=\n",
      "[1 0 0]\n",
      "[0 0 1],\n",
      "b=(10, 10),\n",
      "u=(10, 0, 10).\n"
     ]
    }
   ],
   "source": [
    "print P1"
   ]
  },
  {
   "cell_type": "markdown",
   "metadata": {},
   "source": [
    "Algunas funciones útiles:\n",
    "\n",
    "* `is_feasible(v)` determina si el vector v es “feasible”.\n",
    "* `order(v,w)` determina si los vectores están ordenados para el orden $\\prec_c$  del artículo\n",
    "* `pm_split(v)` devuelve un par de vectores, correspondientes a $v^+$ y $v^-$ del artículo.\n",
    "* `succ(v)` devuelve el vector $v^\\prec$ del artículo\n",
    "\n",
    "Hay más funciones, pero no voy a dar ejemplos de todas. "
   ]
  },
  {
   "cell_type": "code",
   "execution_count": 8,
   "metadata": {
    "collapsed": false
   },
   "outputs": [
    {
     "data": {
      "text/plain": [
       "True"
      ]
     },
     "execution_count": 8,
     "metadata": {},
     "output_type": "execute_result"
    }
   ],
   "source": [
    "P1.is_feasible(vector(ZZ,[0,0,0]))"
   ]
  },
  {
   "cell_type": "code",
   "execution_count": 9,
   "metadata": {
    "collapsed": false
   },
   "outputs": [
    {
     "data": {
      "text/plain": [
       "-1"
      ]
     },
     "execution_count": 9,
     "metadata": {},
     "output_type": "execute_result"
    }
   ],
   "source": [
    "P1.order(vector(ZZ,[0,2,0]),vector(ZZ,[13,0,1]))"
   ]
  },
  {
   "cell_type": "markdown",
   "metadata": {},
   "source": [
    "Para las comprobaciones, uso el IP del Ejemplo 2.3 del artículo"
   ]
  },
  {
   "cell_type": "code",
   "execution_count": 10,
   "metadata": {
    "collapsed": false
   },
   "outputs": [
    {
     "name": "stdout",
     "output_type": "stream",
     "text": [
      "Integer programming problem\n",
      "    max\\{c.x : A x <= b,  0<=x<=u\\}\n",
      "with\n",
      "c=(1, 3, 2),\n",
      "A=\n",
      "[1 2 3],\n",
      "b=(3),\n",
      "u=(1, 1, 1).\n"
     ]
    }
   ],
   "source": [
    "P=IPProblem(c=[1,3,2], A=[[1,2,3]], b=[3], u=[1,1,1])\n",
    "print P"
   ]
  },
  {
   "cell_type": "markdown",
   "metadata": {},
   "source": [
    "Cálculo de un test set, simple y llan0; lo hago para los dos problemas que hemos definido, `P1` y `P`.  `test_set` usa el algoritmo 2.1"
   ]
  },
  {
   "cell_type": "code",
   "execution_count": 11,
   "metadata": {
    "collapsed": false
   },
   "outputs": [
    {
     "data": {
      "text/plain": [
       "[(1, 0, 0),\n",
       " (0, 1, 0),\n",
       " (0, 0, 1),\n",
       " (-1, 1, 0),\n",
       " (-1, 0, 1),\n",
       " (0, 1, -1),\n",
       " (1, 1, -1)]"
      ]
     },
     "execution_count": 11,
     "metadata": {},
     "output_type": "execute_result"
    }
   ],
   "source": [
    "set_verbose(0)\n",
    "P.test_set()"
   ]
  },
  {
   "cell_type": "code",
   "execution_count": 12,
   "metadata": {
    "collapsed": false
   },
   "outputs": [
    {
     "data": {
      "text/plain": [
       "[(1, 0, 0),\n",
       " (0, 0, 1),\n",
       " (1, 0, -1),\n",
       " (-1, 0, 2),\n",
       " (2, 0, -2),\n",
       " (-2, 0, 3),\n",
       " (-3, 0, 4),\n",
       " (3, 0, -3),\n",
       " (-4, 0, 5),\n",
       " (4, 0, -4),\n",
       " (-5, 0, 6),\n",
       " (-6, 0, 7),\n",
       " (5, 0, -5),\n",
       " (-7, 0, 8),\n",
       " (-8, 0, 9),\n",
       " (6, 0, -6),\n",
       " (-9, 0, 10),\n",
       " (7, 0, -7),\n",
       " (8, 0, -8),\n",
       " (9, 0, -9),\n",
       " (10, 0, -10)]"
      ]
     },
     "execution_count": 12,
     "metadata": {},
     "output_type": "execute_result"
    }
   ],
   "source": [
    "T=P1.test_set()\n",
    "T"
   ]
  },
  {
   "cell_type": "markdown",
   "metadata": {},
   "source": [
    "Como se puede ver, sobran vectores. Hay que definir varias funciones de reducción, pero no me entretengo. Sólo un ejemplo:"
   ]
  },
  {
   "cell_type": "code",
   "execution_count": 13,
   "metadata": {
    "collapsed": false
   },
   "outputs": [
    {
     "data": {
      "text/plain": [
       "True"
      ]
     },
     "execution_count": 13,
     "metadata": {},
     "output_type": "execute_result"
    }
   ],
   "source": [
    "P1.can_reduce_by(v=vector(ZZ, [1,0,-1]), w=vector([10,0,-10]))"
   ]
  },
  {
   "cell_type": "markdown",
   "metadata": {},
   "source": [
    "Ahora podemos reducir el test set que hemos encontrado."
   ]
  },
  {
   "cell_type": "code",
   "execution_count": 14,
   "metadata": {
    "collapsed": false
   },
   "outputs": [
    {
     "data": {
      "text/plain": [
       "[(1, 0, 0), (0, 0, 1)]"
      ]
     },
     "execution_count": 14,
     "metadata": {},
     "output_type": "execute_result"
    }
   ],
   "source": [
    "set_verbose(0) # or 2\n",
    "P1.inter_reduce(T)"
   ]
  },
  {
   "cell_type": "code",
   "execution_count": 14,
   "metadata": {
    "collapsed": false
   },
   "outputs": [],
   "source": []
  },
  {
   "cell_type": "code",
   "execution_count": 14,
   "metadata": {
    "collapsed": false
   },
   "outputs": [],
   "source": []
  },
  {
   "cell_type": "markdown",
   "metadata": {},
   "source": [
    "La función `minimal_test_set` es una implementación del algoritmo 2.7. Devuelve el único test-set minimal."
   ]
  },
  {
   "cell_type": "code",
   "execution_count": 15,
   "metadata": {
    "collapsed": false
   },
   "outputs": [
    {
     "data": {
      "text/plain": [
       "[(1, 0, 0), (0, 1, 0), (0, 0, 1), (-1, 1, 0), (-1, 0, 1), (0, 1, -1)]"
      ]
     },
     "execution_count": 15,
     "metadata": {},
     "output_type": "execute_result"
    }
   ],
   "source": [
    "P.minimal_test_set()"
   ]
  },
  {
   "cell_type": "code",
   "execution_count": 16,
   "metadata": {
    "collapsed": false
   },
   "outputs": [
    {
     "data": {
      "text/plain": [
       "[(1, 0, 0), (0, 0, 1)]"
      ]
     },
     "execution_count": 16,
     "metadata": {},
     "output_type": "execute_result"
    }
   ],
   "source": [
    "P1.minimal_test_set()"
   ]
  },
  {
   "cell_type": "markdown",
   "metadata": {},
   "source": [
    "Por último, `reduced_test_set` primero calcula un test set, sin reducir, y luego aplica reducción. Debe dar lo mismo que antes; el único test-set minimal."
   ]
  },
  {
   "cell_type": "code",
   "execution_count": 17,
   "metadata": {
    "collapsed": false
   },
   "outputs": [
    {
     "data": {
      "text/plain": [
       "[(1, 0, 0), (0, 1, 0), (0, 0, 1), (-1, 1, 0), (-1, 0, 1), (0, 1, -1)]"
      ]
     },
     "execution_count": 17,
     "metadata": {},
     "output_type": "execute_result"
    }
   ],
   "source": [
    "set_verbose(0)\n",
    "P.reduced_test_set()"
   ]
  },
  {
   "cell_type": "code",
   "execution_count": 18,
   "metadata": {
    "collapsed": false
   },
   "outputs": [
    {
     "data": {
      "text/plain": [
       "[(1, 0, 0), (0, 0, 1)]"
      ]
     },
     "execution_count": 18,
     "metadata": {},
     "output_type": "execute_result"
    }
   ],
   "source": [
    "P1.reduced_test_set()"
   ]
  },
  {
   "cell_type": "markdown",
   "metadata": {},
   "source": [
    "Algoritmo 2.10. Mejor que el Grobner simple, pero no necesariamente reducido."
   ]
  },
  {
   "cell_type": "code",
   "execution_count": 19,
   "metadata": {
    "collapsed": false
   },
   "outputs": [
    {
     "data": {
      "text/plain": [
       "[(1, 0, 0),\n",
       " (0, 0, 1),\n",
       " (1, 0, -1),\n",
       " (-1, 0, 2),\n",
       " (2, 0, -2),\n",
       " (-2, 0, 3),\n",
       " (3, 0, -3),\n",
       " (-3, 0, 4),\n",
       " (4, 0, -4),\n",
       " (-4, 0, 5),\n",
       " (5, 0, -5),\n",
       " (-5, 0, 6),\n",
       " (6, 0, -6),\n",
       " (-6, 0, 7),\n",
       " (7, 0, -7),\n",
       " (-7, 0, 8),\n",
       " (8, 0, -8),\n",
       " (-8, 0, 9),\n",
       " (9, 0, -9),\n",
       " (-9, 0, 10),\n",
       " (10, 0, -10)]"
      ]
     },
     "execution_count": 19,
     "metadata": {},
     "output_type": "execute_result"
    }
   ],
   "source": [
    "set_verbose(0)\n",
    "P1.test_set_non_reducibles()"
   ]
  },
  {
   "cell_type": "code",
   "execution_count": 20,
   "metadata": {
    "collapsed": false
   },
   "outputs": [
    {
     "data": {
      "text/plain": [
       "[(1, 0, 0), (0, 1, 0), (0, 0, 1), (-1, 1, 0), (-1, 0, 1), (0, 1, -1)]"
      ]
     },
     "execution_count": 20,
     "metadata": {},
     "output_type": "execute_result"
    }
   ],
   "source": [
    "P.test_set_non_reducibles()"
   ]
  },
  {
   "cell_type": "markdown",
   "metadata": {},
   "source": [
    "Anulo los cómputos de tiempo hasta que se estabilicen los algoritmos."
   ]
  },
  {
   "cell_type": "code",
   "execution_count": 21,
   "metadata": {
    "collapsed": false
   },
   "outputs": [],
   "source": [
    "#%timeit -n100 P.groebner_simple()"
   ]
  },
  {
   "cell_type": "code",
   "execution_count": 22,
   "metadata": {
    "collapsed": false
   },
   "outputs": [],
   "source": [
    "#%timeit -n100 P.groebner_with_reduction()"
   ]
  },
  {
   "cell_type": "code",
   "execution_count": 23,
   "metadata": {
    "collapsed": false
   },
   "outputs": [],
   "source": [
    "#%timeit -n100 P.groebner_reduced()"
   ]
  },
  {
   "cell_type": "code",
   "execution_count": 24,
   "metadata": {
    "collapsed": false
   },
   "outputs": [],
   "source": [
    "#%timeit -n100 P.groebner_non_reducibles()"
   ]
  },
  {
   "cell_type": "markdown",
   "metadata": {},
   "source": [
    "Cálculo del óptimo a partir de un factible. Siempre se usa el test set minimal.\n"
   ]
  },
  {
   "cell_type": "code",
   "execution_count": 25,
   "metadata": {
    "collapsed": false
   },
   "outputs": [
    {
     "data": {
      "text/plain": [
       "(1, 1, 0)"
      ]
     },
     "execution_count": 25,
     "metadata": {},
     "output_type": "execute_result"
    }
   ],
   "source": [
    "%run ipproblem\n",
    "P=IPProblem(c=[1,3,2], A=[[1,2,3]], b=[3], u=[1,1,1])\n",
    "set_verbose(0)\n",
    "P.walk_to_best([0,0,0])\n"
   ]
  },
  {
   "cell_type": "markdown",
   "metadata": {},
   "source": [
    "También podemos pedir el camino completo desde el inicial al final."
   ]
  },
  {
   "cell_type": "code",
   "execution_count": 26,
   "metadata": {
    "collapsed": false
   },
   "outputs": [
    {
     "data": {
      "text/plain": [
       "[(0, 0, 0), (0, 1, 0), (1, 1, 0)]"
      ]
     },
     "execution_count": 26,
     "metadata": {},
     "output_type": "execute_result"
    }
   ],
   "source": [
    "P.walk_to_best([0,0,0], path=True)"
   ]
  },
  {
   "cell_type": "code",
   "execution_count": 27,
   "metadata": {
    "collapsed": false
   },
   "outputs": [
    {
     "data": {
      "text/plain": [
       "(1, 1, 0)"
      ]
     },
     "execution_count": 27,
     "metadata": {},
     "output_type": "execute_result"
    }
   ],
   "source": [
    "P.walk_to_best([0,0,1])"
   ]
  },
  {
   "cell_type": "code",
   "execution_count": 28,
   "metadata": {
    "collapsed": false
   },
   "outputs": [
    {
     "data": {
      "text/plain": [
       "False"
      ]
     },
     "execution_count": 28,
     "metadata": {},
     "output_type": "execute_result"
    }
   ],
   "source": [
    "P.walk_to_best([10,10,10]) # not feasible"
   ]
  },
  {
   "cell_type": "code",
   "execution_count": 29,
   "metadata": {
    "collapsed": false
   },
   "outputs": [
    {
     "data": {
      "text/plain": [
       "[(0, 0, 0),\n",
       " (1, 0, 0),\n",
       " (2, 0, 0),\n",
       " (3, 0, 0),\n",
       " (4, 0, 0),\n",
       " (5, 0, 0),\n",
       " (6, 0, 0),\n",
       " (7, 0, 0),\n",
       " (8, 0, 0),\n",
       " (9, 0, 0),\n",
       " (10, 0, 0),\n",
       " (10, 0, 1),\n",
       " (10, 0, 2),\n",
       " (10, 0, 3),\n",
       " (10, 0, 4),\n",
       " (10, 0, 5),\n",
       " (10, 0, 6),\n",
       " (10, 0, 7),\n",
       " (10, 0, 8),\n",
       " (10, 0, 9),\n",
       " (10, 0, 10)]"
      ]
     },
     "execution_count": 29,
     "metadata": {},
     "output_type": "execute_result"
    }
   ],
   "source": [
    "P1.walk_to_best([0,0,0], path=True)"
   ]
  },
  {
   "cell_type": "code",
   "execution_count": 29,
   "metadata": {
    "collapsed": false
   },
   "outputs": [],
   "source": []
  },
  {
   "cell_type": "code",
   "execution_count": 29,
   "metadata": {
    "collapsed": false
   },
   "outputs": [],
   "source": []
  }
 ],
 "metadata": {
  "kernelspec": {
   "display_name": "Python 2",
   "language": "python",
   "name": "python2"
  },
  "language_info": {
   "codemirror_mode": {
    "name": "ipython",
    "version": 2
   },
   "file_extension": ".py",
   "mimetype": "text/x-python",
   "name": "python",
   "nbconvert_exporter": "python",
   "pygments_lexer": "ipython2",
   "version": "2.7.13"
  }
 },
 "nbformat": 4,
 "nbformat_minor": 0
}

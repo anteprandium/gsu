{
 "cells": [
  {
   "cell_type": "code",
   "execution_count": 5,
   "metadata": {
    "collapsed": true
   },
   "outputs": [],
   "source": [
    "%run ipproblem"
   ]
  },
  {
   "cell_type": "markdown",
   "metadata": {},
   "source": [
    "Esta hoja genera problemas con un número mínimo de generadores en el sistema minimal de generadores."
   ]
  },
  {
   "cell_type": "code",
   "execution_count": 6,
   "metadata": {
    "collapsed": false
   },
   "outputs": [],
   "source": [
    "def testProb(self, prob, n, d):\n",
    "    if prob == \"knap\":\n",
    "        A = random_matrix(ZZ,d,n, x= 10, y = 100)\n",
    "        c = random_vector(ZZ,n,10,15)\n",
    "        b = random_vector(ZZ,d,floor(mean(c)/4),floor(mean(c)*1.25))\n",
    "        R = IPProblem(c,A,b)\n",
    "        #u = vector(ZZ,[1 for i in range(n)])        \n",
    "    elif prob == \"cov\" :\n",
    "        A = random_matrix(ZZ,n,d, x= 10, y = 100)\n",
    "        b = vector(ZZ,[1 for i in range(d)])\n",
    "        c = random_vector(RR,n,10,15)\n",
    "        u = vector(ZZ,[1 for i in range(n)])        \n",
    "        R = IPProblem(c,A,b,u)\n",
    "    else:\n",
    "        print \"El problema \"+prob+\" no está implementado\"\n",
    "        return False   \n",
    "    \n",
    "    set_verbose(0)    \n",
    "    H=R.minimal_test_set()\n",
    "    if len(H) > 0:\n",
    "        v=R.get_feasible()\n",
    "        R.walk_to_best(v, path=True)\n",
    "        return R\n",
    "    else:\n",
    "        return False\n",
    "    #[R.cost(v) for v in _]    \n",
    "    \n",
    "def bateryProb(self,prob,n,d,minvectors):\n",
    "    P = testProb(\"self\",\"knap\",20,1)\n",
    "    while not P or len(P.minimal) < minvectors:\n",
    "        P = testProb(\"self\",\"knap\",20,1)        \n",
    "    print P\n",
    "    print len(P.minimal)\n",
    "    return P\n",
    "    "
   ]
  },
  {
   "cell_type": "code",
   "execution_count": 7,
   "metadata": {
    "collapsed": false
   },
   "outputs": [
    {
     "data": {
      "text/plain": [
       "False"
      ]
     },
     "execution_count": 7,
     "metadata": {},
     "output_type": "execute_result"
    }
   ],
   "source": [
    "testProb(\"self\",\"knap\",20,1)"
   ]
  },
  {
   "cell_type": "code",
   "execution_count": null,
   "metadata": {
    "collapsed": false
   },
   "outputs": [],
   "source": [
    "\n",
    "P=bateryProb(\"self\",\"knap\",20,1,20)"
   ]
  },
  {
   "cell_type": "code",
   "execution_count": null,
   "metadata": {
    "collapsed": false
   },
   "outputs": [],
   "source": [
    "P.minimal"
   ]
  },
  {
   "cell_type": "code",
   "execution_count": null,
   "metadata": {
    "collapsed": true
   },
   "outputs": [],
   "source": []
  }
 ],
 "metadata": {
  "kernelspec": {
   "display_name": "Sage 6.6",
   "language": "",
   "name": "sage_6_6"
  },
  "language_info": {
   "codemirror_mode": {
    "name": "ipython",
    "version": 2
   },
   "file_extension": ".py",
   "mimetype": "text/x-python",
   "name": "python",
   "nbconvert_exporter": "python",
   "pygments_lexer": "ipython2",
   "version": "2.7.8"
  }
 },
 "nbformat": 4,
 "nbformat_minor": 0
}

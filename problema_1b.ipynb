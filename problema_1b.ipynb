{
 "cells": [
  {
   "cell_type": "code",
   "execution_count": 1,
   "metadata": {
    "collapsed": false
   },
   "outputs": [],
   "source": [
    "%run ipproblem"
   ]
  },
  {
   "cell_type": "code",
   "execution_count": 2,
   "metadata": {
    "collapsed": false
   },
   "outputs": [],
   "source": [
    "c=(4, 1, 1, 3, 4, 2, 2, 2, 2, 3, 1, 3)\n",
    "A=[[1, 0, 0, 3, 1, 3, 3, 2, 1, 1, 3, 3],\n",
    "   [0, 3, 2, 0, 3, 2, 2, 2, 3, 0, 1, 2],\n",
    "   [0, 1, 2, 2, 1, 2, 0, 1, 2, 0, 3, 3],\n",
    "   [3, 0, 1, 2, 0, 0, 1, 1, 0, 1, 3, 1]]\n",
    "b=(17, 2, 13, 9)\n",
    "u=(1, 1, 1, 1, 1, 1, 1, 1, 1, 1, 1, 1)\n",
    "\n"
   ]
  },
  {
   "cell_type": "code",
   "execution_count": 2,
   "metadata": {
    "collapsed": false
   },
   "outputs": [],
   "source": []
  },
  {
   "cell_type": "code",
   "execution_count": 3,
   "metadata": {
    "collapsed": false
   },
   "outputs": [],
   "source": [
    "set_verbose(0)\n",
    "R=IPProblem(c,A,b,u)"
   ]
  },
  {
   "cell_type": "code",
   "execution_count": 25,
   "metadata": {
    "collapsed": false
   },
   "outputs": [],
   "source": [
    "G1=R.test_set_non_reducibles()"
   ]
  },
  {
   "cell_type": "code",
   "execution_count": 26,
   "metadata": {
    "collapsed": false
   },
   "outputs": [
    {
     "data": {
      "text/plain": [
       "82"
      ]
     },
     "execution_count": 26,
     "metadata": {},
     "output_type": "execute_result"
    }
   ],
   "source": [
    "len(G1)"
   ]
  },
  {
   "cell_type": "code",
   "execution_count": 27,
   "metadata": {
    "collapsed": false
   },
   "outputs": [],
   "source": [
    "def check_set(R,G1):\n",
    "    for v in G1:\n",
    "        vp,vm=R.pm_split(v)\n",
    "        print (v,R.order(v, vector(ZZ,len(v)*[0]))>0, R.is_feasible(vp), R.is_feasible(vm))"
   ]
  },
  {
   "cell_type": "code",
   "execution_count": 28,
   "metadata": {
    "collapsed": false
   },
   "outputs": [],
   "source": [
    "G=R.minimal_test_set()"
   ]
  },
  {
   "cell_type": "code",
   "execution_count": 29,
   "metadata": {
    "collapsed": false
   },
   "outputs": [
    {
     "data": {
      "text/plain": [
       "66"
      ]
     },
     "execution_count": 29,
     "metadata": {},
     "output_type": "execute_result"
    }
   ],
   "source": [
    "len(G)"
   ]
  },
  {
   "cell_type": "code",
   "execution_count": 9,
   "metadata": {
    "collapsed": false
   },
   "outputs": [],
   "source": [
    "#check_set(R,G)"
   ]
  },
  {
   "cell_type": "code",
   "execution_count": 10,
   "metadata": {
    "collapsed": false
   },
   "outputs": [
    {
     "data": {
      "text/plain": [
       "61"
      ]
     },
     "execution_count": 10,
     "metadata": {},
     "output_type": "execute_result"
    }
   ],
   "source": [
    "H=R.inter_reduce(G1)\n",
    "len(H)"
   ]
  },
  {
   "cell_type": "code",
   "execution_count": 11,
   "metadata": {
    "collapsed": false
   },
   "outputs": [
    {
     "data": {
      "text/plain": [
       "66"
      ]
     },
     "execution_count": 11,
     "metadata": {},
     "output_type": "execute_result"
    }
   ],
   "source": [
    "Z=R.inter_reduce(G)\n",
    "len(Z)"
   ]
  },
  {
   "cell_type": "code",
   "execution_count": 12,
   "metadata": {
    "collapsed": false
   },
   "outputs": [
    {
     "data": {
      "text/plain": [
       "True"
      ]
     },
     "execution_count": 12,
     "metadata": {},
     "output_type": "execute_result"
    }
   ],
   "source": [
    "Z==G"
   ]
  },
  {
   "cell_type": "code",
   "execution_count": 13,
   "metadata": {
    "collapsed": false
   },
   "outputs": [],
   "source": [
    "for v in H:\n",
    "    if not v in G:\n",
    "        print v\n",
    "        "
   ]
  },
  {
   "cell_type": "code",
   "execution_count": 14,
   "metadata": {
    "collapsed": false
   },
   "outputs": [
    {
     "name": "stdout",
     "output_type": "stream",
     "text": [
      "[(1, 0, 0, -1, 0, 1, 0, 0, 0, -1, 0, 0), (1, 0, 0, -1, 0, 1, 0, 0, 0, 0, 0, -1), (0, 0, -1, -1, 0, 0, 0, 1, 0, 1, 0, 0), (1, 0, 0, 0, 0, 1, 0, 0, 0, -1, 0, -1), (0, 0, 0, -1, 0, -1, 0, 0, 0, 1, 0, 1)]\n"
     ]
    }
   ],
   "source": [
    "l=[]\n",
    "for v in G:\n",
    "    if not v in H:\n",
    "        l.append(v)\n",
    "print l"
   ]
  },
  {
   "cell_type": "code",
   "execution_count": 15,
   "metadata": {
    "collapsed": false
   },
   "outputs": [
    {
     "name": "stdout",
     "output_type": "stream",
     "text": [
      "((1, 0, 0, -1, 0, 1, 0, 0, 0, -1, 0, 0), True, True, True)\n",
      "((1, 0, 0, -1, 0, 1, 0, 0, 0, 0, 0, -1), True, True, True)\n",
      "((0, 0, -1, -1, 0, 0, 0, 1, 0, 1, 0, 0), True, True, True)\n",
      "((1, 0, 0, 0, 0, 1, 0, 0, 0, -1, 0, -1), True, True, True)\n",
      "((0, 0, 0, -1, 0, -1, 0, 0, 0, 1, 0, 1), True, True, True)\n"
     ]
    }
   ],
   "source": [
    "check_set(R,l)"
   ]
  },
  {
   "cell_type": "code",
   "execution_count": 16,
   "metadata": {
    "collapsed": false
   },
   "outputs": [
    {
     "data": {
      "text/plain": [
       "(1, 0, 0, 0, 0, 0, 0, 0, 0, 0, 0, 0)"
      ]
     },
     "execution_count": 16,
     "metadata": {},
     "output_type": "execute_result"
    }
   ],
   "source": [
    "R.get_feasible()"
   ]
  },
  {
   "cell_type": "code",
   "execution_count": 17,
   "metadata": {
    "collapsed": false
   },
   "outputs": [],
   "source": [
    "v=R.minimal[0]"
   ]
  },
  {
   "cell_type": "code",
   "execution_count": 18,
   "metadata": {
    "collapsed": false
   },
   "outputs": [
    {
     "data": {
      "text/plain": [
       "[(1, 0, 0, 0, 0, 0, 0, 0, 0, 0, 0, 0),\n",
       " (1, 0, 0, 1, 0, 0, 0, 0, 0, 0, 0, 0),\n",
       " (1, 0, 0, 1, 0, 0, 0, 0, 0, 1, 0, 0),\n",
       " (1, 0, 0, 1, 0, 0, 0, 0, 0, 1, 0, 1)]"
      ]
     },
     "execution_count": 18,
     "metadata": {},
     "output_type": "execute_result"
    }
   ],
   "source": [
    "R.walk_to_best(v, path=True)"
   ]
  },
  {
   "cell_type": "code",
   "execution_count": 19,
   "metadata": {
    "collapsed": false
   },
   "outputs": [
    {
     "data": {
      "text/plain": [
       "[4, 7, 10, 13]"
      ]
     },
     "execution_count": 19,
     "metadata": {},
     "output_type": "execute_result"
    }
   ],
   "source": [
    "[R.cost(v) for v in _]"
   ]
  },
  {
   "cell_type": "code",
   "execution_count": 20,
   "metadata": {
    "collapsed": false
   },
   "outputs": [],
   "source": [
    "set_verbose(1)\n",
    "#R.test_set()"
   ]
  },
  {
   "cell_type": "code",
   "execution_count": 21,
   "metadata": {
    "collapsed": false
   },
   "outputs": [],
   "source": [
    "set_verbose(0)"
   ]
  },
  {
   "cell_type": "code",
   "execution_count": 21,
   "metadata": {
    "collapsed": false
   },
   "outputs": [],
   "source": []
  },
  {
   "cell_type": "code",
   "execution_count": null,
   "metadata": {
    "collapsed": false
   },
   "outputs": [],
   "source": []
  }
 ],
 "metadata": {
  "kernelspec": {
   "display_name": "Python 2",
   "language": "python",
   "name": "python2"
  },
  "language_info": {
   "codemirror_mode": {
    "name": "ipython",
    "version": 2
   },
   "file_extension": ".py",
   "mimetype": "text/x-python",
   "name": "python",
   "nbconvert_exporter": "python",
   "pygments_lexer": "ipython2",
   "version": "2.7.10"
  }
 },
 "nbformat": 4,
 "nbformat_minor": 0
}

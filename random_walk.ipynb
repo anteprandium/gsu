{
 "metadata": {
  "name": "",
  "signature": "sha256:e63407694dee12ec9e75db532c728191d69c19e0f3bf14a3759925236637c820"
 },
 "nbformat": 3,
 "nbformat_minor": 0,
 "worksheets": [
  {
   "cells": [
    {
     "cell_type": "code",
     "collapsed": false,
     "input": [
      "%run ipproblem"
     ],
     "language": "python",
     "metadata": {},
     "outputs": [],
     "prompt_number": 47
    },
    {
     "cell_type": "code",
     "collapsed": false,
     "input": [
      "filas=1\n",
      "columnas=8\n",
      "A=random_matrix(ZZ,filas,columnas, x=0, y=3)\n",
      "c=random_vector(ZZ,columnas, x=1, y=3)\n",
      "b=random_vector(ZZ,filas, x=1, y=columnas+6)\n",
      "u=vector(ZZ, columnas*[1])\n",
      "c,A,b,u"
     ],
     "language": "python",
     "metadata": {},
     "outputs": [
      {
       "metadata": {},
       "output_type": "pyout",
       "prompt_number": 48,
       "text": [
        "((1, 2, 2, 1, 1, 1, 2, 1), [1 2 0 1 0 1 2 2], (6), (1, 1, 1, 1, 1, 1, 1, 1))"
       ]
      }
     ],
     "prompt_number": 48
    },
    {
     "cell_type": "code",
     "collapsed": false,
     "input": [
      "R=IPProblem(c,A,b)\n",
      "print R"
     ],
     "language": "python",
     "metadata": {},
     "outputs": [
      {
       "output_type": "stream",
       "stream": "stdout",
       "text": [
        "Integer programming problem\n",
        "    max\\{c.x : A x <= b,  0<=x<=u\\}\n",
        "with\n",
        "c=(1, 2, 2, 1, 1, 1, 2, 1),\n",
        "A=\n",
        "[1 2 0 1 0 1 2 2],\n",
        "b=(6),\n",
        "u=(6, 3, 0, 6, 0, 6, 3, 3).\n"
       ]
      }
     ],
     "prompt_number": 58
    },
    {
     "cell_type": "code",
     "collapsed": false,
     "input": [
      "%%prun\n",
      "HH=R.test_set_non_reducibles()\n",
      "H=R.inter_reduce(HH)"
     ],
     "language": "python",
     "metadata": {},
     "outputs": [
      {
       "output_type": "stream",
       "stream": "stdout",
       "text": [
        " "
       ]
      }
     ],
     "prompt_number": 50
    },
    {
     "cell_type": "code",
     "collapsed": false,
     "input": [
      "len(H), len(HH)"
     ],
     "language": "python",
     "metadata": {},
     "outputs": [
      {
       "metadata": {},
       "output_type": "pyout",
       "prompt_number": 51,
       "text": [
        "(33, 2716)"
       ]
      }
     ],
     "prompt_number": 51
    },
    {
     "cell_type": "code",
     "collapsed": false,
     "input": [
      "%%prun\n",
      "G=R.minimal_test_set()"
     ],
     "language": "python",
     "metadata": {},
     "outputs": [
      {
       "output_type": "stream",
       "stream": "stdout",
       "text": [
        " "
       ]
      }
     ],
     "prompt_number": 52
    },
    {
     "cell_type": "code",
     "collapsed": false,
     "input": [
      "len(G)"
     ],
     "language": "python",
     "metadata": {},
     "outputs": [
      {
       "metadata": {},
       "output_type": "pyout",
       "prompt_number": 53,
       "text": [
        "33"
       ]
      }
     ],
     "prompt_number": 53
    },
    {
     "cell_type": "code",
     "collapsed": false,
     "input": [
      "(all(R.is_improvement(v) for v in G) and\n",
      "    all(R.is_improvement(v) for v in H) and \n",
      "    all(R.is_improvement(v) for v in HH) and\n",
      "    len(H)==len(G) and \n",
      "    all(v in G for v in H) and \n",
      "    all(v in H for v in G))"
     ],
     "language": "python",
     "metadata": {},
     "outputs": [
      {
       "metadata": {},
       "output_type": "pyout",
       "prompt_number": 54,
       "text": [
        "True"
       ]
      }
     ],
     "prompt_number": 54
    },
    {
     "cell_type": "code",
     "collapsed": false,
     "input": [
      "L=R.walk_to_best(R.get_feasible(), path=True)\n",
      "L"
     ],
     "language": "python",
     "metadata": {},
     "outputs": [
      {
       "metadata": {},
       "output_type": "pyout",
       "prompt_number": 55,
       "text": [
        "[(1, 0, 0, 0, 0, 0, 0, 0),\n",
        " (1, 1, 0, 0, 0, 0, 0, 0),\n",
        " (1, 2, 0, 0, 0, 0, 0, 0),\n",
        " (2, 2, 0, 0, 0, 0, 0, 0),\n",
        " (6, 0, 0, 0, 0, 0, 0, 0)]"
       ]
      }
     ],
     "prompt_number": 55
    },
    {
     "cell_type": "code",
     "collapsed": false,
     "input": [
      "[R.cost(v) for v in L]"
     ],
     "language": "python",
     "metadata": {},
     "outputs": [
      {
       "metadata": {},
       "output_type": "pyout",
       "prompt_number": 56,
       "text": [
        "[1, 3, 5, 6, 6]"
       ]
      }
     ],
     "prompt_number": 56
    },
    {
     "cell_type": "code",
     "collapsed": false,
     "input": [
      "A*L[-1], b"
     ],
     "language": "python",
     "metadata": {},
     "outputs": [
      {
       "metadata": {},
       "output_type": "pyout",
       "prompt_number": 57,
       "text": [
        "((6), (6))"
       ]
      }
     ],
     "prompt_number": 57
    },
    {
     "cell_type": "code",
     "collapsed": false,
     "input": [
      "print G"
     ],
     "language": "python",
     "metadata": {},
     "outputs": [
      {
       "output_type": "stream",
       "stream": "stdout",
       "text": [
        "[(1, 0, 0, 0, 0, 0, 0, 0), (0, 1, 0, 0, 0, 0, 0, 0), (0, 0, 0, 1, 0, 0, 0, 0), (0, 0, 0, 0, 0, 1, 0, 0), (0, 0, 0, 0, 0, 0, 1, 0), (0, 0, 0, 0, 0, 0, 0, 1), (-1, 1, 0, 0, 0, 0, 0, 0), (1, 0, 0, -1, 0, 0, 0, 0), (1, 0, 0, 0, 0, -1, 0, 0), (-1, 0, 0, 0, 0, 0, 1, 0), (1, 0, 0, 0, 0, 0, 0, -1), (0, 1, 0, -1, 0, 0, 0, 0), (0, 1, 0, 0, 0, -1, 0, 0), (0, 1, 0, 0, 0, 0, -1, 0), (0, 1, 0, 0, 0, 0, 0, -1), (0, 0, 0, 1, 0, -1, 0, 0), (0, 0, 0, -1, 0, 0, 1, 0), (0, 0, 0, 1, 0, 0, 0, -1), (0, 0, 0, 0, 0, -1, 1, 0), (0, 0, 0, 0, 0, 1, 0, -1), (0, 0, 0, 0, 0, 0, 1, -1), (2, -1, 0, 0, 0, 0, 0, 0), (1, -1, 0, 1, 0, 0, 0, 0), (1, -1, 0, 0, 0, 1, 0, 0), (2, 0, 0, 0, 0, 0, -1, 0), (1, 0, 0, 1, 0, 0, -1, 0), (1, 0, 0, 0, 0, 1, -1, 0), (0, 1, 0, -2, 0, 0, 0, 0), (0, 1, 0, -1, 0, -1, 0, 0), (0, 1, 0, 0, 0, -2, 0, 0), (0, 0, 0, 2, 0, 0, -1, 0), (0, 0, 0, 1, 0, 1, -1, 0), (0, 0, 0, 0, 0, 2, -1, 0)]\n"
       ]
      }
     ],
     "prompt_number": 60
    },
    {
     "cell_type": "code",
     "collapsed": false,
     "input": [],
     "language": "python",
     "metadata": {},
     "outputs": []
    }
   ],
   "metadata": {}
  }
 ]
}
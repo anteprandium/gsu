{
 "metadata": {
  "name": "",
  "signature": "sha256:f3ff80865980f70e20a00c2b58ba3393be6810d21a8625288c30ea7ccf1aea0c"
 },
 "nbformat": 3,
 "nbformat_minor": 0,
 "worksheets": [
  {
   "cells": [
    {
     "cell_type": "code",
     "collapsed": false,
     "input": [
      "%run ipproblem"
     ],
     "language": "python",
     "metadata": {},
     "outputs": [],
     "prompt_number": 1
    },
    {
     "cell_type": "code",
     "collapsed": false,
     "input": [
      "filas=1\n",
      "columnas=6\n",
      "A=random_matrix(ZZ,filas,columnas, x=0, y=4)\n",
      "c=random_vector(ZZ,columnas, x=1, y=5)\n",
      "b=random_vector(ZZ,filas, x=1, y=20)\n",
      "u=vector(ZZ, columnas*[1])\n",
      "c,A,b,u"
     ],
     "language": "python",
     "metadata": {},
     "outputs": [
      {
       "metadata": {},
       "output_type": "pyout",
       "prompt_number": 2,
       "text": [
        "((3, 1, 1, 3, 3, 2), [2 2 3 1 2 3], (15), (1, 1, 1, 1, 1, 1))"
       ]
      }
     ],
     "prompt_number": 2
    },
    {
     "cell_type": "code",
     "collapsed": false,
     "input": [
      "R=IPProblem(c,A,b,u)"
     ],
     "language": "python",
     "metadata": {},
     "outputs": [],
     "prompt_number": 3
    },
    {
     "cell_type": "code",
     "collapsed": false,
     "input": [
      "HH=R.test_set_non_reducibles()\n"
     ],
     "language": "python",
     "metadata": {},
     "outputs": [],
     "prompt_number": 4
    },
    {
     "cell_type": "code",
     "collapsed": false,
     "input": [
      "len(HH)"
     ],
     "language": "python",
     "metadata": {},
     "outputs": [
      {
       "metadata": {},
       "output_type": "pyout",
       "prompt_number": 5,
       "text": [
        "97"
       ]
      }
     ],
     "prompt_number": 5
    },
    {
     "cell_type": "code",
     "collapsed": false,
     "input": [
      "H=R.inter_reduce(HH)\n",
      "len(H)"
     ],
     "language": "python",
     "metadata": {},
     "outputs": [
      {
       "metadata": {},
       "output_type": "pyout",
       "prompt_number": 6,
       "text": [
        "21"
       ]
      }
     ],
     "prompt_number": 6
    },
    {
     "cell_type": "code",
     "collapsed": false,
     "input": [
      "G=R.minimal_test_set()"
     ],
     "language": "python",
     "metadata": {},
     "outputs": [],
     "prompt_number": 7
    },
    {
     "cell_type": "code",
     "collapsed": false,
     "input": [
      "(all(R.is_improvement(v) for v in G) and\n",
      "    all(R.is_improvement(v) for v in H) and \n",
      "    all(R.is_improvement(v) for v in HH) and\n",
      "    len(H)==len(G) and \n",
      "    all(v in G for v in H) and \n",
      "    all(v in H for v in G))"
     ],
     "language": "python",
     "metadata": {},
     "outputs": [
      {
       "metadata": {},
       "output_type": "pyout",
       "prompt_number": 8,
       "text": [
        "True"
       ]
      }
     ],
     "prompt_number": 8
    },
    {
     "cell_type": "code",
     "collapsed": false,
     "input": [
      "L=R.walk_to_best(R.get_feasible(), path=True)\n",
      "L"
     ],
     "language": "python",
     "metadata": {},
     "outputs": [
      {
       "metadata": {},
       "output_type": "pyout",
       "prompt_number": 9,
       "text": [
        "[(1, 0, 0, 0, 0, 0),\n",
        " (1, 0, 0, 1, 0, 0),\n",
        " (1, 0, 0, 1, 1, 0),\n",
        " (1, 0, 0, 1, 1, 1),\n",
        " (1, 1, 0, 1, 1, 1),\n",
        " (1, 1, 1, 1, 1, 1)]"
       ]
      }
     ],
     "prompt_number": 9
    },
    {
     "cell_type": "code",
     "collapsed": false,
     "input": [
      "[R.cost(v) for v in L]"
     ],
     "language": "python",
     "metadata": {},
     "outputs": [
      {
       "metadata": {},
       "output_type": "pyout",
       "prompt_number": 10,
       "text": [
        "[3, 6, 9, 11, 12, 13]"
       ]
      }
     ],
     "prompt_number": 10
    },
    {
     "cell_type": "code",
     "collapsed": false,
     "input": [
      "A*L[-1], b"
     ],
     "language": "python",
     "metadata": {},
     "outputs": [
      {
       "metadata": {},
       "output_type": "pyout",
       "prompt_number": 11,
       "text": [
        "((13), (15))"
       ]
      }
     ],
     "prompt_number": 11
    },
    {
     "cell_type": "code",
     "collapsed": false,
     "input": [],
     "language": "python",
     "metadata": {},
     "outputs": [],
     "prompt_number": 11
    },
    {
     "cell_type": "code",
     "collapsed": false,
     "input": [
      "filas=1\n",
      "columnas=8\n",
      "A=random_matrix(ZZ,filas,columnas, x=0, y=4)\n",
      "c=random_vector(ZZ,columnas, x=1, y=5)\n",
      "b=random_vector(ZZ,filas, x=1, y=20)\n",
      "u=vector(ZZ, columnas*[1])\n",
      "c,A,b,u\n",
      "P=IPProblem(c,A,b,u)"
     ],
     "language": "python",
     "metadata": {},
     "outputs": [],
     "prompt_number": 12
    },
    {
     "cell_type": "code",
     "collapsed": false,
     "input": [
      "print P"
     ],
     "language": "python",
     "metadata": {},
     "outputs": [
      {
       "output_type": "stream",
       "stream": "stdout",
       "text": [
        "Integer programming problem\n",
        "    max\\{c.x : A x <= b,  0<=x<=u\\}\n",
        "with\n",
        "c=(3, 2, 1, 3, 3, 3, 1, 3),\n",
        "A=\n",
        "[2 1 3 0 0 1 3 1],\n",
        "b=(9),\n",
        "u=(1, 1, 1, 1, 1, 1, 1, 1).\n"
       ]
      }
     ],
     "prompt_number": 13
    },
    {
     "cell_type": "code",
     "collapsed": false,
     "input": [
      "G=P.test_set_non_reducibles()"
     ],
     "language": "python",
     "metadata": {},
     "outputs": [],
     "prompt_number": 14
    },
    {
     "cell_type": "code",
     "collapsed": false,
     "input": [
      "P.minimal_test_set()"
     ],
     "language": "python",
     "metadata": {},
     "outputs": [
      {
       "metadata": {},
       "output_type": "pyout",
       "prompt_number": 15,
       "text": [
        "[(1, 0, 0, 0, 0, 0, 0, 0),\n",
        " (0, 1, 0, 0, 0, 0, 0, 0),\n",
        " (0, 0, 1, 0, 0, 0, 0, 0),\n",
        " (0, 0, 0, 1, 0, 0, 0, 0),\n",
        " (0, 0, 0, 0, 1, 0, 0, 0),\n",
        " (0, 0, 0, 0, 0, 1, 0, 0),\n",
        " (0, 0, 0, 0, 0, 0, 1, 0),\n",
        " (0, 0, 0, 0, 0, 0, 0, 1),\n",
        " (1, -1, 0, 0, 0, 0, 0, 0),\n",
        " (1, 0, -1, 0, 0, 0, 0, 0),\n",
        " (1, 0, 0, 0, 0, -1, 0, 0),\n",
        " (1, 0, 0, 0, 0, 0, -1, 0),\n",
        " (1, 0, 0, 0, 0, 0, 0, -1),\n",
        " (0, 1, -1, 0, 0, 0, 0, 0),\n",
        " (0, -1, 0, 0, 0, 1, 0, 0),\n",
        " (0, 1, 0, 0, 0, 0, -1, 0),\n",
        " (0, -1, 0, 0, 0, 0, 0, 1),\n",
        " (0, 0, -1, 0, 0, 1, 0, 0),\n",
        " (0, 0, 1, 0, 0, 0, -1, 0),\n",
        " (0, 0, -1, 0, 0, 0, 0, 1),\n",
        " (0, 0, 0, 0, 0, 1, -1, 0),\n",
        " (0, 0, 0, 0, 0, 1, 0, -1),\n",
        " (0, 0, 0, 0, 0, 0, -1, 1),\n",
        " (-1, 1, 0, 0, 0, 1, 0, 0),\n",
        " (-1, 1, 0, 0, 0, 0, 0, 1),\n",
        " (-1, 0, 0, 0, 0, 1, 0, 1)]"
       ]
      }
     ],
     "prompt_number": 15
    },
    {
     "cell_type": "code",
     "collapsed": false,
     "input": [
      "P.walk_to_best(P.get_feasible(), path=True)"
     ],
     "language": "python",
     "metadata": {},
     "outputs": [
      {
       "metadata": {},
       "output_type": "pyout",
       "prompt_number": 16,
       "text": [
        "[(1, 0, 0, 0, 0, 0, 0, 0),\n",
        " (1, 0, 0, 1, 0, 0, 0, 0),\n",
        " (1, 0, 0, 1, 1, 0, 0, 0),\n",
        " (1, 0, 0, 1, 1, 1, 0, 0),\n",
        " (1, 0, 0, 1, 1, 1, 0, 1),\n",
        " (1, 1, 0, 1, 1, 1, 0, 1),\n",
        " (1, 1, 1, 1, 1, 1, 0, 1)]"
       ]
      }
     ],
     "prompt_number": 16
    },
    {
     "cell_type": "code",
     "collapsed": false,
     "input": [
      "[P.cost(v) for v in _]"
     ],
     "language": "python",
     "metadata": {},
     "outputs": [
      {
       "metadata": {},
       "output_type": "pyout",
       "prompt_number": 17,
       "text": [
        "[3, 6, 9, 12, 15, 17, 18]"
       ]
      }
     ],
     "prompt_number": 17
    },
    {
     "cell_type": "code",
     "collapsed": false,
     "input": [],
     "language": "python",
     "metadata": {},
     "outputs": [],
     "prompt_number": 17
    }
   ],
   "metadata": {}
  }
 ]
}
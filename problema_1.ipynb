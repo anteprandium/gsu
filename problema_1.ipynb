{
 "cells": [
  {
   "cell_type": "code",
   "execution_count": 5,
   "metadata": {
    "collapsed": false
   },
   "outputs": [],
   "source": [
    "%run ipproblem"
   ]
  },
  {
   "cell_type": "code",
   "execution_count": 6,
   "metadata": {
    "collapsed": false
   },
   "outputs": [],
   "source": [
    "c=(4, 1, 1, 3, 4, 2, 2, 2, 2, 3, 1, 3)\n",
    "A=[[1, 0, 0, 3, 1, 3, 3, 2, 1, 1, 3, 3],\n",
    "   [0, 3, 2, 0, 3, 2, 2, 2, 3, 0, 1, 2],\n",
    "   [0, 1, 2, 2, 1, 2, 0, 1, 2, 0, 3, 3],\n",
    "   [3, 0, 1, 2, 0, 0, 1, 1, 0, 1, 3, 1]]\n",
    "b=(17, 2, 13, 9)\n",
    "u=(1, 1, 1, 1, 1, 1, 1, 1, 1, 1, 1, 1)\n",
    "\n"
   ]
  },
  {
   "cell_type": "code",
   "execution_count": null,
   "metadata": {
    "collapsed": false
   },
   "outputs": [],
   "source": []
  },
  {
   "cell_type": "code",
   "execution_count": 7,
   "metadata": {
    "collapsed": false
   },
   "outputs": [],
   "source": [
    "set_verbose(0)\n",
    "R=IPProblem(c,A,b,u)"
   ]
  },
  {
   "cell_type": "code",
   "execution_count": 8,
   "metadata": {
    "collapsed": false
   },
   "outputs": [
    {
     "data": {
      "text/plain": [
       "(168, 66)"
      ]
     },
     "execution_count": 8,
     "metadata": {},
     "output_type": "execute_result"
    }
   ],
   "source": [
    "H1=R.test_set_non_reducibles()\n",
    "H=R.inter_reduce(H1)\n",
    "len(H1), len(H)"
   ]
  },
  {
   "cell_type": "code",
   "execution_count": 9,
   "metadata": {
    "collapsed": false
   },
   "outputs": [
    {
     "data": {
      "text/plain": [
       "66"
      ]
     },
     "execution_count": 9,
     "metadata": {},
     "output_type": "execute_result"
    }
   ],
   "source": [
    "G=R.minimal_test_set()\n",
    "len(G)"
   ]
  },
  {
   "cell_type": "markdown",
   "metadata": {},
   "source": [
    "Comprobaciones"
   ]
  },
  {
   "cell_type": "code",
   "execution_count": 10,
   "metadata": {
    "collapsed": false
   },
   "outputs": [
    {
     "data": {
      "text/plain": [
       "True"
      ]
     },
     "execution_count": 10,
     "metadata": {},
     "output_type": "execute_result"
    }
   ],
   "source": [
    "(all(R.is_improvement(v) for v in G) and \n",
    " all(R.is_improvement(v) for v in H) and \n",
    " len(H)==len(G) and \n",
    " all(v in G for v in H) \n",
    " and all(v in H1 for v in G))"
   ]
  },
  {
   "cell_type": "code",
   "execution_count": 11,
   "metadata": {
    "collapsed": false
   },
   "outputs": [
    {
     "data": {
      "text/plain": [
       "(1, 0, 0, 0, 0, 0, 0, 0, 0, 0, 0, 0)"
      ]
     },
     "execution_count": 11,
     "metadata": {},
     "output_type": "execute_result"
    }
   ],
   "source": [
    "v=R.get_feasible()\n",
    "v"
   ]
  },
  {
   "cell_type": "code",
   "execution_count": 12,
   "metadata": {
    "collapsed": false
   },
   "outputs": [
    {
     "data": {
      "text/plain": [
       "[(1, 0, 0, 0, 0, 0, 0, 0, 0, 0, 0, 0),\n",
       " (1, 0, 0, 1, 0, 0, 0, 0, 0, 0, 0, 0),\n",
       " (1, 0, 0, 1, 0, 0, 0, 0, 0, 1, 0, 0),\n",
       " (1, 0, 0, 1, 0, 0, 0, 0, 0, 1, 0, 1)]"
      ]
     },
     "execution_count": 12,
     "metadata": {},
     "output_type": "execute_result"
    }
   ],
   "source": [
    "R.walk_to_best(v, path=True)"
   ]
  },
  {
   "cell_type": "code",
   "execution_count": 13,
   "metadata": {
    "collapsed": false
   },
   "outputs": [
    {
     "data": {
      "text/plain": [
       "[4, 7, 10, 13]"
      ]
     },
     "execution_count": 13,
     "metadata": {},
     "output_type": "execute_result"
    }
   ],
   "source": [
    "[R.cost(v) for v in _]"
   ]
  },
  {
   "cell_type": "code",
   "execution_count": 14,
   "metadata": {
    "collapsed": false
   },
   "outputs": [
    {
     "name": "stdout",
     "output_type": "stream",
     "text": [
      "[(1, 0, 0, 0, 0, 0, 0, 0, 0, 0, 0, 0), (0, 0, 1, 0, 0, 0, 0, 0, 0, 0, 0, 0), (0, 0, 0, 1, 0, 0, 0, 0, 0, 0, 0, 0), (0, 0, 0, 0, 0, 1, 0, 0, 0, 0, 0, 0), (0, 0, 0, 0, 0, 0, 1, 0, 0, 0, 0, 0), (0, 0, 0, 0, 0, 0, 0, 1, 0, 0, 0, 0), (0, 0, 0, 0, 0, 0, 0, 0, 0, 1, 0, 0), (0, 0, 0, 0, 0, 0, 0, 0, 0, 0, 1, 0), (0, 0, 0, 0, 0, 0, 0, 0, 0, 0, 0, 1), (1, 0, -1, 0, 0, 0, 0, 0, 0, 0, 0, 0), (1, 0, 0, -1, 0, 0, 0, 0, 0, 0, 0, 0), (1, 0, 0, 0, 0, -1, 0, 0, 0, 0, 0, 0), (1, 0, 0, 0, 0, 0, -1, 0, 0, 0, 0, 0), (1, 0, 0, 0, 0, 0, 0, -1, 0, 0, 0, 0), (1, 0, 0, 0, 0, 0, 0, 0, 0, -1, 0, 0), (1, 0, 0, 0, 0, 0, 0, 0, 0, 0, -1, 0), (1, 0, 0, 0, 0, 0, 0, 0, 0, 0, 0, -1), (0, 0, -1, 1, 0, 0, 0, 0, 0, 0, 0, 0), (0, 0, -1, 0, 0, 1, 0, 0, 0, 0, 0, 0), (0, 0, -1, 0, 0, 0, 1, 0, 0, 0, 0, 0), (0, 0, -1, 0, 0, 0, 0, 1, 0, 0, 0, 0), (0, 0, -1, 0, 0, 0, 0, 0, 0, 1, 0, 0), (0, 0, 1, 0, 0, 0, 0, 0, 0, 0, -1, 0), (0, 0, -1, 0, 0, 0, 0, 0, 0, 0, 0, 1), (0, 0, 0, 1, 0, -1, 0, 0, 0, 0, 0, 0), (0, 0, 0, 1, 0, 0, -1, 0, 0, 0, 0, 0), (0, 0, 0, 1, 0, 0, 0, -1, 0, 0, 0, 0), (0, 0, 0, 1, 0, 0, 0, 0, 0, -1, 0, 0), (0, 0, 0, 1, 0, 0, 0, 0, 0, 0, -1, 0), (0, 0, 0, 1, 0, 0, 0, 0, 0, 0, 0, -1), (0, 0, 0, 0, 0, 1, -1, 0, 0, 0, 0, 0), (0, 0, 0, 0, 0, 1, 0, -1, 0, 0, 0, 0), (0, 0, 0, 0, 0, -1, 0, 0, 0, 1, 0, 0), (0, 0, 0, 0, 0, 1, 0, 0, 0, 0, -1, 0), (0, 0, 0, 0, 0, -1, 0, 0, 0, 0, 0, 1), (0, 0, 0, 0, 0, 0, 1, -1, 0, 0, 0, 0), (0, 0, 0, 0, 0, 0, -1, 0, 0, 1, 0, 0), (0, 0, 0, 0, 0, 0, 1, 0, 0, 0, -1, 0), (0, 0, 0, 0, 0, 0, -1, 0, 0, 0, 0, 1), (0, 0, 0, 0, 0, 0, 0, -1, 0, 1, 0, 0), (0, 0, 0, 0, 0, 0, 0, 1, 0, 0, -1, 0), (0, 0, 0, 0, 0, 0, 0, -1, 0, 0, 0, 1), (0, 0, 0, 0, 0, 0, 0, 0, 0, 1, -1, 0), (0, 0, 0, 0, 0, 0, 0, 0, 0, 1, 0, -1), (0, 0, 0, 0, 0, 0, 0, 0, 0, 0, -1, 1), (1, 0, -1, -1, 0, 0, 0, 0, 0, 0, 0, 0), (1, 0, -1, 0, 0, 0, 0, 0, 0, -1, 0, 0), (-1, 0, 0, 1, 0, 0, 1, 0, 0, 0, 0, 0), (-1, 0, 0, 1, 0, 0, 0, 1, 0, 0, 0, 0), (-1, 0, 0, 1, 0, 0, 0, 0, 0, 1, 0, 0), (-1, 0, 0, 1, 0, 0, 0, 0, 0, 0, 0, 1), (-1, 0, 0, 0, 0, 0, 1, 0, 0, 1, 0, 0), (-1, 0, 0, 0, 0, 0, 0, 1, 0, 1, 0, 0), (-1, 0, 0, 0, 0, 0, 0, 0, 0, 1, 0, 1), (0, 0, 1, -1, 0, 0, 0, 0, 0, 1, 0, 0), (0, 0, 0, -1, 0, 1, 0, 0, 0, 1, 0, 0), (1, 0, 0, -1, 0, 1, -1, 0, 0, 0, 0, 0), (1, 0, 0, -1, 0, 1, 0, -1, 0, 0, 0, 0), (1, 0, 0, -1, 0, 1, 0, 0, 0, -1, 0, 0), (1, 0, 0, -1, 0, 1, 0, 0, 0, 0, 0, -1), (0, 0, 0, -1, 0, 0, 1, 0, 0, 1, 0, 0), (0, 0, 0, -1, 0, 0, 0, 1, 0, 1, 0, 0), (0, 0, -1, -1, 0, 0, 0, 1, 0, 1, 0, 0), (0, 0, 0, -1, 0, 0, 0, 0, 0, 1, 0, 1), (1, 0, 0, 0, 0, 1, 0, 0, 0, -1, 0, -1), (0, 0, 0, -1, 0, -1, 0, 0, 0, 1, 0, 1)]\n"
     ]
    }
   ],
   "source": [
    "print G"
   ]
  },
  {
   "cell_type": "code",
   "execution_count": null,
   "metadata": {
    "collapsed": true
   },
   "outputs": [],
   "source": []
  }
 ],
 "metadata": {
  "kernelspec": {
   "display_name": "SageMath 7.5.1",
   "language": "",
   "name": "sagemath"
  },
  "language_info": {
   "codemirror_mode": {
    "name": "ipython",
    "version": 2
   },
   "file_extension": ".py",
   "mimetype": "text/x-python",
   "name": "python",
   "nbconvert_exporter": "python",
   "pygments_lexer": "ipython2",
   "version": "2.7.13"
  }
 },
 "nbformat": 4,
 "nbformat_minor": 0
}

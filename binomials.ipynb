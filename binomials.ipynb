{
 "cells": [
  {
   "cell_type": "code",
   "execution_count": 24,
   "metadata": {
    "collapsed": false
   },
   "outputs": [],
   "source": [
    "\n",
    "longitud = 50\n",
    "numero = 50000\n",
    "altura = 7\n",
    "\n",
    "vvv = [random_vector(ZZ, longitud, x=0, y=20) for i in range(numero)]\n",
    "www = vvv[::-1]\n",
    "zero = vector(ZZ,longitud*[0])"
   ]
  },
  {
   "cell_type": "code",
   "execution_count": 25,
   "metadata": {
    "collapsed": true
   },
   "outputs": [],
   "source": [
    "def minux(v):\n",
    "    for i in xrange(len(v)):\n",
    "        v[i] *=-1"
   ]
  },
  {
   "cell_type": "code",
   "execution_count": 29,
   "metadata": {
    "collapsed": false
   },
   "outputs": [
    {
     "name": "stdout",
     "output_type": "stream",
     "text": [
      "1 loop, best of 3: 443 ms per loop\n"
     ]
    }
   ],
   "source": [
    "%%timeit\n",
    "for v in vvv:\n",
    "    v=-v"
   ]
  },
  {
   "cell_type": "code",
   "execution_count": 28,
   "metadata": {
    "collapsed": false
   },
   "outputs": [
    {
     "name": "stdout",
     "output_type": "stream",
     "text": [
      "1 loop, best of 3: 2.01 s per loop\n"
     ]
    }
   ],
   "source": [
    "%%timeit\n",
    "for v in vvv:\n",
    "    minux(v)"
   ]
  },
  {
   "cell_type": "code",
   "execution_count": 30,
   "metadata": {
    "collapsed": false
   },
   "outputs": [
    {
     "name": "stdout",
     "output_type": "stream",
     "text": [
      "1 loop, best of 3: 591 ms per loop\n"
     ]
    }
   ],
   "source": [
    "%%timeit\n",
    "for v in vvv:\n",
    "    v *= -1"
   ]
  },
  {
   "cell_type": "code",
   "execution_count": null,
   "metadata": {
    "collapsed": true
   },
   "outputs": [],
   "source": []
  },
  {
   "cell_type": "code",
   "execution_count": null,
   "metadata": {
    "collapsed": true
   },
   "outputs": [],
   "source": []
  },
  {
   "cell_type": "code",
   "execution_count": null,
   "metadata": {
    "collapsed": true
   },
   "outputs": [],
   "source": []
  },
  {
   "cell_type": "code",
   "execution_count": null,
   "metadata": {
    "collapsed": true
   },
   "outputs": [],
   "source": []
  },
  {
   "cell_type": "code",
   "execution_count": 2,
   "metadata": {
    "collapsed": true
   },
   "outputs": [],
   "source": [
    "def pm_split(v):\n",
    "    \"\"\" slightly faster than pm_split2\"\"\"\n",
    "    l = len(v)\n",
    "    up = l*[0]\n",
    "    um = l*[0]\n",
    "    for i,a in enumerate(v):\n",
    "        if a>0:\n",
    "            up[i]=a\n",
    "        else:\n",
    "            um[i]=-a\n",
    "    return vector(ZZ,up), vector(ZZ,um)\n"
   ]
  },
  {
   "cell_type": "code",
   "execution_count": 6,
   "metadata": {
    "collapsed": true
   },
   "outputs": [],
   "source": [
    "def pm_split(v):\n",
    "    \"\"\" slightly faster than pm_split2\"\"\"\n",
    "    up = copy(zero)\n",
    "    um = copy(zero)\n",
    "    for i,a in enumerate(v):\n",
    "        if a>0:\n",
    "            up[i]=a\n",
    "        else:\n",
    "            um[i]=-a\n",
    "    return up, um\n"
   ]
  },
  {
   "cell_type": "code",
   "execution_count": 14,
   "metadata": {
    "collapsed": true
   },
   "outputs": [],
   "source": [
    "\n",
    "def pm_split(v):\n",
    "    \"\"\" slightly faster than pm_split2\"\"\"\n",
    "    up = copy(zero)\n",
    "    um = copy(zero)\n",
    "    for i,a in enumerate(v):\n",
    "        if a>0:\n",
    "            up[i]=a\n",
    "        elif a<0:\n",
    "            um[i]=-a\n",
    "    return up, um\n",
    "\n"
   ]
  },
  {
   "cell_type": "code",
   "execution_count": 15,
   "metadata": {
    "collapsed": false
   },
   "outputs": [
    {
     "name": "stdout",
     "output_type": "stream",
     "text": [
      "1 loop, best of 3: 3.3 s per loop\n"
     ]
    }
   ],
   "source": [
    "%%timeit\n",
    "for v in vvv:\n",
    "    pm_split(v)"
   ]
  },
  {
   "cell_type": "code",
   "execution_count": 8,
   "metadata": {
    "collapsed": true
   },
   "outputs": [],
   "source": [
    "A = random_matrix(ZZ, 7, 25, x=1, y=15)"
   ]
  },
  {
   "cell_type": "code",
   "execution_count": 11,
   "metadata": {
    "collapsed": false
   },
   "outputs": [],
   "source": [
    "A.apply_map?"
   ]
  },
  {
   "cell_type": "code",
   "execution_count": 20,
   "metadata": {
    "collapsed": true
   },
   "outputs": [],
   "source": [
    "def less_or_equal(a,b):\n",
    "        \"True if and only if a is less or equal than b. Faster than zipping lists by a factor of 100\"\n",
    "        for i in xrange(len(a)):\n",
    "            if a[i]>b[i]:\n",
    "                return False\n",
    "        return True\n"
   ]
  },
  {
   "cell_type": "code",
   "execution_count": 21,
   "metadata": {
    "collapsed": true
   },
   "outputs": [],
   "source": [
    "def less_or_equal2(a,b):\n",
    "        \"True if and only if a is less or equal than b. Faster than zipping lists by a factor of 100\"\n",
    "        for i,a in enumerate(a):\n",
    "            if a>b[i]:\n",
    "                return False\n",
    "        return True\n"
   ]
  },
  {
   "cell_type": "code",
   "execution_count": 22,
   "metadata": {
    "collapsed": false
   },
   "outputs": [
    {
     "name": "stdout",
     "output_type": "stream",
     "text": [
      "10 loops, best of 3: 64.2 ms per loop\n"
     ]
    }
   ],
   "source": [
    "%%timeit\n",
    "for k in xrange(numero):\n",
    "    less_or_equal(vvv[k],www[k])"
   ]
  },
  {
   "cell_type": "code",
   "execution_count": 23,
   "metadata": {
    "collapsed": false
   },
   "outputs": [
    {
     "name": "stdout",
     "output_type": "stream",
     "text": [
      "10 loops, best of 3: 55.5 ms per loop\n"
     ]
    }
   ],
   "source": [
    "%%timeit\n",
    "for k in xrange(numero):\n",
    "    less_or_equal2(vvv[k],www[k])"
   ]
  },
  {
   "cell_type": "code",
   "execution_count": null,
   "metadata": {
    "collapsed": true
   },
   "outputs": [],
   "source": []
  },
  {
   "cell_type": "code",
   "execution_count": null,
   "metadata": {
    "collapsed": true
   },
   "outputs": [],
   "source": []
  },
  {
   "cell_type": "code",
   "execution_count": 14,
   "metadata": {
    "collapsed": true
   },
   "outputs": [],
   "source": [
    "def supports(v):\n",
    "    \"\"\"\n",
    "    Compute the positive and negative support of v\n",
    "    \"\"\"\n",
    "    psupp = []\n",
    "    nsupp = []\n",
    "    for (k, c) in enumerate(v):\n",
    "        if c>0:\n",
    "            psupp.append(k)\n",
    "        elif c<0:\n",
    "            nsupp.append(k)\n",
    "    return psupp, nsupp"
   ]
  },
  {
   "cell_type": "code",
   "execution_count": 15,
   "metadata": {
    "collapsed": false
   },
   "outputs": [
    {
     "name": "stdout",
     "output_type": "stream",
     "text": [
      "1 loop, best of 3: 744 ms per loop\n"
     ]
    }
   ],
   "source": [
    "%%timeit\n",
    "for i in xrange(numero):\n",
    "    supports(vvv[i])"
   ]
  },
  {
   "cell_type": "code",
   "execution_count": 11,
   "metadata": {
    "collapsed": false
   },
   "outputs": [
    {
     "name": "stdout",
     "output_type": "stream",
     "text": [
      "1 loop, best of 3: 1.36 s per loop\n"
     ]
    }
   ],
   "source": [
    "%%timeit\n",
    "for i in xrange(numero):\n",
    "    copy2(vvv[i],www[i])"
   ]
  },
  {
   "cell_type": "code",
   "execution_count": null,
   "metadata": {
    "collapsed": true
   },
   "outputs": [],
   "source": []
  },
  {
   "cell_type": "code",
   "execution_count": 109,
   "metadata": {
    "collapsed": false
   },
   "outputs": [],
   "source": [
    "c = random_vector(ZZ,longitud, x=1, y=15)\n",
    "A = random_matrix(ZZ, altura, longitud, x=0, y=50)\n",
    "b = random_vector(ZZ, altura, x=90, y=150)\n",
    "u = random_vector(ZZ, longitud, x=1, y=14)\n",
    "\n"
   ]
  },
  {
   "cell_type": "code",
   "execution_count": 110,
   "metadata": {
    "collapsed": false
   },
   "outputs": [],
   "source": [
    "load(\"binomials.py\")"
   ]
  },
  {
   "cell_type": "code",
   "execution_count": 111,
   "metadata": {
    "collapsed": false
   },
   "outputs": [],
   "source": [
    "g = BinomialBasis(A,b,c,u)"
   ]
  },
  {
   "cell_type": "code",
   "execution_count": null,
   "metadata": {
    "collapsed": false
   },
   "outputs": [],
   "source": []
  },
  {
   "cell_type": "markdown",
   "metadata": {},
   "source": [
    "# Cost functions"
   ]
  },
  {
   "cell_type": "code",
   "execution_count": 43,
   "metadata": {
    "collapsed": true
   },
   "outputs": [],
   "source": [
    "# Cost function. Best is cost1\n",
    "\n",
    "from itertools import izip\n",
    "\n",
    "def cost1(v):\n",
    "    return c*v\n",
    "\n",
    "def cost2(v):\n",
    "    return sum(c[i]*v[i] for i in xrange(longitud))\n",
    "\n",
    "def cost3(v):\n",
    "    return sum(ci*vi for ci, vi in izip(c,v))\n",
    "\n",
    "def cost4(v):\n",
    "    return sum(ci*vi for ci, vi in zip(c,v))\n",
    "\n",
    "def cost5(v):\n",
    "    return sum(c[i]*v[i] for i in range(longitud))\n",
    "\n"
   ]
  },
  {
   "cell_type": "code",
   "execution_count": 44,
   "metadata": {
    "collapsed": false
   },
   "outputs": [
    {
     "name": "stdout",
     "output_type": "stream",
     "text": [
      "100 loops, best of 3: 8.95 ms per loop\n"
     ]
    }
   ],
   "source": [
    "%%timeit \n",
    "for v in zzz: \n",
    "    cost1(v)"
   ]
  },
  {
   "cell_type": "code",
   "execution_count": 45,
   "metadata": {
    "collapsed": false
   },
   "outputs": [
    {
     "name": "stdout",
     "output_type": "stream",
     "text": [
      "10 loops, best of 3: 79.1 ms per loop\n"
     ]
    }
   ],
   "source": [
    "%%timeit \n",
    "for v in zzz: \n",
    "    cost2(v)"
   ]
  },
  {
   "cell_type": "code",
   "execution_count": 46,
   "metadata": {
    "collapsed": false
   },
   "outputs": [
    {
     "name": "stdout",
     "output_type": "stream",
     "text": [
      "10 loops, best of 3: 83.3 ms per loop\n"
     ]
    }
   ],
   "source": [
    "%%timeit \n",
    "for v in zzz: \n",
    "    cost3(v)"
   ]
  },
  {
   "cell_type": "code",
   "execution_count": 47,
   "metadata": {
    "collapsed": false
   },
   "outputs": [
    {
     "name": "stdout",
     "output_type": "stream",
     "text": [
      "10 loops, best of 3: 98 ms per loop\n"
     ]
    }
   ],
   "source": [
    "%%timeit \n",
    "for v in zzz: \n",
    "    cost4(v)"
   ]
  },
  {
   "cell_type": "code",
   "execution_count": 48,
   "metadata": {
    "collapsed": false
   },
   "outputs": [
    {
     "name": "stdout",
     "output_type": "stream",
     "text": [
      "10 loops, best of 3: 93.2 ms per loop\n"
     ]
    }
   ],
   "source": [
    "%%timeit \n",
    "for v in zzz: \n",
    "    cost5(v)"
   ]
  },
  {
   "cell_type": "code",
   "execution_count": null,
   "metadata": {
    "collapsed": true
   },
   "outputs": [],
   "source": []
  }
 ],
 "metadata": {
  "kernelspec": {
   "display_name": "SageMath 7.5.1",
   "language": "",
   "name": "sagemath"
  },
  "language_info": {
   "codemirror_mode": {
    "name": "ipython",
    "version": 2
   },
   "file_extension": ".py",
   "mimetype": "text/x-python",
   "name": "python",
   "nbconvert_exporter": "python",
   "pygments_lexer": "ipython2",
   "version": "2.7.13"
  }
 },
 "nbformat": 4,
 "nbformat_minor": 0
}

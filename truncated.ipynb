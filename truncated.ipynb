{
 "cells": [
  {
   "cell_type": "code",
   "execution_count": 28,
   "metadata": {
    "collapsed": false
   },
   "outputs": [],
   "source": [
    "def random_vvv(l,n):\n",
    "    return [vector(ZZ,[ZZ.random_element() for i in xrange(l)]) for j in xrange(n)]\n",
    "\n",
    "def random_lll(l,n):\n",
    "    return [ [ZZ.random_element() for i in xrange(l)] for j in xrange(n)]\n",
    "\n",
    "longitud = 50\n",
    "numero = 100000\n",
    "\n",
    "#xxx = random_lll(longitud, numero)\n",
    "#yyy = random_lll(longitud, numero)\n",
    "#zzz = [vector(ZZ,z) for z in xxx]\n",
    "#ttt = [vector(ZZ,z) for z in yyy]\n",
    "\n",
    "#vvv = random_vvv(5000, 1000)\n",
    "#yyy = random_vvv(5000, 1000)"
   ]
  },
  {
   "cell_type": "code",
   "execution_count": null,
   "metadata": {
    "collapsed": true
   },
   "outputs": [],
   "source": []
  },
  {
   "cell_type": "code",
   "execution_count": 159,
   "metadata": {
    "collapsed": true
   },
   "outputs": [],
   "source": []
  },
  {
   "cell_type": "code",
   "execution_count": null,
   "metadata": {
    "collapsed": true
   },
   "outputs": [],
   "source": []
  },
  {
   "cell_type": "code",
   "execution_count": null,
   "metadata": {
    "collapsed": true
   },
   "outputs": [],
   "source": []
  },
  {
   "cell_type": "code",
   "execution_count": null,
   "metadata": {
    "collapsed": true
   },
   "outputs": [],
   "source": []
  },
  {
   "cell_type": "markdown",
   "metadata": {},
   "source": [
    "# Primer ejemplo"
   ]
  },
  {
   "cell_type": "code",
   "execution_count": 264,
   "metadata": {
    "collapsed": false
   },
   "outputs": [],
   "source": [
    "reset()\n",
    "load(\"resolutor.py\")\n",
    "load(\"truncated.py\")"
   ]
  },
  {
   "cell_type": "code",
   "execution_count": 265,
   "metadata": {
    "collapsed": false
   },
   "outputs": [
    {
     "data": {
      "text/plain": [
       "(\n",
       "[ 3  1 11  2  3  5  3]                                        \n",
       "[ 4  5  0  1  7  4  6]                                        \n",
       "[ 5  6  1  9  2  3  3], (31, 27, 38), (23, 15, 6, 7, 1, 53, 4),\n",
       "\n",
       "(38, 38, 38, 38, 38, 38, 38)\n",
       ")"
      ]
     },
     "execution_count": 265,
     "metadata": {},
     "output_type": "execute_result"
    }
   ],
   "source": [
    "A1, b1, c1, u1"
   ]
  },
  {
   "cell_type": "code",
   "execution_count": 267,
   "metadata": {
    "collapsed": false,
    "scrolled": true
   },
   "outputs": [
    {
     "name": "stdout",
     "output_type": "stream",
     "text": [
      "4588 criterion 1, 1421 criterion 2, 8437 criterion 3, 64 non feasible,  541 reductions, of which 374 to zero\n",
      " "
     ]
    }
   ],
   "source": [
    "%%prun\n",
    "\n",
    "vecs, g = bubu(A1,b1,c1,vector(ZZ, 7*[38]))\n"
   ]
  },
  {
   "cell_type": "code",
   "execution_count": 183,
   "metadata": {
    "collapsed": false
   },
   "outputs": [
    {
     "data": {
      "text/plain": [
       "174"
      ]
     },
     "execution_count": 183,
     "metadata": {},
     "output_type": "execute_result"
    }
   ],
   "source": [
    "len(vecs)"
   ]
  },
  {
   "cell_type": "code",
   "execution_count": 184,
   "metadata": {
    "collapsed": false
   },
   "outputs": [],
   "source": [
    "GG = bigsolve(A1,b1,c1,u1)"
   ]
  },
  {
   "cell_type": "code",
   "execution_count": 185,
   "metadata": {
    "collapsed": false
   },
   "outputs": [
    {
     "data": {
      "text/plain": [
       "63"
      ]
     },
     "execution_count": 185,
     "metadata": {},
     "output_type": "execute_result"
    }
   ],
   "source": [
    "len(GG)"
   ]
  },
  {
   "cell_type": "code",
   "execution_count": 186,
   "metadata": {
    "collapsed": false
   },
   "outputs": [],
   "source": [
    "for v in GG:\n",
    "    if not (v in vecs or -v in vecs): \n",
    "        print copy(v), g.reduce(copy(v))"
   ]
  },
  {
   "cell_type": "code",
   "execution_count": 187,
   "metadata": {
    "collapsed": false
   },
   "outputs": [
    {
     "ename": "AttributeError",
     "evalue": "'PartialBasis' object has no attribute 'self_reduce'",
     "output_type": "error",
     "traceback": [
      "\u001b[0;31m---------------------------------------------------------------------------\u001b[0m",
      "\u001b[0;31mAttributeError\u001b[0m                            Traceback (most recent call last)",
      "\u001b[0;32m/Applications/SageMath-7.5.1.app/Contents/Resources/sage/local/lib/python2.7/site-packages/sage/all_cmdline.pyc\u001b[0m in \u001b[0;36m<module>\u001b[0;34m()\u001b[0m\n\u001b[0;32m----> 1\u001b[0;31m \u001b[0mg\u001b[0m\u001b[0;34m.\u001b[0m\u001b[0mself_reduce\u001b[0m\u001b[0;34m(\u001b[0m\u001b[0;34m)\u001b[0m\u001b[0;34m\u001b[0m\u001b[0m\n\u001b[0m",
      "\u001b[0;31mAttributeError\u001b[0m: 'PartialBasis' object has no attribute 'self_reduce'"
     ]
    }
   ],
   "source": [
    "g.self_reduce()"
   ]
  },
  {
   "cell_type": "code",
   "execution_count": 188,
   "metadata": {
    "collapsed": false
   },
   "outputs": [
    {
     "data": {
      "text/plain": [
       "174"
      ]
     },
     "execution_count": 188,
     "metadata": {},
     "output_type": "execute_result"
    }
   ],
   "source": [
    "len(g.vectors)"
   ]
  },
  {
   "cell_type": "code",
   "execution_count": 189,
   "metadata": {
    "collapsed": false
   },
   "outputs": [],
   "source": [
    "for v in GG:\n",
    "    if not (v in vecs or -v in vecs): \n",
    "        print copy(v), g.reduce(copy(v))"
   ]
  },
  {
   "cell_type": "markdown",
   "metadata": {},
   "source": [
    "# Re-test"
   ]
  },
  {
   "cell_type": "code",
   "execution_count": 238,
   "metadata": {
    "collapsed": false
   },
   "outputs": [
    {
     "name": "stdout",
     "output_type": "stream",
     "text": [
      "74 criterion 1, 9 criterion 2, 72 criterion 3, 10 non feasible,  25 reductions, of which 10 to zero\n"
     ]
    }
   ],
   "source": [
    "load(\"resolutor.py\")\n",
    "load(\"truncated.py\")\n",
    "A = matrix(ZZ,[[999,  18, 625, 416, 773]])\n",
    "b = vector(ZZ, [1415])\n",
    "c = vector(ZZ, (252, 537, 965, 237, 724))\n",
    "u = vector(ZZ,5*[1])\n",
    "\n",
    "vv, g = bubu(A,b,c,u)"
   ]
  },
  {
   "cell_type": "code",
   "execution_count": 239,
   "metadata": {
    "collapsed": false
   },
   "outputs": [
    {
     "data": {
      "text/plain": [
       "[(1, 0, 0, 0, 0),\n",
       " (0, 1, 0, 0, 0),\n",
       " (0, 0, 1, 0, 0),\n",
       " (0, 0, 0, 1, 0),\n",
       " (0, 0, 0, 0, 1),\n",
       " (0, 0, 0, -1, 1),\n",
       " (0, 0, 1, 1, -1),\n",
       " (0, 1, -1, -1, 1),\n",
       " (0, 1, 0, 1, -1),\n",
       " (-1, 0, 0, 0, 1),\n",
       " (0, 0, 1, 0, -1),\n",
       " (0, -1, 0, 0, 1),\n",
       " (0, 0, 1, -1, 0),\n",
       " (0, -1, 1, -1, 0),\n",
       " (-1, 0, 1, 0, 0),\n",
       " (0, 1, 0, -1, 0),\n",
       " (1, 0, 0, -1, 0),\n",
       " (-1, 1, 0, 1, 0),\n",
       " (0, -1, 1, 0, 0),\n",
       " (-1, 1, 0, 0, 0)]"
      ]
     },
     "execution_count": 239,
     "metadata": {},
     "output_type": "execute_result"
    }
   ],
   "source": [
    "g.vectors"
   ]
  },
  {
   "cell_type": "code",
   "execution_count": 240,
   "metadata": {
    "collapsed": false
   },
   "outputs": [
    {
     "data": {
      "text/plain": [
       "20"
      ]
     },
     "execution_count": 240,
     "metadata": {},
     "output_type": "execute_result"
    }
   ],
   "source": [
    "len(g.vectors)"
   ]
  },
  {
   "cell_type": "code",
   "execution_count": 241,
   "metadata": {
    "collapsed": false
   },
   "outputs": [
    {
     "data": {
      "text/plain": [
       "17"
      ]
     },
     "execution_count": 241,
     "metadata": {},
     "output_type": "execute_result"
    }
   ],
   "source": [
    "GG = bigsolve(A,b,c,u)\n",
    "len(GG)"
   ]
  },
  {
   "cell_type": "code",
   "execution_count": 243,
   "metadata": {
    "collapsed": false
   },
   "outputs": [
    {
     "data": {
      "text/plain": [
       "[(-1, 0, 0, 0, 0),\n",
       " (-1, 0, 0, 1, 0),\n",
       " (0, -1, 0, -1, 1),\n",
       " (0, -1, 0, 0, 0),\n",
       " (0, -1, 0, 1, 0),\n",
       " (0, 0, -1, 0, 0),\n",
       " (0, 0, -1, 0, 1),\n",
       " (0, 0, -1, 1, 0),\n",
       " (0, 0, 0, -1, 0),\n",
       " (0, 0, 0, 0, -1),\n",
       " (0, 0, 0, 1, -1),\n",
       " (0, 1, -1, 0, 0),\n",
       " (0, 1, -1, 1, 0),\n",
       " (0, 1, 0, 0, -1),\n",
       " (1, -1, 0, 0, 0),\n",
       " (1, 0, -1, 0, 0),\n",
       " (1, 0, 0, 0, -1)]"
      ]
     },
     "execution_count": 243,
     "metadata": {},
     "output_type": "execute_result"
    }
   ],
   "source": [
    " GG\n"
   ]
  },
  {
   "cell_type": "code",
   "execution_count": 244,
   "metadata": {
    "collapsed": false
   },
   "outputs": [
    {
     "name": "stdout",
     "output_type": "stream",
     "text": [
      "(-1, 1, 0, 1, 0)\n",
      "(0, 0, 1, 1, -1)\n",
      "(0, 1, -1, -1, 1)\n"
     ]
    }
   ],
   "source": [
    "for z in sorted(g.vectors):\n",
    "    if not (z in GG or -z in GG): print z"
   ]
  },
  {
   "cell_type": "code",
   "execution_count": 245,
   "metadata": {
    "collapsed": false
   },
   "outputs": [],
   "source": [
    "for z in GG:\n",
    "    if not (z in g.vectors or -z in g.vectors): print copy(z), g.reduce(z)"
   ]
  },
  {
   "cell_type": "code",
   "execution_count": 198,
   "metadata": {
    "collapsed": false
   },
   "outputs": [
    {
     "ename": "AttributeError",
     "evalue": "'PartialBasis' object has no attribute 'self_reduce'",
     "output_type": "error",
     "traceback": [
      "\u001b[0;31m---------------------------------------------------------------------------\u001b[0m",
      "\u001b[0;31mAttributeError\u001b[0m                            Traceback (most recent call last)",
      "\u001b[0;32m/Applications/SageMath-7.5.1.app/Contents/Resources/sage/local/lib/python2.7/site-packages/sage/all_cmdline.pyc\u001b[0m in \u001b[0;36m<module>\u001b[0;34m()\u001b[0m\n\u001b[0;32m----> 1\u001b[0;31m \u001b[0mg\u001b[0m\u001b[0;34m.\u001b[0m\u001b[0mself_reduce\u001b[0m\u001b[0;34m(\u001b[0m\u001b[0;34m)\u001b[0m\u001b[0;34m\u001b[0m\u001b[0m\n\u001b[0m\u001b[1;32m      2\u001b[0m \u001b[0mlen\u001b[0m\u001b[0;34m(\u001b[0m\u001b[0mg\u001b[0m\u001b[0;34m.\u001b[0m\u001b[0mvectors\u001b[0m\u001b[0;34m)\u001b[0m\u001b[0;34m\u001b[0m\u001b[0m\n",
      "\u001b[0;31mAttributeError\u001b[0m: 'PartialBasis' object has no attribute 'self_reduce'"
     ]
    }
   ],
   "source": [
    "g.self_reduce()\n",
    "len(g.vectors)"
   ]
  },
  {
   "cell_type": "code",
   "execution_count": 199,
   "metadata": {
    "collapsed": false
   },
   "outputs": [],
   "source": [
    "for z in GG:\n",
    "    if not (z in g.vectors or -z in g.vectors): \n",
    "        print copy(z), g.reduce(z)"
   ]
  },
  {
   "cell_type": "code",
   "execution_count": null,
   "metadata": {
    "collapsed": true
   },
   "outputs": [],
   "source": []
  },
  {
   "cell_type": "code",
   "execution_count": 1,
   "metadata": {
    "collapsed": false
   },
   "outputs": [],
   "source": [
    "load(\"resolutor.py\")\n",
    "load(\"truncated.py\")"
   ]
  },
  {
   "cell_type": "code",
   "execution_count": 2,
   "metadata": {
    "collapsed": false
   },
   "outputs": [
    {
     "name": "stdout",
     "output_type": "stream",
     "text": [
      "265 criterion 1, 87 criterion 2, 536 criterion 3, 126 non feasible,  67 reductions, of which 27 to zero\n"
     ]
    }
   ],
   "source": [
    "#%%prun\n",
    "\n",
    "A1 = matrix(ZZ, [[3,1,11,2,3,5,3], [4, 5, 0, 1, 7,4, 6], [5,6,1,9,2,3,3]])\n",
    "c1 = vector(ZZ, [23,15,6,7,1,53,4])\n",
    "b1 = vector(ZZ, [10,11,12])\n",
    "u1 = vector(ZZ, 7*[1])\n",
    "vects, g = bubu(A1,b1,c1,u1)"
   ]
  },
  {
   "cell_type": "code",
   "execution_count": 3,
   "metadata": {
    "collapsed": false
   },
   "outputs": [
    {
     "data": {
      "text/plain": [
       "47"
      ]
     },
     "execution_count": 3,
     "metadata": {},
     "output_type": "execute_result"
    }
   ],
   "source": [
    "len(vects)"
   ]
  },
  {
   "cell_type": "code",
   "execution_count": 4,
   "metadata": {
    "collapsed": false
   },
   "outputs": [
    {
     "ename": "RuntimeError",
     "evalue": "ha fallado 4ti2",
     "output_type": "error",
     "traceback": [
      "\u001b[0;31m---------------------------------------------------------------------------\u001b[0m",
      "\u001b[0;31mRuntimeError\u001b[0m                              Traceback (most recent call last)",
      "\u001b[0;32m<ipython-input-4-136e9d1e6e71>\u001b[0m in \u001b[0;36m<module>\u001b[0;34m()\u001b[0m\n\u001b[0;32m----> 1\u001b[0;31m \u001b[0mgg\u001b[0m \u001b[0;34m=\u001b[0m \u001b[0mbigsolve\u001b[0m\u001b[0;34m(\u001b[0m\u001b[0mA1\u001b[0m\u001b[0;34m,\u001b[0m\u001b[0mb1\u001b[0m\u001b[0;34m,\u001b[0m\u001b[0mc1\u001b[0m\u001b[0;34m,\u001b[0m\u001b[0mu1\u001b[0m\u001b[0;34m)\u001b[0m\u001b[0;34m\u001b[0m\u001b[0m\n\u001b[0m\u001b[1;32m      2\u001b[0m \u001b[0mlen\u001b[0m\u001b[0;34m(\u001b[0m\u001b[0mgg\u001b[0m\u001b[0;34m)\u001b[0m\u001b[0;34m\u001b[0m\u001b[0m\n",
      "\u001b[0;32m/Users/soto/Documents/Maths/Papers/optimizacion/gsu/resolutor.py\u001b[0m in \u001b[0;36mbigsolve\u001b[0;34m(A, b, c, u)\u001b[0m\n\u001b[1;32m     61\u001b[0m         \u001b[0;34m\".cost\"\u001b[0m\u001b[0;34m:\u001b[0m \u001b[0mmatrix_to_42\u001b[0m\u001b[0;34m(\u001b[0m\u001b[0;34m-\u001b[0m\u001b[0mmatrix\u001b[0m\u001b[0;34m(\u001b[0m\u001b[0mbigc\u001b[0m\u001b[0;34m)\u001b[0m\u001b[0;34m)\u001b[0m\u001b[0;34m\u001b[0m\u001b[0m\n\u001b[1;32m     62\u001b[0m     }\n\u001b[0;32m---> 63\u001b[0;31m     \u001b[0mGG\u001b[0m \u001b[0;34m=\u001b[0m \u001b[0mmatrix\u001b[0m\u001b[0;34m(\u001b[0m\u001b[0mZZ\u001b[0m\u001b[0;34m,\u001b[0m\u001b[0mrun_4ti2\u001b[0m\u001b[0;34m(\u001b[0m\u001b[0;34m\"../42/pruebas/groebner -t lp\"\u001b[0m\u001b[0;34m,\u001b[0m \u001b[0mdata\u001b[0m\u001b[0;34m,\u001b[0m \u001b[0;34m[\u001b[0m\u001b[0;34m\".gro\"\u001b[0m\u001b[0;34m]\u001b[0m\u001b[0;34m)\u001b[0m\u001b[0;34m[\u001b[0m\u001b[0;36m0\u001b[0m\u001b[0;34m]\u001b[0m\u001b[0;34m)\u001b[0m\u001b[0;34m[\u001b[0m\u001b[0;34m:\u001b[0m\u001b[0;34m,\u001b[0m\u001b[0;36m0\u001b[0m\u001b[0;34m:\u001b[0m\u001b[0mn\u001b[0m\u001b[0;34m]\u001b[0m\u001b[0;34m\u001b[0m\u001b[0m\n\u001b[0m\u001b[1;32m     64\u001b[0m     \u001b[0;32mreturn\u001b[0m \u001b[0mGG\u001b[0m\u001b[0;34m.\u001b[0m\u001b[0mrows\u001b[0m\u001b[0;34m(\u001b[0m\u001b[0;34m)\u001b[0m\u001b[0;34m\u001b[0m\u001b[0m\n\u001b[1;32m     65\u001b[0m \u001b[0;34m\u001b[0m\u001b[0m\n",
      "\u001b[0;32m/Users/soto/Documents/Maths/Papers/optimizacion/gsu/resolutor.py\u001b[0m in \u001b[0;36mrun_4ti2\u001b[0;34m(command, data, results)\u001b[0m\n\u001b[1;32m     11\u001b[0m     )\n\u001b[1;32m     12\u001b[0m     \u001b[0;32mif\u001b[0m \u001b[0ms\u001b[0m\u001b[0;34m:\u001b[0m\u001b[0;34m\u001b[0m\u001b[0m\n\u001b[0;32m---> 13\u001b[0;31m         \u001b[0;32mraise\u001b[0m  \u001b[0mRuntimeError\u001b[0m\u001b[0;34m(\u001b[0m\u001b[0;34m\"ha fallado 4ti2\"\u001b[0m\u001b[0;34m)\u001b[0m\u001b[0;34m\u001b[0m\u001b[0m\n\u001b[0m\u001b[1;32m     14\u001b[0m \u001b[0;34m\u001b[0m\u001b[0m\n\u001b[1;32m     15\u001b[0m     \u001b[0;32mreturn\u001b[0m \u001b[0;34m[\u001b[0m\u001b[0mload_42_matrix\u001b[0m\u001b[0;34m(\u001b[0m\u001b[0mr\u001b[0m\u001b[0;34m)\u001b[0m \u001b[0;32mfor\u001b[0m \u001b[0mr\u001b[0m \u001b[0;32min\u001b[0m \u001b[0mresults\u001b[0m\u001b[0;34m]\u001b[0m\u001b[0;34m\u001b[0m\u001b[0m\n",
      "\u001b[0;31mRuntimeError\u001b[0m: ha fallado 4ti2"
     ]
    }
   ],
   "source": [
    "gg = bigsolve(A1,b1,c1,u1)\n",
    "len(gg)"
   ]
  },
  {
   "cell_type": "code",
   "execution_count": null,
   "metadata": {
    "collapsed": false
   },
   "outputs": [],
   "source": []
  },
  {
   "cell_type": "markdown",
   "metadata": {
    "collapsed": true
   },
   "source": [
    "# Ejemplo duro de roer"
   ]
  },
  {
   "cell_type": "code",
   "execution_count": 47,
   "metadata": {
    "collapsed": false
   },
   "outputs": [],
   "source": [
    "\n",
    "load(\"truncated.py\")"
   ]
  },
  {
   "cell_type": "code",
   "execution_count": 48,
   "metadata": {
    "collapsed": false
   },
   "outputs": [
    {
     "name": "stdout",
     "output_type": "stream",
     "text": [
      "1648 criterion 1, 833 criterion 2, 1973 criterion 3, 513 non feasible,  184 reductions, of which 94 to zero\n",
      "1648 criterion 1, 833 criterion 2, 1973 criterion 3, 513 non feasible,  184 reductions, of which 94 to zero\n",
      "1648 criterion 1, 833 criterion 2, 1973 criterion 3, 513 non feasible,  184 reductions, of which 94 to zero\n",
      "1648 criterion 1, 833 criterion 2, 1973 criterion 3, 513 non feasible,  184 reductions, of which 94 to zero\n",
      "1648 criterion 1, 833 criterion 2, 1973 criterion 3, 513 non feasible,  184 reductions, of which 94 to zero\n",
      "1648 criterion 1, 833 criterion 2, 1973 criterion 3, 513 non feasible,  184 reductions, of which 94 to zero\n",
      "1648 criterion 1, 833 criterion 2, 1973 criterion 3, 513 non feasible,  184 reductions, of which 94 to zero\n",
      "1648 criterion 1, 833 criterion 2, 1973 criterion 3, 513 non feasible,  184 reductions, of which 94 to zero\n",
      "1648 criterion 1, 833 criterion 2, 1973 criterion 3, 513 non feasible,  184 reductions, of which 94 to zero\n",
      "3 loops, best of 3: 449 ms per loop\n"
     ]
    }
   ],
   "source": [
    "%%timeit -r3 -n3\n",
    "c1=vector(ZZ,(4, 1, 1, 3, 4, 2, 2, 2, 2, 3, 1, 3))\n",
    "A1=matrix(ZZ, [[1, 0, 0, 3, 1, 3, 3, 2, 1, 1, 3, 3],\n",
    "               [0, 3, 2, 0, 3, 2, 2, 2, 3, 0, 1, 2],\n",
    "               [0, 1, 2, 2, 1, 2, 0, 1, 2, 0, 3, 3],\n",
    "                [3, 0, 1, 2, 0, 0, 1, 1, 0, 1, 3, 1]])\n",
    "b1=vector(ZZ,(17, 2, 13, 9))\n",
    "u1=vector(ZZ,(1, 1, 1, 1, 1, 1, 1, 1, 1, 1, 1, 1))\n",
    "v, g = bubu(A1,b1,c1,u1)\n"
   ]
  },
  {
   "cell_type": "code",
   "execution_count": 8,
   "metadata": {
    "collapsed": true
   },
   "outputs": [],
   "source": [
    "reset()\n",
    "load(\"truncated.py\")\n",
    "load(\"resolutor.py\")"
   ]
  },
  {
   "cell_type": "code",
   "execution_count": 11,
   "metadata": {
    "collapsed": false,
    "scrolled": true
   },
   "outputs": [
    {
     "name": "stdout",
     "output_type": "stream",
     "text": [
      "1648 criterion 1, 833 criterion 2, 1973 criterion 3, 513 non feasible,  184 reductions, of which 94 to zero\n",
      " "
     ]
    }
   ],
   "source": [
    "%%prun\n",
    "c1=vector(ZZ,(4, 1, 1, 3, 4, 2, 2, 2, 2, 3, 1, 3))\n",
    "A1=matrix(ZZ, [[1, 0, 0, 3, 1, 3, 3, 2, 1, 1, 3, 3],\n",
    "               [0, 3, 2, 0, 3, 2, 2, 2, 3, 0, 1, 2],\n",
    "               [0, 1, 2, 2, 1, 2, 0, 1, 2, 0, 3, 3],\n",
    "                [3, 0, 1, 2, 0, 0, 1, 1, 0, 1, 3, 1]])\n",
    "b1=vector(ZZ,(17, 2, 13, 9))\n",
    "u1=vector(ZZ,(1, 1, 1, 1, 1, 1, 1, 1, 1, 1, 1, 1))\n",
    "v, g = bubu(A1,b1,c1,u1)\n",
    "\n",
    "\n"
   ]
  },
  {
   "cell_type": "code",
   "execution_count": 621,
   "metadata": {
    "collapsed": false
   },
   "outputs": [
    {
     "data": {
      "text/plain": [
       "[(1, 0, 0, 0, 0, 0, 0, 0, 0, 0, 0, 0),\n",
       " (0, 1, 0, 0, 0, 0, 0, 0, 0, 0, 0, 0),\n",
       " (0, 0, 1, 0, 0, 0, 0, 0, 0, 0, 0, 0),\n",
       " (0, 0, 0, 1, 0, 0, 0, 0, 0, 0, 0, 0),\n",
       " (0, 0, 0, 0, 1, 0, 0, 0, 0, 0, 0, 0),\n",
       " (0, 0, 0, 0, 0, 1, 0, 0, 0, 0, 0, 0),\n",
       " (0, 0, 0, 0, 0, 0, 1, 0, 0, 0, 0, 0),\n",
       " (0, 0, 0, 0, 0, 0, 0, 1, 0, 0, 0, 0),\n",
       " (0, 0, 0, 0, 0, 0, 0, 0, 1, 0, 0, 0),\n",
       " (0, 0, 0, 0, 0, 0, 0, 0, 0, 1, 0, 0),\n",
       " (0, 0, 0, 0, 0, 0, 0, 0, 0, 0, 1, 0),\n",
       " (0, 0, 0, 0, 0, 0, 0, 0, 0, 0, 0, 1),\n",
       " (0, 0, 0, 0, 0, 0, 0, 0, 0, 0, -1, 1),\n",
       " (0, 0, 0, 0, 0, 0, 0, 0, 0, 1, 0, -1),\n",
       " (0, 0, 0, 0, 0, 0, 0, -1, 0, 0, 0, 1),\n",
       " (0, 0, 0, 1, 0, 0, 0, 1, 0, 0, 0, -1),\n",
       " (0, 0, 0, -1, 0, 0, 0, -1, 0, 1, 0, 1),\n",
       " (1, 0, 0, -1, 0, 0, 0, -1, 0, 0, 0, 1),\n",
       " (-1, 0, 0, 1, 0, 0, 0, 1, 0, 0, 0, 0),\n",
       " (1, 0, 0, -1, 0, 1, 0, -1, 0, 0, 0, 0),\n",
       " (1, 0, 0, 0, 0, 0, 0, 1, 0, 0, 0, -1),\n",
       " (0, 0, 0, 0, 0, 0, -1, 0, 0, 0, 0, 1),\n",
       " (0, 0, 0, 1, 0, 0, 1, 0, 0, 0, 0, -1),\n",
       " (0, 0, 0, -1, 0, 0, -1, 0, 0, 1, 0, 1),\n",
       " (1, 0, 0, -1, 0, 0, -1, 0, 0, 0, 0, 1),\n",
       " (-1, 0, 0, 1, 0, 0, 1, 0, 0, 0, 0, 0),\n",
       " (1, 0, 0, -1, 0, 1, -1, 0, 0, 0, 0, 0),\n",
       " (0, 0, 0, 0, 0, -1, 0, 0, 0, 0, 0, 1),\n",
       " (0, 0, 0, 1, 0, 1, 0, 0, 0, 0, 0, -1),\n",
       " (0, 0, 0, -1, 0, -1, 0, 0, 0, 1, 0, 1),\n",
       " (1, 0, 0, -1, 0, -1, 0, 0, 0, 0, 0, 1),\n",
       " (1, 0, 0, -1, 0, 0, 0, 0, 0, 0, 0, 0),\n",
       " (1, 0, 0, -1, 0, 1, 0, 0, 0, 0, 0, -1),\n",
       " (-1, 0, 0, 1, 0, 0, 0, 0, 0, 0, 0, 1),\n",
       " (-1, 0, 0, 1, 0, 0, 0, 0, 0, 1, 0, 0),\n",
       " (1, 0, 0, -1, 0, 1, 0, 0, 0, -1, 0, 0),\n",
       " (-1, 0, 1, 1, 0, -1, 0, 0, 0, 1, 0, 0),\n",
       " (1, 0, -1, -1, 0, 0, 0, 0, 0, 0, 0, 0),\n",
       " (1, 0, 0, 0, 0, 1, 0, 0, 0, 0, 0, -1),\n",
       " (1, 0, 0, 0, 0, 1, 0, 0, 0, -1, 0, -1),\n",
       " (0, 0, 0, 1, 0, 0, 0, 0, 0, 0, 0, -1),\n",
       " (0, 0, 0, -1, 0, 0, 0, 0, 0, 1, 0, 1),\n",
       " (0, 0, -1, 0, 0, 0, 0, 0, 0, 1, 0, 0),\n",
       " (0, 0, 0, 1, 0, 0, 0, 0, 0, -1, 0, 0),\n",
       " (0, 0, 0, -1, 0, 0, 0, 1, 0, 1, 0, 0),\n",
       " (0, 0, 0, 1, 0, 0, 1, -1, 0, -1, 0, 0),\n",
       " (0, 0, 0, 0, 0, 0, -1, 1, 0, 1, 0, 0),\n",
       " (-1, 0, 0, 1, 0, 0, -1, 1, 0, 1, 0, 0),\n",
       " (0, 0, 0, 1, 0, 1, 0, -1, 0, -1, 0, 0),\n",
       " (0, 0, -1, -1, 0, 0, 0, 1, 0, 1, 0, 0),\n",
       " (0, 0, 0, -1, 0, 0, 1, 0, 0, 1, 0, 0),\n",
       " (0, 0, 0, 1, 0, 0, -1, 1, 0, -1, 0, 0),\n",
       " (0, 0, 0, 0, 0, 0, 1, -1, 0, 0, 0, 0),\n",
       " (0, 0, 0, 1, 0, 0, -1, 1, 0, 0, 0, 0),\n",
       " (1, 0, 0, 0, 0, 0, -1, 1, 0, 0, 0, 0),\n",
       " (0, 0, 0, 1, 0, 1, -1, 0, 0, -1, 0, 0),\n",
       " (0, 0, 0, 1, 0, 0, -1, 0, 0, 0, 0, 0),\n",
       " (0, 0, 0, -1, 0, 1, 0, 0, 0, 1, 0, 0),\n",
       " (0, 0, 0, 1, 0, -1, 0, 1, 0, -1, 0, 0),\n",
       " (0, 0, 0, 1, 0, -1, 1, 0, 0, -1, 0, 0),\n",
       " (0, 0, 0, 1, 0, -1, 0, 0, 0, 0, 0, 0),\n",
       " (0, 0, 1, -1, 0, 0, 0, 0, 0, 1, 0, 0),\n",
       " (0, 0, -1, 1, 0, 0, 0, 1, 0, -1, 0, 0),\n",
       " (0, 0, 1, 0, 0, 0, 0, -1, 0, 1, 0, 0),\n",
       " (0, 0, -1, 1, 0, 0, 1, 0, 0, -1, 0, 0),\n",
       " (0, 0, 1, 0, 0, 0, -1, 0, 0, 1, 0, 0),\n",
       " (0, 0, -1, 1, 0, 1, 0, 0, 0, -1, 0, 0),\n",
       " (1, 0, 0, 0, 0, 0, 0, 0, 0, -1, 0, 0),\n",
       " (0, 0, 0, 0, 0, 0, -1, 0, 0, 1, 0, 0),\n",
       " (-1, 0, 0, 0, 0, 0, 0, 0, 0, 1, 0, 1),\n",
       " (-1, 0, 0, 0, 0, 0, 0, 1, 0, 1, 0, 0),\n",
       " (1, 0, 0, 0, 0, 1, 0, -1, 0, -1, 0, 0),\n",
       " (-1, 0, 0, 0, 0, 0, 1, 0, 0, 1, 0, 0),\n",
       " (1, 0, 0, 0, 0, 1, -1, 0, 0, -1, 0, 0),\n",
       " (1, 0, -1, 0, 0, 0, 0, 0, 0, -1, 0, 0),\n",
       " (0, 0, -1, 0, 0, 0, 0, 0, 0, 0, 0, 1),\n",
       " (1, 0, 1, 0, 0, 0, 0, 0, 0, 0, 0, -1),\n",
       " (1, 0, 0, 0, 0, 0, 0, 0, 0, 0, 0, -1),\n",
       " (0, 0, 0, 0, 0, 0, 0, 0, 0, 1, -1, 0),\n",
       " (0, 0, 0, 0, 0, 0, 0, 1, 0, 0, -1, 0),\n",
       " (0, 0, 0, 0, 0, 0, 1, 0, 0, 0, -1, 0),\n",
       " (0, 0, 0, 0, 0, 1, 0, 0, 0, 0, -1, 0),\n",
       " (0, 0, 0, 1, 0, 0, 0, 0, 0, 0, -1, 0),\n",
       " (0, 0, 1, 0, 0, 0, 0, 0, 0, 0, -1, 0),\n",
       " (1, 0, 0, 0, 0, 0, 0, 0, 0, 0, -1, 0),\n",
       " (0, 0, 0, 0, 0, 0, 0, -1, 0, 1, 0, 0),\n",
       " (0, 0, 0, 0, 0, -1, 0, 0, 0, 1, 0, 0),\n",
       " (0, 0, 0, 0, 0, 1, 0, -1, 0, 0, 0, 0),\n",
       " (1, 0, 0, 0, 0, -1, 0, 1, 0, 0, 0, 0),\n",
       " (0, 0, 0, 1, 0, 0, 0, -1, 0, 0, 0, 0),\n",
       " (0, 0, -1, 0, 0, 0, 0, 1, 0, 0, 0, 0),\n",
       " (1, 0, 1, 0, 0, 0, 0, -1, 0, 0, 0, 0),\n",
       " (1, 0, 0, 0, 0, 0, 0, -1, 0, 0, 0, 0),\n",
       " (0, 0, 0, 0, 0, 1, -1, 0, 0, 0, 0, 0),\n",
       " (0, 0, -1, 0, 0, 0, 1, 0, 0, 0, 0, 0),\n",
       " (1, 0, 1, 0, 0, 0, -1, 0, 0, 0, 0, 0),\n",
       " (1, 0, 0, 0, 0, 0, -1, 0, 0, 0, 0, 0),\n",
       " (0, 0, -1, 0, 0, 1, 0, 0, 0, 0, 0, 0),\n",
       " (1, 0, 1, 0, 0, -1, 0, 0, 0, 0, 0, 0),\n",
       " (1, 0, 0, 0, 0, -1, 0, 0, 0, 0, 0, 0),\n",
       " (0, 0, -1, 1, 0, 0, 0, 0, 0, 0, 0, 0),\n",
       " (1, 0, -1, 0, 0, 0, 0, 0, 0, 0, 0, 0)]"
      ]
     },
     "execution_count": 621,
     "metadata": {},
     "output_type": "execute_result"
    }
   ],
   "source": [
    "g.vectors"
   ]
  },
  {
   "cell_type": "code",
   "execution_count": 622,
   "metadata": {
    "collapsed": false
   },
   "outputs": [
    {
     "data": {
      "text/plain": [
       "102"
      ]
     },
     "execution_count": 622,
     "metadata": {},
     "output_type": "execute_result"
    }
   ],
   "source": [
    "len(g.vectors)"
   ]
  },
  {
   "cell_type": "code",
   "execution_count": 623,
   "metadata": {
    "collapsed": false
   },
   "outputs": [],
   "source": [
    "g.self_reduce()"
   ]
  },
  {
   "cell_type": "code",
   "execution_count": 624,
   "metadata": {
    "collapsed": false
   },
   "outputs": [
    {
     "data": {
      "text/plain": [
       "69"
      ]
     },
     "execution_count": 624,
     "metadata": {},
     "output_type": "execute_result"
    }
   ],
   "source": [
    "len(g.vectors)"
   ]
  },
  {
   "cell_type": "code",
   "execution_count": 625,
   "metadata": {
    "collapsed": false
   },
   "outputs": [
    {
     "data": {
      "text/plain": [
       "66"
      ]
     },
     "execution_count": 625,
     "metadata": {},
     "output_type": "execute_result"
    }
   ],
   "source": [
    "GG = bigsolve(A1,b1,c1,u1)\n",
    "len(GG)"
   ]
  },
  {
   "cell_type": "code",
   "execution_count": 626,
   "metadata": {
    "collapsed": false
   },
   "outputs": [
    {
     "data": {
      "text/plain": [
       "[(1, 0, 0, 0, 0, 0, 0, 0, 0, 0, 0, 0),\n",
       " (0, 1, 0, 0, 0, 0, 0, 0, 0, 0, 0, 0),\n",
       " (0, 0, 1, 0, 0, 0, 0, 0, 0, 0, 0, 0),\n",
       " (0, 0, 0, 1, 0, 0, 0, 0, 0, 0, 0, 0),\n",
       " (0, 0, 0, 0, 1, 0, 0, 0, 0, 0, 0, 0),\n",
       " (0, 0, 0, 0, 0, 1, 0, 0, 0, 0, 0, 0),\n",
       " (0, 0, 0, 0, 0, 0, 1, 0, 0, 0, 0, 0),\n",
       " (0, 0, 0, 0, 0, 0, 0, 1, 0, 0, 0, 0),\n",
       " (0, 0, 0, 0, 0, 0, 0, 0, 1, 0, 0, 0),\n",
       " (0, 0, 0, 0, 0, 0, 0, 0, 0, 1, 0, 0),\n",
       " (0, 0, 0, 0, 0, 0, 0, 0, 0, 0, 1, 0),\n",
       " (0, 0, 0, 0, 0, 0, 0, 0, 0, 0, 0, 1),\n",
       " (0, 0, 0, 0, 0, 0, 0, 0, 0, 0, -1, 1),\n",
       " (0, 0, 0, 0, 0, 0, 0, 0, 0, 1, 0, -1),\n",
       " (0, 0, 0, 0, 0, 0, 0, -1, 0, 0, 0, 1),\n",
       " (-1, 0, 0, 1, 0, 0, 0, 1, 0, 0, 0, 0),\n",
       " (1, 0, 0, -1, 0, 1, 0, -1, 0, 0, 0, 0),\n",
       " (0, 0, 0, 0, 0, 0, -1, 0, 0, 0, 0, 1),\n",
       " (-1, 0, 0, 1, 0, 0, 1, 0, 0, 0, 0, 0),\n",
       " (1, 0, 0, -1, 0, 1, -1, 0, 0, 0, 0, 0),\n",
       " (0, 0, 0, 0, 0, -1, 0, 0, 0, 0, 0, 1),\n",
       " (0, 0, 0, -1, 0, -1, 0, 0, 0, 1, 0, 1),\n",
       " (1, 0, 0, -1, 0, 0, 0, 0, 0, 0, 0, 0),\n",
       " (1, 0, 0, -1, 0, 1, 0, 0, 0, 0, 0, -1),\n",
       " (-1, 0, 0, 1, 0, 0, 0, 0, 0, 0, 0, 1),\n",
       " (-1, 0, 0, 1, 0, 0, 0, 0, 0, 1, 0, 0),\n",
       " (1, 0, 0, -1, 0, 1, 0, 0, 0, -1, 0, 0),\n",
       " (1, 0, -1, -1, 0, 0, 0, 0, 0, 0, 0, 0),\n",
       " (1, 0, 0, 0, 0, 1, 0, 0, 0, -1, 0, -1),\n",
       " (0, 0, 0, 1, 0, 0, 0, 0, 0, 0, 0, -1),\n",
       " (0, 0, 0, -1, 0, 0, 0, 0, 0, 1, 0, 1),\n",
       " (0, 0, -1, 0, 0, 0, 0, 0, 0, 1, 0, 0),\n",
       " (0, 0, 0, 1, 0, 0, 0, 0, 0, -1, 0, 0),\n",
       " (0, 0, 0, -1, 0, 0, 0, 1, 0, 1, 0, 0),\n",
       " (0, 0, -1, -1, 0, 0, 0, 1, 0, 1, 0, 0),\n",
       " (0, 0, 0, -1, 0, 0, 1, 0, 0, 1, 0, 0),\n",
       " (0, 0, 0, 0, 0, 0, 1, -1, 0, 0, 0, 0),\n",
       " (0, 0, 0, 1, 0, 0, -1, 0, 0, 0, 0, 0),\n",
       " (0, 0, 0, -1, 0, 1, 0, 0, 0, 1, 0, 0),\n",
       " (0, 0, 0, 1, 0, -1, 0, 0, 0, 0, 0, 0),\n",
       " (0, 0, 1, -1, 0, 0, 0, 0, 0, 1, 0, 0),\n",
       " (1, 0, 0, 0, 0, 0, 0, 0, 0, -1, 0, 0),\n",
       " (0, 0, 0, 0, 0, 0, -1, 0, 0, 1, 0, 0),\n",
       " (-1, 0, 0, 0, 0, 0, 0, 0, 0, 1, 0, 1),\n",
       " (-1, 0, 0, 0, 0, 0, 0, 1, 0, 1, 0, 0),\n",
       " (-1, 0, 0, 0, 0, 0, 1, 0, 0, 1, 0, 0),\n",
       " (1, 0, -1, 0, 0, 0, 0, 0, 0, -1, 0, 0),\n",
       " (0, 0, -1, 0, 0, 0, 0, 0, 0, 0, 0, 1),\n",
       " (1, 0, 0, 0, 0, 0, 0, 0, 0, 0, 0, -1),\n",
       " (0, 0, 0, 0, 0, 0, 0, 0, 0, 1, -1, 0),\n",
       " (0, 0, 0, 0, 0, 0, 0, 1, 0, 0, -1, 0),\n",
       " (0, 0, 0, 0, 0, 0, 1, 0, 0, 0, -1, 0),\n",
       " (0, 0, 0, 0, 0, 1, 0, 0, 0, 0, -1, 0),\n",
       " (0, 0, 0, 1, 0, 0, 0, 0, 0, 0, -1, 0),\n",
       " (0, 0, 1, 0, 0, 0, 0, 0, 0, 0, -1, 0),\n",
       " (1, 0, 0, 0, 0, 0, 0, 0, 0, 0, -1, 0),\n",
       " (0, 0, 0, 0, 0, 0, 0, -1, 0, 1, 0, 0),\n",
       " (0, 0, 0, 0, 0, -1, 0, 0, 0, 1, 0, 0),\n",
       " (0, 0, 0, 0, 0, 1, 0, -1, 0, 0, 0, 0),\n",
       " (0, 0, 0, 1, 0, 0, 0, -1, 0, 0, 0, 0),\n",
       " (0, 0, -1, 0, 0, 0, 0, 1, 0, 0, 0, 0),\n",
       " (1, 0, 0, 0, 0, 0, 0, -1, 0, 0, 0, 0),\n",
       " (0, 0, 0, 0, 0, 1, -1, 0, 0, 0, 0, 0),\n",
       " (0, 0, -1, 0, 0, 0, 1, 0, 0, 0, 0, 0),\n",
       " (1, 0, 0, 0, 0, 0, -1, 0, 0, 0, 0, 0),\n",
       " (0, 0, -1, 0, 0, 1, 0, 0, 0, 0, 0, 0),\n",
       " (1, 0, 0, 0, 0, -1, 0, 0, 0, 0, 0, 0),\n",
       " (0, 0, -1, 1, 0, 0, 0, 0, 0, 0, 0, 0),\n",
       " (1, 0, -1, 0, 0, 0, 0, 0, 0, 0, 0, 0)]"
      ]
     },
     "execution_count": 626,
     "metadata": {},
     "output_type": "execute_result"
    }
   ],
   "source": [
    "g.vectors"
   ]
  },
  {
   "cell_type": "code",
   "execution_count": 574,
   "metadata": {
    "collapsed": false
   },
   "outputs": [],
   "source": [
    "for v in GG:\n",
    "    if not (v or -v in g.vectors):\n",
    "        vv = copy(v)\n",
    "        print v, g.reduce(vv)"
   ]
  },
  {
   "cell_type": "markdown",
   "metadata": {
    "collapsed": true
   },
   "source": [
    "## Ejemplo de Ucha"
   ]
  },
  {
   "cell_type": "code",
   "execution_count": 550,
   "metadata": {
    "collapsed": false
   },
   "outputs": [],
   "source": [
    "reset()\n",
    "load(\"truncated.py\")\n",
    "load(\"resolutor.py\")\n",
    "\n",
    "def mload_42_matrix(ff):\n",
    "    \"\"\"docstring for load_42_matrix\"\"\"\n",
    "    with open(ff) as f:\n",
    "        s=f.read().splitlines()\n",
    "    return [line_to_list(l) for l in s[1:]]\n",
    "\n",
    "\n",
    "Ap = matrix(matrix(ZZ, mload_42_matrix(\"ejemploucha/ejemplosoto.mat\"))[0][:5])\n",
    "cp = -vector(ZZ, mload_42_matrix(\"ejemploucha/ejemplosoto.cost\")[0])[:5]\n",
    "zsol = vector(ZZ,mload_42_matrix(\"ejemploucha/ejemplosoto.zsol\")[0])\n",
    "\n",
    "b = vector(ZZ,[1415])\n",
    "u = vector(ZZ, 5*[1])"
   ]
  },
  {
   "cell_type": "code",
   "execution_count": 551,
   "metadata": {
    "collapsed": false
   },
   "outputs": [],
   "source": [
    "load(\"resolutor.py\")\n",
    "gg = bigsolve(Ap,b,cp,u)"
   ]
  },
  {
   "cell_type": "code",
   "execution_count": 552,
   "metadata": {
    "collapsed": false
   },
   "outputs": [
    {
     "data": {
      "text/plain": [
       "17"
      ]
     },
     "execution_count": 552,
     "metadata": {},
     "output_type": "execute_result"
    }
   ],
   "source": [
    "len(gg)"
   ]
  },
  {
   "cell_type": "code",
   "execution_count": 553,
   "metadata": {
    "collapsed": true
   },
   "outputs": [],
   "source": [
    "load(\"truncated.py\")"
   ]
  },
  {
   "cell_type": "code",
   "execution_count": 554,
   "metadata": {
    "collapsed": false
   },
   "outputs": [
    {
     "name": "stdout",
     "output_type": "stream",
     "text": [
      "74 criterion 1, 9 criterion 2, 72 criterion 3, 10 non feasible,  25 reductions, of which 10 to zero\n"
     ]
    }
   ],
   "source": [
    "\n",
    "vecs, g = bubu(Ap,b,cp,u)\n",
    "\n"
   ]
  },
  {
   "cell_type": "code",
   "execution_count": 555,
   "metadata": {
    "collapsed": false
   },
   "outputs": [
    {
     "data": {
      "text/plain": [
       "[(1, 0, 0, 0, 0),\n",
       " (0, 1, 0, 0, 0),\n",
       " (0, 0, 1, 0, 0),\n",
       " (0, 0, 0, 1, 0),\n",
       " (0, 0, 0, 0, 1),\n",
       " (0, 0, 0, -1, 1),\n",
       " (0, 0, 1, 1, -1),\n",
       " (0, 1, -1, -1, 1),\n",
       " (0, 1, 0, 1, -1),\n",
       " (-1, 0, 0, 0, 1),\n",
       " (0, 0, 1, 0, -1),\n",
       " (0, -1, 0, 0, 1),\n",
       " (0, 0, 1, -1, 0),\n",
       " (0, -1, 1, -1, 0),\n",
       " (-1, 0, 1, 0, 0),\n",
       " (0, 1, 0, -1, 0),\n",
       " (1, 0, 0, -1, 0),\n",
       " (-1, 1, 0, 1, 0),\n",
       " (0, -1, 1, 0, 0),\n",
       " (-1, 1, 0, 0, 0)]"
      ]
     },
     "execution_count": 555,
     "metadata": {},
     "output_type": "execute_result"
    }
   ],
   "source": [
    "vecs"
   ]
  },
  {
   "cell_type": "code",
   "execution_count": 556,
   "metadata": {
    "collapsed": false
   },
   "outputs": [
    {
     "data": {
      "text/plain": [
       "20"
      ]
     },
     "execution_count": 556,
     "metadata": {},
     "output_type": "execute_result"
    }
   ],
   "source": [
    "len(g.vectors)"
   ]
  },
  {
   "cell_type": "code",
   "execution_count": 557,
   "metadata": {
    "collapsed": false
   },
   "outputs": [
    {
     "name": "stdout",
     "output_type": "stream",
     "text": [
      "6 (0, 0, 1, 1, -1)\n",
      "7 (0, 1, -1, -1, 1)\n",
      "17 (-1, 1, 0, 1, 0)\n"
     ]
    }
   ],
   "source": [
    "for i,v in enumerate(vecs): \n",
    "    if not (v in gg or -v in gg): \n",
    "        print i,v"
   ]
  },
  {
   "cell_type": "code",
   "execution_count": 558,
   "metadata": {
    "collapsed": true
   },
   "outputs": [],
   "source": [
    "for w in gg:\n",
    "    if not (w in vecs or -w in vecs): print w\n",
    "        "
   ]
  },
  {
   "cell_type": "code",
   "execution_count": 559,
   "metadata": {
    "collapsed": false
   },
   "outputs": [],
   "source": [
    "g.self_reduce()"
   ]
  },
  {
   "cell_type": "code",
   "execution_count": 560,
   "metadata": {
    "collapsed": false
   },
   "outputs": [],
   "source": [
    "for w in gg:\n",
    "    if not (w in g.vectors or -w in g.vectors): print w"
   ]
  },
  {
   "cell_type": "code",
   "execution_count": 561,
   "metadata": {
    "collapsed": false
   },
   "outputs": [
    {
     "data": {
      "text/plain": [
       "(17, 17)"
      ]
     },
     "execution_count": 561,
     "metadata": {},
     "output_type": "execute_result"
    }
   ],
   "source": [
    "len(g.vectors), len(gg)"
   ]
  },
  {
   "cell_type": "code",
   "execution_count": null,
   "metadata": {
    "collapsed": true
   },
   "outputs": [],
   "source": []
  },
  {
   "cell_type": "code",
   "execution_count": null,
   "metadata": {
    "collapsed": true
   },
   "outputs": [],
   "source": []
  }
 ],
 "metadata": {
  "kernelspec": {
   "display_name": "SageMath 7.5.1",
   "language": "",
   "name": "sagemath"
  },
  "language_info": {
   "codemirror_mode": {
    "name": "ipython",
    "version": 2
   },
   "file_extension": ".py",
   "mimetype": "text/x-python",
   "name": "python",
   "nbconvert_exporter": "python",
   "pygments_lexer": "ipython2",
   "version": "2.7.13"
  }
 },
 "nbformat": 4,
 "nbformat_minor": 0
}

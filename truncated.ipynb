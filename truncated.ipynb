{
 "cells": [
  {
   "cell_type": "code",
   "execution_count": 193,
   "metadata": {
    "collapsed": false
   },
   "outputs": [],
   "source": [
    "\n",
    "def random_vvv(l,n):\n",
    "    return [vector(ZZ,[ZZ.random_element() for i in xrange(l)]  ) for j in xrange(n)]\n",
    "\n",
    "#vvv = random_vvv(5000, 1000)\n",
    "#yyy = random_vvv(5000, 1000)"
   ]
  },
  {
   "cell_type": "code",
   "execution_count": 196,
   "metadata": {
    "collapsed": false
   },
   "outputs": [],
   "source": [
    "load(\"truncated.py\")"
   ]
  },
  {
   "cell_type": "code",
   "execution_count": 197,
   "metadata": {
    "collapsed": false,
    "scrolled": true
   },
   "outputs": [
    {
     "name": "stdout",
     "output_type": "stream",
     "text": [
      "3751 criterion 1, 0 criterion 2, 12603 reductions, 1593 non eligible, 459 equalities\n",
      " "
     ]
    }
   ],
   "source": [
    "%%prun\n",
    "vecs, g = bubu(A,b,c,u)\n"
   ]
  },
  {
   "cell_type": "code",
   "execution_count": null,
   "metadata": {
    "collapsed": false
   },
   "outputs": [],
   "source": []
  },
  {
   "cell_type": "code",
   "execution_count": 198,
   "metadata": {
    "collapsed": false
   },
   "outputs": [
    {
     "data": {
      "text/plain": [
       "169"
      ]
     },
     "execution_count": 198,
     "metadata": {},
     "output_type": "execute_result"
    }
   ],
   "source": [
    "len(vecs)"
   ]
  },
  {
   "cell_type": "code",
   "execution_count": 199,
   "metadata": {
    "collapsed": false
   },
   "outputs": [
    {
     "name": "stdout",
     "output_type": "stream",
     "text": [
      "23 (1, 0, 0, 0, 0, 0, 0) True (3, 4, 5) True\n",
      "15 (0, 1, 0, 0, 0, 0, 0) True (1, 5, 6) True\n",
      "6 (0, 0, 1, 0, 0, 0, 0) True (11, 0, 1) True\n",
      "7 (0, 0, 0, 1, 0, 0, 0) True (2, 1, 9) True\n",
      "1 (0, 0, 0, 0, 1, 0, 0) True (3, 7, 2) True\n",
      "53 (0, 0, 0, 0, 0, 1, 0) True (5, 4, 3) True\n",
      "4 (0, 0, 0, 0, 0, 0, 1) True (3, 6, 3) True\n",
      "49 (0, 0, 0, 0, 0, 1, -1) True (2, -2, 0) True\n",
      "45 (0, 0, 0, 0, 0, 1, -2) True (-1, -8, -3) True\n",
      "48 (0, 0, 0, 0, -1, 1, -1) True (-1, -9, -2) True\n",
      "3 (0, 0, 0, 0, -1, 0, 1) True (0, -1, 1) True\n",
      "2 (0, 0, 0, 0, -2, 0, 1) True (-3, -8, -1) True\n",
      "4 (0, 0, 0, 1, 1, 0, -1) True (2, 2, 8) True\n",
      "3 (0, 0, 0, 1, 0, 0, -1) True (-1, -5, 6) True\n",
      "0 (0, 0, 0, -1, -1, 0, 2) True (1, 4, -5) True\n",
      "2 (0, 0, 0, 1, -1, 0, -1) True (-4, -12, 4) True\n",
      "1 (0, 0, 0, -1, 0, 0, 2) True (4, 11, -3) True\n",
      "1 (0, 0, 0, 1, -2, 0, -1) True (-7, -19, 2) True\n",
      "47 (0, 0, 0, -1, 1, 1, 0) True (6, 10, -4) True\n",
      "46 (0, 0, 0, -1, 0, 1, 0) True (3, 3, -6) True\n",
      "45 (0, 0, 0, -1, -1, 1, 0) True (0, -4, -8) True\n",
      "6 (0, 0, 0, 1, -1, 0, 0) True (-1, -6, 7) True\n",
      "39 (0, 0, 0, -2, 0, 1, 0) True (1, 2, -15) True\n",
      "42 (0, 0, 0, -1, 0, 1, -1) True (0, -3, -9) True\n",
      "32 (0, 0, 0, -3, 0, 1, 0) True (-1, 1, -24) True\n",
      "25 (0, 0, 0, -4, 0, 1, 0) True (-3, 0, -33) True\n",
      "24 (0, -1, 0, -2, 0, 1, 0) True (0, -3, -21) True\n",
      "1 (0, 1, 0, -2, 0, 0, 0) True (-3, 3, -12) True\n",
      "23 (0, -2, 0, 0, 0, 1, 0) True (3, -6, -9) True\n",
      "8 (0, 1, 0, -1, 0, 0, 0) True (-1, 4, -3) True\n",
      "16 (0, -2, 0, -1, 0, 1, 0) True (1, -7, -18) True\n",
      "8 (0, -3, 0, 0, 0, 1, 0) True (2, -11, -15) True\n",
      "26 (0, 2, 0, 0, 0, 0, -1) True (-1, 4, 9) True\n",
      "7 (0, 4, 0, 0, 0, -1, 0) True (-1, 16, 21) True\n",
      "19 (0, -2, 0, 0, 0, 1, -1) True (0, -12, -12) True\n",
      "11 (0, 1, 0, 0, 0, 0, -1) True (-2, -1, 3) True\n",
      "31 (0, -1, 0, -1, 0, 1, 0) True (2, -2, -12) True\n",
      "1 (0, -3, 0, -1, 0, 1, 0) True (0, -12, -24) True\n",
      "44 (0, 3, 0, 0, -1, 0, 0) True (0, 8, 16) True\n",
      "37 (0, -1, 0, 0, -1, 1, 0) True (1, -8, -5) True\n",
      "22 (0, -2, 0, 0, -1, 1, 0) True (0, -13, -11) True\n",
      "14 (0, 1, 0, 0, -1, 0, 0) True (-2, -2, 4) True\n",
      "10 (0, 1, 0, 0, -1, 0, -1) True (-5, -8, 1) True\n",
      "38 (0, -1, 0, 0, 0, 1, 0) True (4, -1, -3) True\n",
      "13 (0, -1, 0, 4, 0, 0, 0) True (7, -1, 30) True\n",
      "18 (0, 2, 0, -1, -1, 0, -1) True (-6, -4, -2) True\n",
      "4 (0, 1, 0, -1, 0, 0, -1) True (-4, -2, -6) True\n",
      "6 (0, -1, 0, 3, 0, 0, 0) True (5, -2, 21) True\n",
      "8 (0, 2, 0, -3, -1, 0, 0) True (-7, 0, -17) True\n",
      "15 (0, 2, 0, -2, -1, 0, 0) True (-5, 1, -8) True\n",
      "11 (0, 1, 0, -1, -1, 0, 1) True (-1, 3, -2) True\n",
      "7 (0, 1, 0, 0, 0, 0, -2) True (-5, -7, 0) True\n",
      "7 (0, 1, 0, -1, -1, 0, 0) True (-4, -3, -5) True\n",
      "34 (0, -1, 0, 0, 0, 1, -1) True (1, -7, -6) True\n",
      "43 (0, 0, -1, 0, 0, 1, -1) True (-9, -2, -1) True\n",
      "9 (0, 1, -1, 0, 0, 0, 0) True (-10, 5, 5) True\n",
      "2 (0, 0, -1, 1, 1, 0, 0) True (-6, 8, 10) True\n",
      "1 (0, 0, 1, 0, -1, 0, -1) True (5, -13, -4) True\n",
      "42 (0, 0, -2, 0, 1, 1, 0) True (-14, 11, 3) True\n",
      "40 (0, 0, -1, -1, 0, 1, 0) True (-8, 3, -7) True\n",
      "2 (0, 0, 1, 0, 0, 0, -1) True (8, -6, -2) True\n",
      "41 (0, 0, -2, 0, 0, 1, 0) True (-17, 4, 1) True\n",
      "1 (0, 0, -1, 1, 0, 0, 0) True (-9, 1, 8) True\n",
      "5 (0, 0, 1, 0, -1, 0, 0) True (8, -7, -1) True\n",
      "32 (0, -1, -1, 0, 0, 1, 0) True (-7, -1, -4) True\n",
      "7 (0, -1, -1, 4, 0, 0, 0) True (-4, -1, 29) True\n",
      "0 (0, -1, -1, 3, 0, 0, 0) True (-6, -2, 20) True\n",
      "6 (0, 1, 2, -3, 0, 0, 0) True (17, 2, -19) True\n",
      "5 (0, 0, 2, -1, 0, 0, 0) True (20, -1, -7) True\n",
      "0 (0, 0, -1, 1, -1, 0, 0) True (-12, -6, 6) True\n",
      "8 (0, 1, -1, 0, -1, 0, 0) True (-13, -2, 3) True\n",
      "3 (0, -1, 3, 0, 0, 0, 0) True (32, -5, -3) False\n",
      "1 (0, -1, 2, 0, 0, 0, 1) True (24, 1, -1) True\n",
      "4 (0, 1, -1, 0, -1, 0, -1) True (-16, -8, 0) True\n",
      "2 (0, 1, -2, 0, -1, 0, 0) True (-24, -2, 2) True\n",
      "3 (0, 1, -2, 0, 0, 0, 0) True (-21, 5, 4) True\n",
      "5 (0, 1, -1, 0, 0, 0, -1) True (-13, -1, 2) True\n",
      "3 (0, 0, 1, -1, 0, 0, 1) True (12, 5, -5) True\n",
      "35 (0, 0, -3, 0, 0, 1, 0) True (-28, 4, 0) True\n",
      "46 (0, 0, -1, 0, -1, 1, 0) True (-9, -3, 0) True\n",
      "4 (0, 0, 1, 0, -2, 0, 0) True (5, -14, -3) True\n",
      "9 (0, 1, 0, 0, -2, 0, -1) True (-8, -15, -1) True\n",
      "1 (0, 1, -2, 0, -2, 0, 0) True (-27, -9, 0) True\n",
      "12 (0, 1, 0, 0, -3, 0, 0) True (-8, -16, 0) True\n",
      "7 (0, 1, -1, 0, -2, 0, 0) True (-16, -9, 1) True\n",
      "13 (0, 1, 0, 0, -2, 0, 0) True (-5, -9, 2) True\n",
      "51 (0, 0, 0, 0, -2, 1, 0) True (-1, -10, -1) True\n",
      "47 (0, 0, -1, 0, 0, 1, 0) True (-6, 4, 2) True\n",
      "2 (0, 0, -1, 0, 0, 0, 2) True (-5, 12, 5) True\n",
      "0 (0, 0, -1, 0, 2, 0, 1) True (-2, 20, 6) True\n",
      "3 (0, 0, 1, 0, -3, 0, 0) True (2, -21, -5) True\n",
      "0 (0, 0, 0, -1, 3, 0, 1) True (10, 26, 0) True\n",
      "5 (0, 0, 1, 1, -4, 0, -1) True (-2, -33, -1) True\n",
      "8 (0, 0, 1, 1, -5, 0, 0) True (-2, -34, 0) True\n",
      "5 (0, 0, 0, 1, -2, 0, 0) True (-4, -13, 5) True\n",
      "3 (0, 0, 0, 1, -4, 0, 0) True (-10, -27, 1) True\n",
      "2 (0, 0, 1, 1, -3, 0, -2) True (-2, -32, -2) True\n",
      "2 (0, 0, 1, 0, -4, 0, 0) True (-1, -28, -7) True\n",
      "1 (0, 0, 1, 1, 0, 0, -3) True (4, -17, 1) True\n",
      "0 (0, 0, -1, -1, 1, 0, 3) True (-1, 24, 1) True\n",
      "0 (0, 0, -1, -2, 0, 0, 5) True (0, 28, -4) False\n",
      "3 (0, 0, -1, -1, 0, 0, 4) True (-1, 23, 2) True\n",
      "3 (0, 0, 1, 1, -2, 0, -2) True (1, -25, 0) True\n",
      "33 (0, 0, -1, -2, 0, 1, 0) True (-10, 2, -16) True\n",
      "23 (-1, 0, 0, -1, 0, 1, 0) True (0, -1, -11) True\n",
      "10 (1, 0, -1, -1, 0, 0, 0) True (-10, 3, -5) True\n",
      "13 (-2, 0, 1, 0, 0, 1, 0) True (10, -4, -6) True\n",
      "16 (1, 0, 0, -1, 0, 0, 0) True (1, 3, -4) True\n",
      "7 (-2, 0, 0, 0, 0, 1, 0) True (-1, -4, -7) True\n",
      "44 (2, 0, 0, 0, -2, 0, 0) True (0, -6, 6) True\n",
      "22 (1, 0, 0, 0, -1, 0, 0) True (0, -3, 3) True\n",
      "19 (1, 0, 1, 1, -1, 0, -4) True (1, -26, 1) True\n",
      "18 (1, 0, 0, 0, -1, 0, -1) True (-3, -9, 0) True\n",
      "15 (1, 0, 0, 0, 0, 0, -2) True (-3, -8, -1) True\n",
      "4 (0, 0, 1, 1, -1, 0, -2) True (4, -18, 2) True\n",
      "25 (-1, 0, -1, 0, 1, 1, 0) True (-6, 7, -1) True\n",
      "28 (-1, 0, -1, 0, 0, 1, 1) True (-6, 6, 0) True\n",
      "21 (1, 0, -1, 0, 0, 0, 1) True (-5, 10, 7) True\n",
      "63 (3, 0, -1, 0, 0, 0, 0) True (-2, 12, 14) True\n",
      "42 (2, 0, 0, 0, 0, 0, -1) True (3, 2, 7) True\n",
      "19 (1, 0, 0, 0, 0, 0, -1) True (0, -2, 2) True\n",
      "20 (1, 0, 0, 0, -3, 0, 0) True (-6, -17, -1) True\n",
      "20 (1, 0, -1, 0, 3, 0, 0) True (1, 25, 10) True\n",
      "21 (1, 0, 0, 0, -2, 0, 0) True (-3, -10, 1) True\n",
      "42 (2, 0, -1, 0, 2, 0, 0) True (1, 22, 13) True\n",
      "30 (-1, 0, 0, 0, 0, 1, 0) True (2, 0, -2) True\n",
      "41 (2, 0, -1, 0, 1, 0, 0) True (-2, 15, 11) True\n",
      "18 (1, 0, -1, 0, 1, 0, 0) True (-5, 11, 6) True\n",
      "17 (1, 0, -1, 0, 0, 0, 0) True (-8, 4, 4) True\n",
      "15 (1, 0, -1, 0, -2, 0, 0) True (-14, -10, 0) True\n",
      "2 (0, 0, -1, -1, -1, 0, 4) True (-4, 16, 0) True\n",
      "19 (1, 0, 0, -1, -1, 0, 1) True (1, 2, -3) True\n",
      "38 (2, 0, 0, -1, -1, 0, 0) True (1, 0, -1) True\n",
      "15 (1, 0, 0, -1, -1, 0, 0) True (-2, -4, -6) True\n",
      "24 (-1, 0, -1, 0, 0, 1, 0) True (-9, 0, -3) True\n",
      "29 (-1, 0, 0, 0, -1, 1, 0) True (-1, -7, -4) True\n",
      "26 (-1, 0, 0, 0, 0, 1, -1) True (-1, -6, -5) True\n",
      "13 (1, 0, -1, 0, 0, 0, -1) True (-11, -2, 1) True\n",
      "5 (0, 0, 1, 1, 0, 0, -2) True (7, -11, 4) True\n",
      "3 (1, -1, -1, 0, 1, 0, 0) True (-6, 6, 0) True\n",
      "4 (1, -1, 0, 0, 0, 0, -1) True (-1, -7, -4) True\n",
      "2 (1, -1, -1, 0, 0, 0, 0) True (-9, -1, -2) True\n",
      "4 (0, 0, 0, 1, -3, 0, 0) True (-7, -20, 3) True\n",
      "2 (0, 0, 1, -1, 3, 0, 0) True (18, 20, -2) True\n",
      "10 (1, 0, -2, 0, -1, 0, 0) True (-22, -3, 1) True\n",
      "16 (1, 0, -1, 0, -1, 0, 0) True (-11, -3, 2) True\n",
      "9 (1, -1, 0, 0, 1, 0, 0) True (5, 6, 1) True\n",
      "8 (1, -1, 0, 0, 0, 0, 0) True (2, -1, -1) True\n",
      "7 (1, 0, -2, 0, 0, 0, -1) True (-22, -2, 0) True\n",
      "4 (1, 0, -3, 0, -1, 0, 0) True (-33, -3, 0) True\n",
      "11 (1, 0, -2, 0, 0, 0, 0) True (-19, 4, 3) True\n",
      "5 (1, 0, -3, 0, 0, 0, 0) True (-30, 4, 2) True\n",
      "1 (-1, 0, 4, 0, 0, 0, 0) True (41, -4, -1) False\n",
      "9 (1, 0, 0, -2, 0, 0, 0) True (-1, 2, -13) True\n",
      "12 (1, 0, 0, -1, 0, 0, -1) True (-2, -3, -7) True\n",
      "8 (1, 0, 1, -3, 0, 0, 0) True (8, 1, -21) True\n",
      "2 (1, 0, 0, -3, 0, 0, 0) True (-3, 1, -22) True\n",
      "1 (1, -1, 0, -1, 0, 0, 0) True (0, -2, -10) True\n",
      "1 (1, 0, 1, -4, 0, 0, 0) True (6, 0, -30) True\n",
      "5 (-1, 0, 0, 4, 0, 0, 0) True (5, 0, 31) True\n",
      "4 (-2, 0, -1, 8, 0, 0, 0) True (-1, 0, 61) False\n",
      "0 (-1, -2, 0, 0, 0, 1, 0) True (0, -10, -14) True\n",
      "7 (-1, 2, 0, 0, 0, 0, 0) True (-1, 6, 7) True\n",
      "7 (1, -1, 0, 0, -1, 0, 0) True (-1, -8, -3) True\n",
      "15 (-1, -1, 0, 0, 0, 1, 0) True (1, -5, -8) True\n",
      "1 (0, 0, 1, -1, 2, 0, 0) True (15, 13, -4) True\n",
      "2 (0, 0, 0, 1, -5, 0, 0) True (-13, -34, -1) True\n",
      "52 (0, 0, 0, 0, -1, 1, 0) True (2, -3, 1) True\n",
      "6 (0, 0, 1, 1, -3, 0, -1) True (1, -26, 1) True\n"
     ]
    }
   ],
   "source": [
    "for i in vecs: print  c*i, i, let(i,u), A*i, let(A*i,b)"
   ]
  },
  {
   "cell_type": "code",
   "execution_count": 26,
   "metadata": {
    "collapsed": false
   },
   "outputs": [
    {
     "name": "stdout",
     "output_type": "stream",
     "text": [
      "[True, True, True, True, True, True, True, True, True, True, True, True, True, True, True, True, True, True, True, True, True, True, True, True, True, True, True, True, True, True, True, True, True, True, True, True, True, True, True, True, True, True, True, True, True, True, True, True, True, True, True, True, True, True, True, True, True, True, True, True, True, True, True, True, True, True, True, True, True, True, True, False, True, True, True, True, True, True, True, True, True, True, True, True, True, True, True, True, True, True, True, True, False, False, True, True, False, False, True, True, False, True, True, True, True, True, True, True, True, True, True, True, True, True, True, True, True, True, True, True, True, True, True, True, True, True, True, True, True, True, True, True, True, True, True, True, True, True, True, True, True, True, True, True, False, False, True, True, True, True, True, True, True, True, True, False, True, True, True, False, True, True, True, True]\n"
     ]
    }
   ],
   "source": [
    "print g.eligible"
   ]
  },
  {
   "cell_type": "code",
   "execution_count": 204,
   "metadata": {
    "collapsed": false
   },
   "outputs": [],
   "source": [
    "load(\"truncated.py\")"
   ]
  },
  {
   "cell_type": "code",
   "execution_count": 205,
   "metadata": {
    "collapsed": false
   },
   "outputs": [
    {
     "name": "stdout",
     "output_type": "stream",
     "text": [
      "3084 criterion 1, 0 criterion 2, 4836 reductions, 6792 non eligible, 349 equalities\n",
      " "
     ]
    }
   ],
   "source": [
    "%%prun\n",
    "\n",
    "A = matrix(ZZ, [[3,1,11,2,3,5,3], [4, 5, 0, 1, 7,4, 6], [5,6,1,9,2,3,3]])\n",
    "c = vector(ZZ, [23,15,6,7,1,53,4])\n",
    "b = vector(ZZ, [31,27,38])\n",
    "u = vector(ZZ, 7*[1])\n",
    "vects, g = bubu(A,b,c,u)"
   ]
  },
  {
   "cell_type": "code",
   "execution_count": 206,
   "metadata": {
    "collapsed": false
   },
   "outputs": [
    {
     "data": {
      "text/plain": [
       "153"
      ]
     },
     "execution_count": 206,
     "metadata": {},
     "output_type": "execute_result"
    }
   ],
   "source": [
    "len(vects)"
   ]
  },
  {
   "cell_type": "code",
   "execution_count": null,
   "metadata": {
    "collapsed": false
   },
   "outputs": [],
   "source": []
  },
  {
   "cell_type": "code",
   "execution_count": 207,
   "metadata": {
    "collapsed": false
   },
   "outputs": [
    {
     "name": "stdout",
     "output_type": "stream",
     "text": [
      "[True, True, True, True, True, True, True, True, False, True, True, True, True, True, True, True, False, False, False, True, True, False, True, True, False, True, False, False, True, True, False, True, True, False, False, False, False, False, False, True, False, False, False, False, True, False, False, True, True, False, False, False, False, False, False, False, True, True, True, False, True, True, True, False, False, True, False, True, False, False, False, True, True, False, False, True, True, True, True, True, True, True, True, False, False, True, True, True, False, True, True, True, True, True, True, True, False, True, True, True, True, False, False, True, True, False, False, True, True, True, True, True, False, True, False, False, True, False, False, False, False, False, True, False, True, False, True, False, False, False, False, False, False, False, False, False, False, False, False, False, False, True, False, False, False, False, False, False, True, False, False, False, False]\n"
     ]
    }
   ],
   "source": [
    "print g.eligible"
   ]
  },
  {
   "cell_type": "code",
   "execution_count": 208,
   "metadata": {
    "collapsed": false
   },
   "outputs": [
    {
     "data": {
      "text/plain": [
       "((1, 2, 0, 1, 0, 0, 0, 0, 1, 2, 0, 0, 0, 2, 0, 0, 9, 0, 1, 0, 1, 1, 0, 0, 0, 0, 0, 0, 0, 0, 0, 3, 1, 3, 2, 247, 0, 0, 0, 0, 51, 0, 2, 1, 0, 0, 2, 2, 0, 4, 7, 0, 0, 0, 0, 0, 1, 1, 0, 3, 0, 0, 0, 0, 0, 4, 0, 7, 0, 0, 4, 0, 0, 3, 0, 0, 12, 2, 0, 0, 1, 6, 0, 1, 0, 10, 32, 0, 0, 0, 0, 0, 0, 2, 0, 1, 0, 3, 3, 0, 0, 0, 0, 0, 1, 0, 0, 0, 0, 2, 3, 0, 0, 0, 0, 1, 1, 0, 0, 5, 0, 1, 10, 0, 0, 2, 0, 1, 1, 10, 0, 2, 0, 0, 0, 0, 1, 0, 0, 0, 1, 0, 32, 0, 1, 0, 1, 3, 0, 0, 0, 1, 0, 0, 9, 10, 0, 0, 0, 0, 0, 1, 0, 0, 0, 0, 0, 0, 4, 0, 1, 5, 0, 0, 1, 0, 2, 1, 0, 2, 2, 0, 0, 0, 0, 3, 1, 2, 1, 0, 1, 1, 0, 2, 0, 1, 0, 1, 0, 0, 0, 16, 0, 1, 0, 1, 0, 0, 1, 0, 0, 0, 0, 0, 0, 7, 1, 0, 0, 0, 0, 0, 0, 0, 0, 0, 2, 1, 0, 13, 0, 1, 0, 0, 1, 0, 1, 0, 7, 1, 0, 0, 0, 0, 0, 1, 1, 2, 2, 0, 0, 0, 43, 5, 7, 7, 0, 1, 0, 4, 1, 0, 5, 1, 0, 0, 2, 2, 0, 0, 0, 4, 1, 0, 0, 0, 0, 4, 0, 0, 0, 0, 0, 1, 0, 2, 0, 1, 0, 0, 0, 0, 0, 0, 0, 0, 0, 0, 0, 2, 0, 0, 1, 0, 0, 0, 0, 1, 0, 0, 1, 2, 0, 2, 0, 0, 0, 0, 0, 10, 0, 0, 0, 0, 3, 0, 0, 0, 10, 0, 1, 0, 0, 0, 0, 0, 0, 1, 1, 0, 0, 0, 3, 2, 0, 0, 1, 1, 2, 0, 0, 0, 1, 0, 0, 2, 1, 2, 0, 1, 1, 0, 0, 0, 0, 1, 2, 1, 0, 0, 0, 0, 0, 7, 1, 0, 0, 0, 0, 0, 0, 0, 0, 8, 0, 0, 0, 0, 1, 0, 0, 4, 0, 1, 4, 0, 0, 0, 0, 0, 0, 0, 0, 0, 0, 1, 0, 0, 1, 1, 1, 1, 3, 0, 0, 0, 1, 0, 4, 0, 1, 0, 0, 1, 0, 1, 0, 6, 1, 0, 1, 1, 0, 0, 0, 0, 0, 0, 0, 0, 2, 1, 1, 0, 1, 13, 0, 0, 5, 1, 0, 0, 1, 0, 0, 0, 0, 1, 0, 0, 0, 0, 0, 0, 1, 1, 0, 0, 0, 0, 0, 0, 1, 10, 1, 1, 0, 0, 0, 0, 0, 0, 0, 1, 6, 0, 0, 1, 0, 0, 0, 2, 1, 0, 0, 2, 0, 1, 0, 1),\n",
       " (0, 0, 1, 0, 1, 0, 2, 3, 0, 0, 3, 0, 0, 0, 53, 1, 0, 14, 0, 2, 0, 0, 0, 0, 0, 1, 0, 1, 2, 1, 0, 0, 0, 0, 0, 0, 1, 0, 0, 1, 0, 2, 0, 0, 0, 0, 0, 0, 1, 0, 0, 0, 0, 1, 0, 1, 0, 0, 0, 0, 14, 0, 3, 1, 0, 0, 3, 0, 2, 0, 0, 0, 0, 0, 0, 3, 0, 0, 1, 1, 0, 0, 3, 0, 1, 0, 0, 0, 0, 5, 0, 3, 0, 0, 1, 0, 28, 0, 0, 0, 14, 10, 1, 0, 0, 0, 1, 0, 1, 0, 0, 1, 1, 0, 3, 0, 0, 1, 0, 0, 0, 0, 0, 2, 0, 0, 0, 0, 0, 0, 1, 0, 2, 2, 1, 1, 0, 3, 1, 2, 0, 0, 0, 3, 0, 0, 0, 0, 1, 0, 0, 0, 3, 0, 0, 0, 1, 1, 0, 0, 0, 0, 1, 3, 3, 2, 0, 1, 0, 0, 0, 0, 1, 1, 0, 2, 0, 0, 3, 0, 0, 0, 1, 7, 1, 0, 0, 0, 0, 1, 0, 0, 0, 0, 66, 0, 1, 0, 0, 0, 0, 0, 1, 0, 0, 0, 1, 0, 0, 9, 4, 10, 0, 8, 0, 0, 0, 0, 0, 0, 1, 0, 0, 5, 1, 0, 0, 0, 11, 0, 0, 0, 1, 0, 0, 0, 0, 0, 0, 0, 5, 0, 0, 135, 1, 0, 0, 0, 0, 0, 0, 1, 0, 0, 0, 0, 0, 0, 1, 0, 0, 1, 0, 0, 2, 0, 0, 0, 0, 2, 8, 0, 0, 1, 3, 0, 0, 0, 1, 0, 0, 2, 7, 0, 1, 0, 1, 0, 0, 1, 8, 1, 3, 1, 1, 0, 2, 4, 1, 0, 1, 0, 0, 0, 0, 0, 1, 0, 0, 2, 0, 0, 1, 0, 1, 0, 1, 1, 1, 0, 4, 1, 1, 0, 0, 1, 1, 0, 0, 2, 0, 0, 0, 1, 1, 1, 1, 0, 0, 1, 1, 1, 0, 0, 1, 0, 0, 0, 0, 0, 2, 0, 0, 2, 2, 0, 0, 0, 1, 0, 0, 3, 47, 1, 1, 0, 0, 0, 1, 1, 1, 1, 6, 0, 0, 7, 9, 0, 1, 0, 2, 1, 0, 0, 1, 0, 2, 6, 0, 28, 0, 0, 1, 0, 0, 3, 2, 3, 5, 9, 1, 1, 1, 1, 1, 0, 1, 4, 0, 0, 0, 0, 0, 0, 1, 0, 0, 1, 0, 0, 0, 2, 1, 0, 0, 0, 0, 0, 0, 1, 0, 0, 0, 0, 111, 2, 1, 1, 2, 4, 0, 0, 0, 0, 0, 0, 3, 0, 0, 0, 1, 8, 0, 1, 0, 0, 0, 0, 1, 1, 0, 0, 1, 0, 0, 0, 1, 0, 3, 5, 0, 1, 0, 0, 0, 0, 0, 1, 3, 2, 0, 1, 1, 0, 0, 1, 1, 0, 1, 1, 0, 0, 0, 0, 1, 0, 1, 0, 10, 0))"
      ]
     },
     "execution_count": 208,
     "metadata": {},
     "output_type": "execute_result"
    }
   ],
   "source": [
    "pm_split(vvv[0])"
   ]
  },
  {
   "cell_type": "code",
   "execution_count": null,
   "metadata": {
    "collapsed": true
   },
   "outputs": [],
   "source": []
  }
 ],
 "metadata": {
  "kernelspec": {
   "display_name": "SageMath 7.5.1",
   "language": "",
   "name": "sagemath"
  },
  "language_info": {
   "codemirror_mode": {
    "name": "ipython",
    "version": 2
   },
   "file_extension": ".py",
   "mimetype": "text/x-python",
   "name": "python",
   "nbconvert_exporter": "python",
   "pygments_lexer": "ipython2",
   "version": "2.7.13"
  }
 },
 "nbformat": 4,
 "nbformat_minor": 0
}

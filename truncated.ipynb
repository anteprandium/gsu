{
 "cells": [
  {
   "cell_type": "code",
   "execution_count": 297,
   "metadata": {
    "collapsed": false
   },
   "outputs": [],
   "source": [
    "def random_vvv(l,n):\n",
    "    return [vector(ZZ,[ZZ.random_element() for i in xrange(l)]) for j in xrange(n)]\n",
    "\n",
    "def random_lll(l,n):\n",
    "    return [ [ZZ.random_element() for i in xrange(l)] for j in xrange(n)]\n",
    "\n",
    "longitud = 500\n",
    "numero = 100\n",
    "\n",
    "xxx = random_lll(longitud, numero)\n",
    "yyy = random_lll(longitud, numero)\n",
    "zzz = [vector(ZZ,z) for z in xxx]\n",
    "ttt = [vector(ZZ,z) for z in yyy]\n",
    "\n",
    "#vvv = random_vvv(5000, 1000)\n",
    "#yyy = random_vvv(5000, 1000)"
   ]
  },
  {
   "cell_type": "code",
   "execution_count": 401,
   "metadata": {
    "collapsed": false
   },
   "outputs": [],
   "source": [
    "reset()\n",
    "load(\"truncated.py\")"
   ]
  },
  {
   "cell_type": "code",
   "execution_count": 402,
   "metadata": {
    "collapsed": false
   },
   "outputs": [
    {
     "data": {
      "text/plain": [
       "(\n",
       "[ 3  1 11  2  3  5  3]                                        \n",
       "[ 4  5  0  1  7  4  6]                                        \n",
       "[ 5  6  1  9  2  3  3], (31, 27, 38), (23, 15, 6, 7, 1, 53, 4),\n",
       "\n",
       "(38, 38, 38, 38, 38, 38, 38)\n",
       ")"
      ]
     },
     "execution_count": 402,
     "metadata": {},
     "output_type": "execute_result"
    }
   ],
   "source": [
    "A1, b1, c1, u1"
   ]
  },
  {
   "cell_type": "code",
   "execution_count": 403,
   "metadata": {
    "collapsed": false,
    "scrolled": true
   },
   "outputs": [
    {
     "name": "stdout",
     "output_type": "stream",
     "text": [
      "3496 criterion 1, 689 criterion 2, 5774 criterion 3, 83 non eligible, 14 equalities, 384 reductions, of which 246 to zero\n"
     ]
    }
   ],
   "source": [
    "vecs, g = bubu(A1,b1,c1,vector(ZZ, 7*[1]))\n"
   ]
  },
  {
   "cell_type": "code",
   "execution_count": 404,
   "metadata": {
    "collapsed": false
   },
   "outputs": [
    {
     "data": {
      "text/plain": [
       "145"
      ]
     },
     "execution_count": 404,
     "metadata": {},
     "output_type": "execute_result"
    }
   ],
   "source": [
    "len(vecs)"
   ]
  },
  {
   "cell_type": "code",
   "execution_count": 405,
   "metadata": {
    "collapsed": false
   },
   "outputs": [],
   "source": [
    "g.self_reduce()"
   ]
  },
  {
   "cell_type": "code",
   "execution_count": 406,
   "metadata": {
    "collapsed": false
   },
   "outputs": [
    {
     "data": {
      "text/plain": [
       "114"
      ]
     },
     "execution_count": 406,
     "metadata": {},
     "output_type": "execute_result"
    }
   ],
   "source": [
    "len(g.vectors)"
   ]
  },
  {
   "cell_type": "markdown",
   "metadata": {},
   "source": [
    "# Re-test"
   ]
  },
  {
   "cell_type": "code",
   "execution_count": 407,
   "metadata": {
    "collapsed": false
   },
   "outputs": [
    {
     "name": "stdout",
     "output_type": "stream",
     "text": [
      "133 criterion 1, 10 criterion 2, 99 criterion 3, 0 non eligible, 0 equalities, 34 reductions, of which 15 to zero\n"
     ]
    }
   ],
   "source": [
    "reset()\n",
    "load(\"truncated.py\")\n",
    "A = matrix(ZZ,[[999,  18, 625, 416, 773]])\n",
    "b = vector(ZZ, [1415])\n",
    "c = vector(ZZ, (252, 537, 965, 237, 724))\n",
    "u = vector(ZZ,5*[1])\n",
    "\n",
    "vv, g = bubu(A,b,c,u)"
   ]
  },
  {
   "cell_type": "code",
   "execution_count": 408,
   "metadata": {
    "collapsed": false
   },
   "outputs": [
    {
     "data": {
      "text/plain": [
       "[(1, 0, 0, 0, 0),\n",
       " (0, 1, 0, 0, 0),\n",
       " (0, 0, 1, 0, 0),\n",
       " (0, 0, 0, 1, 0),\n",
       " (0, 0, 0, 0, 1),\n",
       " (0, 0, 0, -1, 1),\n",
       " (0, 0, 0, -2, 1),\n",
       " (0, 0, 1, 1, -1),\n",
       " (0, 0, 1, 0, -1),\n",
       " (0, 1, 0, -1, 0),\n",
       " (-1, 0, 1, 0, 0),\n",
       " (0, 1, 0, 1, -1),\n",
       " (-1, 0, 0, 0, 1),\n",
       " (0, -1, 0, 0, 1),\n",
       " (0, 2, 0, 0, -1),\n",
       " (0, 0, 1, -1, 0),\n",
       " (0, 0, 1, -2, 0),\n",
       " (0, -1, 1, -1, 0),\n",
       " (1, 0, 0, -1, 0),\n",
       " (-1, 0, 0, 2, 0),\n",
       " (-1, 1, 0, 1, 0),\n",
       " (0, -1, 1, 0, 0),\n",
       " (0, 2, -1, 0, 0),\n",
       " (-1, 1, 0, 0, 0)]"
      ]
     },
     "execution_count": 408,
     "metadata": {},
     "output_type": "execute_result"
    }
   ],
   "source": [
    "g.vectors"
   ]
  },
  {
   "cell_type": "code",
   "execution_count": 409,
   "metadata": {
    "collapsed": false
   },
   "outputs": [
    {
     "data": {
      "text/plain": [
       "24"
      ]
     },
     "execution_count": 409,
     "metadata": {},
     "output_type": "execute_result"
    }
   ],
   "source": [
    "len(g.vectors)"
   ]
  },
  {
   "cell_type": "code",
   "execution_count": 410,
   "metadata": {
    "collapsed": false
   },
   "outputs": [
    {
     "data": {
      "text/plain": [
       "22"
      ]
     },
     "execution_count": 410,
     "metadata": {},
     "output_type": "execute_result"
    }
   ],
   "source": [
    "GG=load('objeto')\n",
    "len(GG)"
   ]
  },
  {
   "cell_type": "code",
   "execution_count": 411,
   "metadata": {
    "collapsed": false
   },
   "outputs": [
    {
     "name": "stdout",
     "output_type": "stream",
     "text": [
      "[-1  0  0  0  0]\n",
      "[-1  0  0  1  0]\n",
      "[ 0 -2  0  0  1]\n",
      "[ 0 -2  1  0  0]\n",
      "[ 0 -1  0 -1  1]\n",
      "[ 0 -1  0  0  0]\n",
      "[ 0 -1  0  1  0]\n",
      "[ 0  0 -1  0  0]\n",
      "[ 0  0 -1  0  1]\n",
      "[ 0  0 -1  1  0]\n",
      "[ 0  0 -1  2  0]\n",
      "[ 0  0  0 -1  0]\n",
      "[ 0  0  0  0 -1]\n",
      "[ 0  0  0  1 -1]\n",
      "[ 0  0  0  2 -1]\n",
      "[ 0  1 -1  0  0]\n",
      "[ 0  1 -1  1  0]\n",
      "[ 0  1  0  0 -1]\n",
      "[ 1 -1  0  0  0]\n",
      "[ 1  0 -1  0  0]\n",
      "[ 1  0  0 -2  0]\n",
      "[ 1  0  0  0 -1]\n"
     ]
    }
   ],
   "source": [
    "print matrix(GG).str()\n"
   ]
  },
  {
   "cell_type": "code",
   "execution_count": 412,
   "metadata": {
    "collapsed": false
   },
   "outputs": [
    {
     "name": "stdout",
     "output_type": "stream",
     "text": [
      "(-1, 1, 0, 1, 0)\n",
      "(0, 0, 1, 1, -1)\n"
     ]
    }
   ],
   "source": [
    "for z in sorted(g.vectors):\n",
    "    if not (z in GG or -z in GG): print z"
   ]
  },
  {
   "cell_type": "code",
   "execution_count": 413,
   "metadata": {
    "collapsed": false
   },
   "outputs": [],
   "source": [
    "for z in GG:\n",
    "    if not (z in g.vectors or -z in g.vectors): print copy(z), g.reduce(z)"
   ]
  },
  {
   "cell_type": "code",
   "execution_count": 414,
   "metadata": {
    "collapsed": false
   },
   "outputs": [
    {
     "data": {
      "text/plain": [
       "22"
      ]
     },
     "execution_count": 414,
     "metadata": {},
     "output_type": "execute_result"
    }
   ],
   "source": [
    "g.self_reduce()\n",
    "len(g.vectors)"
   ]
  },
  {
   "cell_type": "code",
   "execution_count": 415,
   "metadata": {
    "collapsed": false
   },
   "outputs": [],
   "source": [
    "for z in GG:\n",
    "    if not (z in g.vectors or -z in g.vectors): \n",
    "        print copy(z), g.reduce(z)"
   ]
  },
  {
   "cell_type": "code",
   "execution_count": null,
   "metadata": {
    "collapsed": true
   },
   "outputs": [],
   "source": []
  },
  {
   "cell_type": "code",
   "execution_count": 400,
   "metadata": {
    "collapsed": false
   },
   "outputs": [],
   "source": [
    "reset()\n",
    "load(\"truncated.py\")"
   ]
  },
  {
   "cell_type": "code",
   "execution_count": 325,
   "metadata": {
    "collapsed": false
   },
   "outputs": [
    {
     "name": "stdout",
     "output_type": "stream",
     "text": [
      "2442 criterion 1, 447 criterion 2, 3734 criterion 3, 108 non eligible, 10 equalities, 280 reductions, of which 168 to zero\n"
     ]
    }
   ],
   "source": [
    "#%%prun\n",
    "\n",
    "A1 = matrix(ZZ, [[3,1,11,2,3,5,3], [4, 5, 0, 1, 7,4, 6], [5,6,1,9,2,3,3]])\n",
    "c1 = vector(ZZ, [23,15,6,7,1,53,4])\n",
    "b1 = vector(ZZ, [10,11,12])\n",
    "u1 = vector(ZZ, 7*[1])\n",
    "vects, g = bubu(A1,b1,c1,u1)"
   ]
  },
  {
   "cell_type": "code",
   "execution_count": 326,
   "metadata": {
    "collapsed": false
   },
   "outputs": [
    {
     "data": {
      "text/plain": [
       "119"
      ]
     },
     "execution_count": 326,
     "metadata": {},
     "output_type": "execute_result"
    }
   ],
   "source": [
    "len(vects)"
   ]
  },
  {
   "cell_type": "code",
   "execution_count": null,
   "metadata": {
    "collapsed": true
   },
   "outputs": [],
   "source": []
  },
  {
   "cell_type": "code",
   "execution_count": 327,
   "metadata": {
    "collapsed": false
   },
   "outputs": [],
   "source": [
    "reset()\n",
    "load(\"truncated.py\")"
   ]
  },
  {
   "cell_type": "code",
   "execution_count": 328,
   "metadata": {
    "collapsed": false
   },
   "outputs": [],
   "source": [
    "c1=vector(ZZ,(4, 1, 1, 3, 4, 2, 2, 2, 2, 3, 1, 3))\n",
    "A1=matrix(ZZ, [[1, 0, 0, 3, 1, 3, 3, 2, 1, 1, 3, 3],\n",
    "               [0, 3, 2, 0, 3, 2, 2, 2, 3, 0, 1, 2],\n",
    "               [0, 1, 2, 2, 1, 2, 0, 1, 2, 0, 3, 3],\n",
    "                [3, 0, 1, 2, 0, 0, 1, 1, 0, 1, 3, 1]])\n",
    "b1=vector(ZZ,(17, 2, 13, 9))\n",
    "u1=vector(ZZ,(1, 1, 1, 1, 1, 1, 1, 1, 1, 1, 1, 1))\n",
    "#v, g = bubu(A1,b1,c1,u1)\n",
    "\n"
   ]
  },
  {
   "cell_type": "code",
   "execution_count": 329,
   "metadata": {
    "collapsed": false
   },
   "outputs": [],
   "source": [
    "reset()\n",
    "load(\"truncated.py\")\n",
    "#v, g = bubu(B,b2,c2,u2)\n"
   ]
  },
  {
   "cell_type": "markdown",
   "metadata": {
    "collapsed": true
   },
   "source": [
    "## Ejemplo de Ucha"
   ]
  },
  {
   "cell_type": "code",
   "execution_count": 347,
   "metadata": {
    "collapsed": false
   },
   "outputs": [],
   "source": [
    "def load_42_matrix(fname):\n",
    "    \"\"\"docstring for load_42_matrix\"\"\"\n",
    "    with open(fname) as f:\n",
    "        s=f.read().splitlines()\n",
    "    return [line_to_list(l) for l in s[1:]]\n",
    "def line_to_list(s):\n",
    "    \"\"\"docstring for line_to_list\"\"\"\n",
    "    return [Integer(i) for i in s.strip().split()]\n",
    "\n",
    "Ap = matrix(matrix(ZZ, load_42_matrix(\"ejemploucha/ejemplosoto.mat\"))[0][:5])\n",
    "cp = -vector(ZZ, load_42_matrix(\"ejemploucha/ejemplosoto.cost\")[0])[:5]\n",
    "zsol = vector(ZZ,load_42_matrix(\"ejemploucha/ejemplosoto.zsol\")[0])\n",
    "\n",
    "b = vector(ZZ,[1415])\n",
    "u = vector(ZZ, 5*[1])"
   ]
  },
  {
   "cell_type": "code",
   "execution_count": 348,
   "metadata": {
    "collapsed": false
   },
   "outputs": [
    {
     "data": {
      "text/plain": [
       "(252, 537, 965, 237, 724, 0, 0, 0, 0, 0, 0)"
      ]
     },
     "execution_count": 348,
     "metadata": {},
     "output_type": "execute_result"
    }
   ],
   "source": [
    "\n",
    "-vector(ZZ, load_42_matrix(\"ejemploucha/ejemplosoto.cost\")[0])"
   ]
  },
  {
   "cell_type": "code",
   "execution_count": 349,
   "metadata": {
    "collapsed": false
   },
   "outputs": [
    {
     "data": {
      "text/plain": [
       "[999  18 625 416 773   0   0   0   0   0   1]\n",
       "[  1   0   0   0   0   1   0   0   0   0   0]\n",
       "[  0   1   0   0   0   0   1   0   0   0   0]\n",
       "[  0   0   1   0   0   0   0   1   0   0   0]\n",
       "[  0   0   0   1   0   0   0   0   1   0   0]\n",
       "[  0   0   0   0   1   0   0   0   0   1   0]"
      ]
     },
     "execution_count": 349,
     "metadata": {},
     "output_type": "execute_result"
    }
   ],
   "source": [
    "AAA = matrix(ZZ, load_42_matrix(\"ejemploucha/ejemplosoto.mat\"))\n",
    "AAA"
   ]
  },
  {
   "cell_type": "code",
   "execution_count": 350,
   "metadata": {
    "collapsed": false
   },
   "outputs": [
    {
     "data": {
      "text/plain": [
       "(1415, 1, 1, 1, 1, 1)"
      ]
     },
     "execution_count": 350,
     "metadata": {},
     "output_type": "execute_result"
    }
   ],
   "source": [
    "AAA*zsol"
   ]
  },
  {
   "cell_type": "code",
   "execution_count": 351,
   "metadata": {
    "collapsed": false
   },
   "outputs": [
    {
     "data": {
      "text/plain": [
       "([999  18 625 416 773],\n",
       " (252, 537, 965, 237, 724),\n",
       " (0, 0, 0, 0, 0, 1, 1, 1, 1, 1, 1415))"
      ]
     },
     "execution_count": 351,
     "metadata": {},
     "output_type": "execute_result"
    }
   ],
   "source": [
    "Ap, cp, zsol"
   ]
  },
  {
   "cell_type": "code",
   "execution_count": 352,
   "metadata": {
    "collapsed": false
   },
   "outputs": [],
   "source": [
    "GG = matrix(ZZ, load_42_matrix(\"ejemploucha/ejemplosoto.gro\"))"
   ]
  },
  {
   "cell_type": "code",
   "execution_count": 353,
   "metadata": {
    "collapsed": false
   },
   "outputs": [
    {
     "data": {
      "text/plain": [
       "[-1  0  0  0  0]\n",
       "[-1  0  0  1  0]\n",
       "[ 0 -1  0 -1  1]\n",
       "[ 0 -1  0  0  0]\n",
       "[ 0 -1  0  1  0]\n",
       "[ 0  0 -1  0  0]\n",
       "[ 0  0 -1  0  1]\n",
       "[ 0  0 -1  1  0]\n",
       "[ 0  0  0 -1  0]\n",
       "[ 0  0  0  0 -1]\n",
       "[ 0  0  0  1 -1]\n",
       "[ 0  1 -1  0  0]\n",
       "[ 0  1 -1  1  0]\n",
       "[ 0  1  0  0 -1]\n",
       "[ 1 -1  0  0  0]\n",
       "[ 1  0 -1  0  0]\n",
       "[ 1  0  0  0 -1]"
      ]
     },
     "execution_count": 353,
     "metadata": {},
     "output_type": "execute_result"
    }
   ],
   "source": [
    "gg = GG.submatrix(0,0,ncols=5)\n",
    "gg"
   ]
  },
  {
   "cell_type": "code",
   "execution_count": 354,
   "metadata": {
    "collapsed": false
   },
   "outputs": [
    {
     "data": {
      "text/plain": [
       "(17, 5)"
      ]
     },
     "execution_count": 354,
     "metadata": {},
     "output_type": "execute_result"
    }
   ],
   "source": [
    "gg.dimensions()"
   ]
  },
  {
   "cell_type": "code",
   "execution_count": 355,
   "metadata": {
    "collapsed": true
   },
   "outputs": [],
   "source": [
    "load(\"truncated.py\")"
   ]
  },
  {
   "cell_type": "code",
   "execution_count": 356,
   "metadata": {
    "collapsed": false
   },
   "outputs": [
    {
     "name": "stdout",
     "output_type": "stream",
     "text": [
      "74 criterion 1, 9 criterion 2, 72 criterion 3, 8 non eligible, 0 equalities, 27 reductions, of which 12 to zero\n"
     ]
    }
   ],
   "source": [
    "\n",
    "vecs, g = bubu(Ap,b,cp,u)\n",
    "\n"
   ]
  },
  {
   "cell_type": "code",
   "execution_count": 357,
   "metadata": {
    "collapsed": false
   },
   "outputs": [
    {
     "data": {
      "text/plain": [
       "[(1, 0, 0, 0, 0),\n",
       " (0, 1, 0, 0, 0),\n",
       " (0, 0, 1, 0, 0),\n",
       " (0, 0, 0, 1, 0),\n",
       " (0, 0, 0, 0, 1),\n",
       " (0, 0, 0, -1, 1),\n",
       " (0, 0, 1, 1, -1),\n",
       " (0, 1, -1, -1, 1),\n",
       " (-1, 0, 1, 0, 0),\n",
       " (0, 1, 0, 1, -1),\n",
       " (-1, 0, 0, 0, 1),\n",
       " (0, 0, 1, 0, -1),\n",
       " (0, -1, 0, 0, 1),\n",
       " (0, 0, 1, -1, 0),\n",
       " (0, -1, 1, -1, 0),\n",
       " (0, 1, 0, -1, 0),\n",
       " (1, 0, 0, -1, 0),\n",
       " (-1, 1, 0, 1, 0),\n",
       " (0, -1, 1, 0, 0),\n",
       " (-1, 1, 0, 0, 0)]"
      ]
     },
     "execution_count": 357,
     "metadata": {},
     "output_type": "execute_result"
    }
   ],
   "source": [
    "vecs"
   ]
  },
  {
   "cell_type": "code",
   "execution_count": 358,
   "metadata": {
    "collapsed": false
   },
   "outputs": [
    {
     "data": {
      "text/plain": [
       "20"
      ]
     },
     "execution_count": 358,
     "metadata": {},
     "output_type": "execute_result"
    }
   ],
   "source": [
    "len(g.vectors)"
   ]
  },
  {
   "cell_type": "code",
   "execution_count": 359,
   "metadata": {
    "collapsed": false
   },
   "outputs": [
    {
     "name": "stdout",
     "output_type": "stream",
     "text": [
      "6 (0, 0, 1, 1, -1)\n",
      "7 (0, 1, -1, -1, 1)\n",
      "17 (-1, 1, 0, 1, 0)\n"
     ]
    }
   ],
   "source": [
    "for i,v in enumerate(vecs): \n",
    "    if not (v in gg or -v in gg): \n",
    "        print i,v"
   ]
  },
  {
   "cell_type": "code",
   "execution_count": 360,
   "metadata": {
    "collapsed": true
   },
   "outputs": [],
   "source": [
    "for w in gg:\n",
    "    if not (w in vecs or -w in vecs): print w"
   ]
  },
  {
   "cell_type": "code",
   "execution_count": 361,
   "metadata": {
    "collapsed": true
   },
   "outputs": [],
   "source": [
    "g.self_reduce()"
   ]
  },
  {
   "cell_type": "code",
   "execution_count": 362,
   "metadata": {
    "collapsed": false
   },
   "outputs": [],
   "source": [
    "for w in gg:\n",
    "    if not (w in g.vectors or -w in g.vectors): print w"
   ]
  },
  {
   "cell_type": "code",
   "execution_count": 363,
   "metadata": {
    "collapsed": false
   },
   "outputs": [
    {
     "data": {
      "text/plain": [
       "(17, (17, 5))"
      ]
     },
     "execution_count": 363,
     "metadata": {},
     "output_type": "execute_result"
    }
   ],
   "source": [
    "len(g.vectors), gg.dimensions()"
   ]
  },
  {
   "cell_type": "code",
   "execution_count": null,
   "metadata": {
    "collapsed": true
   },
   "outputs": [],
   "source": []
  }
 ],
 "metadata": {
  "kernelspec": {
   "display_name": "SageMath 7.5.1",
   "language": "",
   "name": "sagemath"
  },
  "language_info": {
   "codemirror_mode": {
    "name": "ipython",
    "version": 2
   },
   "file_extension": ".py",
   "mimetype": "text/x-python",
   "name": "python",
   "nbconvert_exporter": "python",
   "pygments_lexer": "ipython2",
   "version": "2.7.13"
  }
 },
 "nbformat": 4,
 "nbformat_minor": 0
}
